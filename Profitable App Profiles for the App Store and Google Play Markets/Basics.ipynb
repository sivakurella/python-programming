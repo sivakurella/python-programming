{
 "cells": [
  {
   "cell_type": "markdown",
   "metadata": {},
   "source": [
    "# Analysing apps data from IOS and Google Play\n",
    " In this project we will analyze data from apps downloads data from IOS and Google play and analyze what kind of apps best suits and get more revenue\n",
    " \n",
    " Download links for the datasets: \n",
    " 1. [Apple IOS][1]\n",
    " 2. [Google Play][2]\n",
    " \n",
    "[2]:https://www.kaggle.com/ramamet4/app-store-apple-data-set-10k-apps   \n",
    "[1]:https://www.kaggle.com/lava18/google-play-store-apps"
   ]
  },
  {
   "cell_type": "markdown",
   "metadata": {},
   "source": [
    "1. Lets define a function `read_file` to provide the list of the lists"
   ]
  },
  {
   "cell_type": "code",
   "execution_count": 431,
   "metadata": {},
   "outputs": [],
   "source": [
    "def read_file(filename):\n",
    "    with open(filename) as f:\n",
    "        from csv import reader\n",
    "        all_data = list(reader(f))\n",
    "    return all_data"
   ]
  },
  {
   "cell_type": "markdown",
   "metadata": {},
   "source": [
    "2. Lets read appstore.csv and googleplaystore.csv files"
   ]
  },
  {
   "cell_type": "code",
   "execution_count": 432,
   "metadata": {},
   "outputs": [],
   "source": [
    "ios = read_file('AppleStore.csv')\n",
    "gplay = read_file('googleplaystore.csv')"
   ]
  },
  {
   "cell_type": "markdown",
   "metadata": {},
   "source": [
    "3. Lets define a function to explore the data"
   ]
  },
  {
   "cell_type": "code",
   "execution_count": 433,
   "metadata": {},
   "outputs": [],
   "source": [
    "def explore_data(data_set,start,end,print_rows_columns=False, print_header=False):\n",
    "    data_slice = data_set[start:end]\n",
    "    if print_header:\n",
    "        print('Header:',data_set[0],sep='\\n')\n",
    "        \n",
    "    print('\\nData ' + f'from {start} to {end} rows:')\n",
    "    for row in data_slice:\n",
    "        print(row)\n",
    "        \n",
    "    if print_rows_columns:\n",
    "        print('\\nNumber of rows:' , len(data_set)-1)\n",
    "        print('Number of columns:' , len(data_set[0]))\n",
    "        \n"
   ]
  },
  {
   "cell_type": "markdown",
   "metadata": {},
   "source": [
    "4. Lets explore the datasets we read into lists"
   ]
  },
  {
   "cell_type": "code",
   "execution_count": 434,
   "metadata": {},
   "outputs": [
    {
     "name": "stdout",
     "output_type": "stream",
     "text": [
      "Header:\n",
      "['id', 'track_name', 'size_bytes', 'currency', 'price', 'rating_count_tot', 'rating_count_ver', 'user_rating', 'user_rating_ver', 'ver', 'cont_rating', 'prime_genre', 'sup_devices.num', 'ipadSc_urls.num', 'lang.num', 'vpp_lic']\n",
      "\n",
      "Data from 2 to 5 rows:\n",
      "['389801252', 'Instagram', '113954816', 'USD', '0.0', '2161558', '1289', '4.5', '4.0', '10.23', '12+', 'Photo & Video', '37', '0', '29', '1']\n",
      "['529479190', 'Clash of Clans', '116476928', 'USD', '0.0', '2130805', '579', '4.5', '4.5', '9.24.12', '9+', 'Games', '38', '5', '18', '1']\n",
      "['420009108', 'Temple Run', '65921024', 'USD', '0.0', '1724546', '3842', '4.5', '4.0', '1.6.2', '9+', 'Games', '40', '5', '1', '1']\n",
      "\n",
      "Number of rows: 7197\n",
      "Number of columns: 16\n"
     ]
    }
   ],
   "source": [
    "explore_data(ios,2,5,True, True)"
   ]
  },
  {
   "cell_type": "code",
   "execution_count": 435,
   "metadata": {},
   "outputs": [
    {
     "name": "stdout",
     "output_type": "stream",
     "text": [
      "Header:\n",
      "['App', 'Category', 'Rating', 'Reviews', 'Size', 'Installs', 'Type', 'Price', 'Content Rating', 'Genres', 'Last Updated', 'Current Ver', 'Android Ver']\n",
      "\n",
      "Data from 2 to 5 rows:\n",
      "['Coloring book moana', 'ART_AND_DESIGN', '3.9', '967', '14M', '500,000+', 'Free', '0', 'Everyone', 'Art & Design;Pretend Play', 'January 15, 2018', '2.0.0', '4.0.3 and up']\n",
      "['U Launcher Lite – FREE Live Cool Themes, Hide Apps', 'ART_AND_DESIGN', '4.7', '87510', '8.7M', '5,000,000+', 'Free', '0', 'Everyone', 'Art & Design', 'August 1, 2018', '1.2.4', '4.0.3 and up']\n",
      "['Sketch - Draw & Paint', 'ART_AND_DESIGN', '4.5', '215644', '25M', '50,000,000+', 'Free', '0', 'Teen', 'Art & Design', 'June 8, 2018', 'Varies with device', '4.2 and up']\n",
      "\n",
      "Number of rows: 10841\n",
      "Number of columns: 13\n"
     ]
    }
   ],
   "source": [
    "explore_data(gplay,2,5,True, True)"
   ]
  },
  {
   "cell_type": "markdown",
   "metadata": {},
   "source": [
    "5. Lets delete the index 10473 from gplay dataset"
   ]
  },
  {
   "cell_type": "code",
   "execution_count": 436,
   "metadata": {},
   "outputs": [
    {
     "name": "stdout",
     "output_type": "stream",
     "text": [
      "['Life Made WI-Fi Touchscreen Photo Frame', '1.9', '19', '3.0M', '1,000+', 'Free', '0', 'Everyone', '', 'February 11, 2018', '1.0.19', '4.0 and up'] ['osmino Wi-Fi: free WiFi', 'TOOLS', '4.2', '134203', '4.1M', '10,000,000+', 'Free', '0', 'Everyone', 'Tools', 'August 7, 2018', '6.06.14', '4.4 and up'] 12 13\n"
     ]
    }
   ],
   "source": [
    "print(gplay[10473], gplay[10474], len(gplay[10473]), len(gplay[10474]))"
   ]
  },
  {
   "cell_type": "code",
   "execution_count": 437,
   "metadata": {},
   "outputs": [],
   "source": [
    "del gplay[10473]"
   ]
  },
  {
   "cell_type": "code",
   "execution_count": 438,
   "metadata": {},
   "outputs": [
    {
     "name": "stdout",
     "output_type": "stream",
     "text": [
      "['App', 'Category', 'Rating', 'Reviews', 'Size', 'Installs', 'Type', 'Price', 'Content Rating', 'Genres', 'Last Updated', 'Current Ver', 'Android Ver']\n",
      "2546 ['Instagram', 'SOCIAL', '4.5', '66577313', 'Varies with device', '1,000,000,000+', 'Free', '0', 'Teen', 'Social', 'July 31, 2018', 'Varies with device', 'Varies with device']\n",
      "2605 ['Instagram', 'SOCIAL', '4.5', '66577446', 'Varies with device', '1,000,000,000+', 'Free', '0', 'Teen', 'Social', 'July 31, 2018', 'Varies with device', 'Varies with device']\n",
      "2612 ['Instagram', 'SOCIAL', '4.5', '66577313', 'Varies with device', '1,000,000,000+', 'Free', '0', 'Teen', 'Social', 'July 31, 2018', 'Varies with device', 'Varies with device']\n",
      "3910 ['Instagram', 'SOCIAL', '4.5', '66509917', 'Varies with device', '1,000,000,000+', 'Free', '0', 'Teen', 'Social', 'July 31, 2018', 'Varies with device', 'Varies with device']\n"
     ]
    }
   ],
   "source": [
    "print(gplay[0])\n",
    "for index,app in enumerate(gplay):\n",
    "    if app[0] == 'Instagram':\n",
    "        print(index, app)"
   ]
  },
  {
   "cell_type": "code",
   "execution_count": 439,
   "metadata": {},
   "outputs": [],
   "source": [
    "def find_non_english_names(data_set, index, charcount=3, charpct=None):\n",
    "    english_app_names=[]\n",
    "    non_english_app_names=[]\n",
    "    data_set_cleaned = [data_set[0]]\n",
    "    \n",
    "    #lets use enumerate to get the index\n",
    "    for i,row in enumerate(data_set[1:], start=1):\n",
    "        app_name = row[index]\n",
    "        \n",
    "        #non english chars\n",
    "        non_english_chars = [c for c in app_name if ord(c) > 127]\n",
    "        \n",
    "        # check the percentage of non-enlgish chars\n",
    "        if charcount:\n",
    "            if len(non_english_chars) > charcount:\n",
    "                if app_name not in non_english_app_names:\n",
    "                    non_english_app_names.append(app_name)\n",
    "            else:\n",
    "                data_set_cleaned.append(row)\n",
    "                if app_name not in english_app_names:\n",
    "                    english_app_names.append(app_name)\n",
    "        elif charpct:\n",
    "            if charpct <= (len(non_english_chars)/len(app_name))*100:\n",
    "                if app_name not in non_english_app_names:\n",
    "                    non_english_app_names[i]=app_name\n",
    "            else:\n",
    "                if app_name not in english_app_names:\n",
    "                    english_app_names[i]=app_name\n",
    "            \n",
    "    # print the stats\n",
    "    print(f'No. of Apps: {len(data_set[1:])}')\n",
    "    print(f'No. of English Name Apps: {len(english_app_names)}')\n",
    "    print(f'No. of Non-English Name Apps: {len(non_english_app_names)}')\n",
    "\n",
    "    \n",
    "    #lets return the both\n",
    "    return non_english_app_names,english_app_names,data_set_cleaned     "
   ]
  },
  {
   "cell_type": "code",
   "execution_count": 440,
   "metadata": {},
   "outputs": [
    {
     "name": "stdout",
     "output_type": "stream",
     "text": [
      "No. of Apps: 7197\n",
      "No. of English Name Apps: 6181\n",
      "No. of Non-English Name Apps: 1014\n"
     ]
    }
   ],
   "source": [
    "ios_ne_names,ios_eng_names,ios_cleaned = find_non_english_names(ios,1)"
   ]
  },
  {
   "cell_type": "code",
   "execution_count": 441,
   "metadata": {},
   "outputs": [
    {
     "data": {
      "text/plain": [
       "6184"
      ]
     },
     "execution_count": 441,
     "metadata": {},
     "output_type": "execute_result"
    }
   ],
   "source": [
    "len(ios_cleaned)"
   ]
  },
  {
   "cell_type": "code",
   "execution_count": 442,
   "metadata": {},
   "outputs": [
    {
     "name": "stdout",
     "output_type": "stream",
     "text": [
      "No. of Apps: 10840\n",
      "No. of English Name Apps: 9614\n",
      "No. of Non-English Name Apps: 45\n"
     ]
    }
   ],
   "source": [
    "gplay_ne_names,gplay_eng_names,gplay_cleaned = find_non_english_names(gplay,0)"
   ]
  },
  {
   "cell_type": "code",
   "execution_count": 443,
   "metadata": {},
   "outputs": [
    {
     "data": {
      "text/plain": [
       "10796"
      ]
     },
     "execution_count": 443,
     "metadata": {},
     "output_type": "execute_result"
    }
   ],
   "source": [
    "len(gplay_cleaned)"
   ]
  },
  {
   "cell_type": "markdown",
   "metadata": {},
   "source": [
    "6. Lets create a function to figure out dupes for the app names"
   ]
  },
  {
   "cell_type": "code",
   "execution_count": 444,
   "metadata": {},
   "outputs": [],
   "source": [
    "def dupe_check_columns(data_set, col_index_list):\n",
    "    if type(col_index_list) != list:\n",
    "        col_index_list = [col_index_list]\n",
    "    \n",
    "    # lets create the list of lists for columns provided\n",
    "    dupes = [{} for _ in col_index_list]\n",
    "    unique = [{} for _ in col_index_list]\n",
    "    \n",
    "    for row_index, row in enumerate(data_set[1:], start=1):\n",
    "        for col_num,index in enumerate(col_index_list):\n",
    "            col_value = row[index]\n",
    "            if col_value in unique[col_num]:\n",
    "                if col_value in dupes[col_num]:\n",
    "                    dupes[col_num][col_value].append(row_index)\n",
    "                else:\n",
    "                    dupes[col_num][col_value] = [unique[col_num][col_value][0], row_index]\n",
    "            else:\n",
    "                unique[col_num][col_value] = [row_index]\n",
    "    \n",
    "    return dupes, unique"
   ]
  },
  {
   "cell_type": "code",
   "execution_count": 445,
   "metadata": {},
   "outputs": [],
   "source": [
    "def dedupe_columns(data_set, col_index, col_crit=None):\n",
    "    # lets create the list of lists for columns provided\n",
    "    dupes = {}\n",
    "    unique = {}\n",
    "    \n",
    "    # lets loop thru and get all teh dupes\n",
    "    for row_index, row in enumerate(data_set[1:], start=1):\n",
    "        col_value = row[col_index]\n",
    "        if col_value in unique:\n",
    "            # check for the column crit\n",
    "            if col_crit:\n",
    "                col_crit_value = float(row[col_crit])\n",
    "                \n",
    "                if col_crit_value > unique[col_value][1]:\n",
    "                    if col_value in dupes:\n",
    "                        dupes[col_value].append(unique[col_value])\n",
    "                    else:\n",
    "                        dupes[col_value] = [unique[col_value]]\n",
    "                    unique[col_value] = [row_index, col_crit_value]\n",
    "                else:\n",
    "                    if col_value in dupes:\n",
    "                        dupes[col_value].append([row_index, col_crit_value])\n",
    "                    else:\n",
    "                        dupes[col_value] = [[row_index, col_crit_value]]\n",
    "            else:\n",
    "                if col_value in dupes:\n",
    "                    dupes[col_value].append([row_index])\n",
    "                else:\n",
    "                    dupes[col_value] = [[row_index]]\n",
    "        else:\n",
    "            if col_crit:\n",
    "                col_crit_value = float(row[col_crit])\n",
    "                unique[col_value] =[row_index, col_crit_value]\n",
    "            else:\n",
    "                unique[col_value] = [row_index]\n",
    "                                            \n",
    "    dupe_list=[]        \n",
    "    # lets a set of all dupes\n",
    "    for dupe in dupes.values():\n",
    "        for row in dupe:\n",
    "            dupe_list.append(row[0])\n",
    "  \n",
    "    \n",
    "    # no of dupes count\n",
    "    print(f'No. of dupes:{len(dupe_list)}')\n",
    "    \n",
    "    # dedupes dataset\n",
    "    dedupe = [row for index,row in enumerate(data_set, start=0) if index not in dupe_list]\n",
    "    \n",
    "    return dedupe\n"
   ]
  },
  {
   "cell_type": "code",
   "execution_count": 446,
   "metadata": {},
   "outputs": [],
   "source": [
    "def print_dupes(data_set,gdupes,start=0,end=5):\n",
    "    alldupes = []\n",
    "    for dupes in list(gdupes[0].values())[start:end]:\n",
    "        alldupes += dupes\n",
    "    for index in alldupes:\n",
    "        print(f'Index[{index}]: {data_set[index]}')"
   ]
  },
  {
   "cell_type": "markdown",
   "metadata": {},
   "source": [
    "7. Find dupes for ios data set"
   ]
  },
  {
   "cell_type": "code",
   "execution_count": 447,
   "metadata": {},
   "outputs": [],
   "source": [
    "dupes, unique = dupe_check_columns(ios_cleaned,1)"
   ]
  },
  {
   "cell_type": "code",
   "execution_count": 448,
   "metadata": {},
   "outputs": [
    {
     "data": {
      "text/plain": [
       "[{'Mannequin Challenge': [2901, 4350], 'VR Roller Coaster': [4329, 4700]}]"
      ]
     },
     "execution_count": 448,
     "metadata": {},
     "output_type": "execute_result"
    }
   ],
   "source": [
    "dupes"
   ]
  },
  {
   "cell_type": "code",
   "execution_count": 449,
   "metadata": {},
   "outputs": [
    {
     "name": "stdout",
     "output_type": "stream",
     "text": [
      "Index[2901]: ['1173990889', 'Mannequin Challenge', '109705216', 'USD', '0.0', '668', '87', '3.0', '3.0', '1.4', '9+', 'Games', '37', '4', '1', '1']\n",
      "Index[4350]: ['1178454060', 'Mannequin Challenge', '59572224', 'USD', '0.0', '105', '58', '4.0', '4.5', '1.0.1', '4+', 'Games', '38', '5', '1', '1']\n",
      "Index[4329]: ['952877179', 'VR Roller Coaster', '169523200', 'USD', '0.0', '107', '102', '3.5', '3.5', '2.0.0', '4+', 'Games', '37', '5', '1', '1']\n",
      "Index[4700]: ['1089824278', 'VR Roller Coaster', '240964608', 'USD', '0.0', '67', '44', '3.5', '4.0', '0.81', '4+', 'Games', '38', '0', '1', '1']\n"
     ]
    }
   ],
   "source": [
    "print_dupes(ios_cleaned,dupes)"
   ]
  },
  {
   "cell_type": "code",
   "execution_count": 450,
   "metadata": {},
   "outputs": [
    {
     "name": "stdout",
     "output_type": "stream",
     "text": [
      "No. of dupes:2\n"
     ]
    }
   ],
   "source": [
    "dedupe_ios = dedupe_columns(ios_cleaned,1)"
   ]
  },
  {
   "cell_type": "code",
   "execution_count": 464,
   "metadata": {},
   "outputs": [
    {
     "name": "stdout",
     "output_type": "stream",
     "text": [
      "7198 6184 6182\n"
     ]
    }
   ],
   "source": [
    "print(len(ios),len(ios_cleaned), len(dedupe_ios))"
   ]
  },
  {
   "cell_type": "code",
   "execution_count": 452,
   "metadata": {},
   "outputs": [
    {
     "name": "stdout",
     "output_type": "stream",
     "text": [
      "['625411864', 'Sproggiwood', '438601728', 'USD', '4.99', '105', '37', '4.5', '4.5', '1.2.10', '12+', 'Games', '40', '5', '1', '1'] ['1178454060', 'Mannequin Challenge', '59572224', 'USD', '0.0', '105', '58', '4.0', '4.5', '1.0.1', '4+', 'Games', '38', '5', '1', '1']\n"
     ]
    }
   ],
   "source": [
    "print(dedupe_ios[4349],ios_cleaned[4350])"
   ]
  },
  {
   "cell_type": "markdown",
   "metadata": {},
   "source": [
    "Below are the dupes for googleplay dataset on Appname"
   ]
  },
  {
   "cell_type": "code",
   "execution_count": 453,
   "metadata": {},
   "outputs": [],
   "source": [
    "gdupes, gunique = dupe_check_columns(gplay_cleaned,0)"
   ]
  },
  {
   "cell_type": "code",
   "execution_count": 454,
   "metadata": {},
   "outputs": [
    {
     "data": {
      "text/plain": [
       "[205, 237, 266]"
      ]
     },
     "execution_count": 454,
     "metadata": {},
     "output_type": "execute_result"
    }
   ],
   "source": [
    "gdupes[0]['Box']"
   ]
  },
  {
   "cell_type": "code",
   "execution_count": 455,
   "metadata": {},
   "outputs": [
    {
     "name": "stdout",
     "output_type": "stream",
     "text": [
      "Index[223]: ['Quick PDF Scanner + OCR FREE', 'BUSINESS', '4.2', '80805', 'Varies with device', '5,000,000+', 'Free', '0', 'Everyone', 'Business', 'February 26, 2018', 'Varies with device', '4.0.3 and up']\n",
      "Index[230]: ['Quick PDF Scanner + OCR FREE', 'BUSINESS', '4.2', '80805', 'Varies with device', '5,000,000+', 'Free', '0', 'Everyone', 'Business', 'February 26, 2018', 'Varies with device', '4.0.3 and up']\n",
      "Index[286]: ['Quick PDF Scanner + OCR FREE', 'BUSINESS', '4.2', '80804', 'Varies with device', '5,000,000+', 'Free', '0', 'Everyone', 'Business', 'February 26, 2018', 'Varies with device', '4.0.3 and up']\n",
      "Index[205]: ['Box', 'BUSINESS', '4.2', '159872', 'Varies with device', '10,000,000+', 'Free', '0', 'Everyone', 'Business', 'July 31, 2018', 'Varies with device', 'Varies with device']\n",
      "Index[237]: ['Box', 'BUSINESS', '4.2', '159872', 'Varies with device', '10,000,000+', 'Free', '0', 'Everyone', 'Business', 'July 31, 2018', 'Varies with device', 'Varies with device']\n",
      "Index[266]: ['Box', 'BUSINESS', '4.2', '159872', 'Varies with device', '10,000,000+', 'Free', '0', 'Everyone', 'Business', 'July 31, 2018', 'Varies with device', 'Varies with device']\n"
     ]
    }
   ],
   "source": [
    "print_dupes(gplay_cleaned,gdupes,0,2)"
   ]
  },
  {
   "cell_type": "code",
   "execution_count": 456,
   "metadata": {},
   "outputs": [
    {
     "name": "stdout",
     "output_type": "stream",
     "text": [
      "No. of dupes:1181\n"
     ]
    }
   ],
   "source": [
    "dedupe_gplay = dedupe_columns(gplay_cleaned,0,col_crit=3)"
   ]
  },
  {
   "cell_type": "code",
   "execution_count": 463,
   "metadata": {},
   "outputs": [
    {
     "name": "stdout",
     "output_type": "stream",
     "text": [
      "['App', 'Category', 'Rating', 'Reviews', 'Size', 'Installs', 'Type', 'Price', 'Content Rating', 'Genres', 'Last Updated', 'Current Ver', 'Android Ver']\n",
      "2544 ['Instagram', 'SOCIAL', '4.5', '66577313', 'Varies with device', '1,000,000,000+', 'Free', '0', 'Teen', 'Social', 'July 31, 2018', 'Varies with device', 'Varies with device']\n",
      "2603 ['Instagram', 'SOCIAL', '4.5', '66577446', 'Varies with device', '1,000,000,000+', 'Free', '0', 'Teen', 'Social', 'July 31, 2018', 'Varies with device', 'Varies with device']\n",
      "2610 ['Instagram', 'SOCIAL', '4.5', '66577313', 'Varies with device', '1,000,000,000+', 'Free', '0', 'Teen', 'Social', 'July 31, 2018', 'Varies with device', 'Varies with device']\n",
      "3907 ['Instagram', 'SOCIAL', '4.5', '66509917', 'Varies with device', '1,000,000,000+', 'Free', '0', 'Teen', 'Social', 'July 31, 2018', 'Varies with device', 'Varies with device']\n"
     ]
    }
   ],
   "source": [
    "print(gplay_cleaned[0])\n",
    "for index,app in enumerate(gplay_cleaned):\n",
    "    if app[0] == 'Instagram':\n",
    "        print(index, app)"
   ]
  },
  {
   "cell_type": "code",
   "execution_count": 462,
   "metadata": {},
   "outputs": [
    {
     "name": "stdout",
     "output_type": "stream",
     "text": [
      "['App', 'Category', 'Rating', 'Reviews', 'Size', 'Installs', 'Type', 'Price', 'Content Rating', 'Genres', 'Last Updated', 'Current Ver', 'Android Ver']\n",
      "1915 ['Instagram', 'SOCIAL', '4.5', '66577446', 'Varies with device', '1,000,000,000+', 'Free', '0', 'Teen', 'Social', 'July 31, 2018', 'Varies with device', 'Varies with device']\n"
     ]
    }
   ],
   "source": [
    "print(dedupe_gplay[0])\n",
    "for index,app in enumerate(dedupe_gplay):\n",
    "    if app[0] == 'Instagram':\n",
    "        print(index, app)"
   ]
  },
  {
   "cell_type": "code",
   "execution_count": 465,
   "metadata": {},
   "outputs": [
    {
     "name": "stdout",
     "output_type": "stream",
     "text": [
      "10841 10796 9615\n"
     ]
    }
   ],
   "source": [
    "print(len(gplay), len(gplay_cleaned), len(dedupe_gplay))"
   ]
  },
  {
   "cell_type": "code",
   "execution_count": 467,
   "metadata": {},
   "outputs": [
    {
     "name": "stdout",
     "output_type": "stream",
     "text": [
      "[['App', 'Category', 'Rating', 'Reviews', 'Size', 'Installs', 'Type', 'Price', 'Content Rating', 'Genres', 'Last Updated', 'Current Ver', 'Android Ver'], ['Photo Editor & Candy Camera & Grid & ScrapBook', 'ART_AND_DESIGN', '4.1', '159', '19M', '10,000+', 'Free', '0', 'Everyone', 'Art & Design', 'January 7, 2018', '1.0.0', '4.0.3 and up'], ['U Launcher Lite – FREE Live Cool Themes, Hide Apps', 'ART_AND_DESIGN', '4.7', '87510', '8.7M', '5,000,000+', 'Free', '0', 'Everyone', 'Art & Design', 'August 1, 2018', '1.2.4', '4.0.3 and up'], ['Sketch - Draw & Paint', 'ART_AND_DESIGN', '4.5', '215644', '25M', '50,000,000+', 'Free', '0', 'Teen', 'Art & Design', 'June 8, 2018', 'Varies with device', '4.2 and up'], ['Pixel Draw - Number Art Coloring Book', 'ART_AND_DESIGN', '4.3', '967', '2.8M', '100,000+', 'Free', '0', 'Everyone', 'Art & Design;Creativity', 'June 20, 2018', '1.1', '4.4 and up']]\n"
     ]
    }
   ],
   "source": [
    "print(dedupe_gplay[:5])"
   ]
  },
  {
   "cell_type": "code",
   "execution_count": 475,
   "metadata": {},
   "outputs": [],
   "source": [
    "def find_free_apps(data_set,col_index):\n",
    "    free_data_set=[data_set[0]]\n",
    "    for row in data_set[1:]:\n",
    "        if float(row[col_index].replace('$','')) == 0.0:\n",
    "            free_data_set.append(row)\n",
    "    \n",
    "    return free_data_set"
   ]
  },
  {
   "cell_type": "markdown",
   "metadata": {},
   "source": [
    "8. Find Free IOS apps"
   ]
  },
  {
   "cell_type": "code",
   "execution_count": 471,
   "metadata": {},
   "outputs": [],
   "source": [
    "free_ios = find_free_apps(dedupe_ios,4)"
   ]
  },
  {
   "cell_type": "code",
   "execution_count": 472,
   "metadata": {},
   "outputs": [
    {
     "name": "stdout",
     "output_type": "stream",
     "text": [
      "7198 6184 6182 3221\n"
     ]
    }
   ],
   "source": [
    "print(len(ios),len(ios_cleaned), len(dedupe_ios),len(free_ios))"
   ]
  },
  {
   "cell_type": "code",
   "execution_count": 473,
   "metadata": {},
   "outputs": [
    {
     "name": "stdout",
     "output_type": "stream",
     "text": [
      "[['id', 'track_name', 'size_bytes', 'currency', 'price', 'rating_count_tot', 'rating_count_ver', 'user_rating', 'user_rating_ver', 'ver', 'cont_rating', 'prime_genre', 'sup_devices.num', 'ipadSc_urls.num', 'lang.num', 'vpp_lic'], ['284882215', 'Facebook', '389879808', 'USD', '0.0', '2974676', '212', '3.5', '3.5', '95.0', '4+', 'Social Networking', '37', '1', '29', '1'], ['389801252', 'Instagram', '113954816', 'USD', '0.0', '2161558', '1289', '4.5', '4.0', '10.23', '12+', 'Photo & Video', '37', '0', '29', '1'], ['529479190', 'Clash of Clans', '116476928', 'USD', '0.0', '2130805', '579', '4.5', '4.5', '9.24.12', '9+', 'Games', '38', '5', '18', '1'], ['420009108', 'Temple Run', '65921024', 'USD', '0.0', '1724546', '3842', '4.5', '4.0', '1.6.2', '9+', 'Games', '40', '5', '1', '1'], ['284035177', 'Pandora - Music & Radio', '130242560', 'USD', '0.0', '1126879', '3594', '4.0', '4.5', '8.4.1', '12+', 'Music', '37', '4', '1', '1'], ['429047995', 'Pinterest', '74778624', 'USD', '0.0', '1061624', '1814', '4.5', '4.0', '6.26', '12+', 'Social Networking', '37', '5', '27', '1'], ['282935706', 'Bible', '92774400', 'USD', '0.0', '985920', '5320', '4.5', '5.0', '7.5.1', '4+', 'Reference', '37', '5', '45', '1'], ['553834731', 'Candy Crush Saga', '222846976', 'USD', '0.0', '961794', '2453', '4.5', '4.5', '1.101.0', '4+', 'Games', '43', '5', '24', '1'], ['324684580', 'Spotify Music', '132510720', 'USD', '0.0', '878563', '8253', '4.5', '4.5', '8.4.3', '12+', 'Music', '37', '5', '18', '1']]\n"
     ]
    }
   ],
   "source": [
    "print(free_ios[:10])"
   ]
  },
  {
   "cell_type": "markdown",
   "metadata": {},
   "source": [
    "9. Find Free Google play apps"
   ]
  },
  {
   "cell_type": "code",
   "execution_count": 476,
   "metadata": {},
   "outputs": [],
   "source": [
    "free_gplay = find_free_apps(dedupe_gplay,7)"
   ]
  },
  {
   "cell_type": "code",
   "execution_count": 477,
   "metadata": {},
   "outputs": [
    {
     "name": "stdout",
     "output_type": "stream",
     "text": [
      "10841 10796 9615 8865\n"
     ]
    }
   ],
   "source": [
    "print(len(gplay), len(gplay_cleaned), len(dedupe_gplay),len(free_gplay))"
   ]
  },
  {
   "cell_type": "code",
   "execution_count": 478,
   "metadata": {},
   "outputs": [
    {
     "name": "stdout",
     "output_type": "stream",
     "text": [
      "[['App', 'Category', 'Rating', 'Reviews', 'Size', 'Installs', 'Type', 'Price', 'Content Rating', 'Genres', 'Last Updated', 'Current Ver', 'Android Ver'], ['Photo Editor & Candy Camera & Grid & ScrapBook', 'ART_AND_DESIGN', '4.1', '159', '19M', '10,000+', 'Free', '0', 'Everyone', 'Art & Design', 'January 7, 2018', '1.0.0', '4.0.3 and up'], ['U Launcher Lite – FREE Live Cool Themes, Hide Apps', 'ART_AND_DESIGN', '4.7', '87510', '8.7M', '5,000,000+', 'Free', '0', 'Everyone', 'Art & Design', 'August 1, 2018', '1.2.4', '4.0.3 and up'], ['Sketch - Draw & Paint', 'ART_AND_DESIGN', '4.5', '215644', '25M', '50,000,000+', 'Free', '0', 'Teen', 'Art & Design', 'June 8, 2018', 'Varies with device', '4.2 and up'], ['Pixel Draw - Number Art Coloring Book', 'ART_AND_DESIGN', '4.3', '967', '2.8M', '100,000+', 'Free', '0', 'Everyone', 'Art & Design;Creativity', 'June 20, 2018', '1.1', '4.4 and up'], ['Paper flowers instructions', 'ART_AND_DESIGN', '4.4', '167', '5.6M', '50,000+', 'Free', '0', 'Everyone', 'Art & Design', 'March 26, 2017', '1.0', '2.3 and up'], ['Smoke Effect Photo Maker - Smoke Editor', 'ART_AND_DESIGN', '3.8', '178', '19M', '50,000+', 'Free', '0', 'Everyone', 'Art & Design', 'April 26, 2018', '1.1', '4.0.3 and up'], ['Infinite Painter', 'ART_AND_DESIGN', '4.1', '36815', '29M', '1,000,000+', 'Free', '0', 'Everyone', 'Art & Design', 'June 14, 2018', '6.1.61.1', '4.2 and up'], ['Garden Coloring Book', 'ART_AND_DESIGN', '4.4', '13791', '33M', '1,000,000+', 'Free', '0', 'Everyone', 'Art & Design', 'September 20, 2017', '2.9.2', '3.0 and up'], ['Kids Paint Free - Drawing Fun', 'ART_AND_DESIGN', '4.7', '121', '3.1M', '10,000+', 'Free', '0', 'Everyone', 'Art & Design;Creativity', 'July 3, 2018', '2.8', '4.0.3 and up']]\n"
     ]
    }
   ],
   "source": [
    "print(free_gplay[:10])"
   ]
  },
  {
   "cell_type": "markdown",
   "metadata": {},
   "source": [
    "10. Lets create a frequency table for the datasets"
   ]
  },
  {
   "cell_type": "code",
   "execution_count": 491,
   "metadata": {},
   "outputs": [],
   "source": [
    "def freq_table(data_set, col_index):\n",
    "    freq={}\n",
    "    total = len(data_set[1:])\n",
    "    for row in data_set[1:]:\n",
    "        col = row[col_index]\n",
    "        if col in freq:\n",
    "            freq[col] += 100/total\n",
    "        else:\n",
    "            freq[col] = 100/total\n",
    "            \n",
    "    return freq"
   ]
  },
  {
   "cell_type": "code",
   "execution_count": 506,
   "metadata": {},
   "outputs": [],
   "source": [
    "def display_table(dataset, index):\n",
    "    if index:\n",
    "        table = freq_table(dataset, index)\n",
    "    else:\n",
    "        table = dataset\n",
    "    table_display = []\n",
    "    for key in table:\n",
    "        key_val_as_tuple = (table[key], key)\n",
    "        table_display.append(key_val_as_tuple)\n",
    "\n",
    "    table_sorted = sorted(table_display, reverse = True)\n",
    "    for entry in table_sorted:\n",
    "        print(entry[1], ':', entry[0])"
   ]
  },
  {
   "cell_type": "code",
   "execution_count": 493,
   "metadata": {},
   "outputs": [],
   "source": [
    "prime_genre = freq_table(free_ios,11)\n",
    "genres = freq_table(free_gplay,9)\n",
    "category = freq_table(free_gplay,1)"
   ]
  },
  {
   "cell_type": "code",
   "execution_count": 494,
   "metadata": {},
   "outputs": [
    {
     "name": "stdout",
     "output_type": "stream",
     "text": [
      "Games : 58.13664596273457\n",
      "Entertainment : 7.888198757764019\n",
      "Photo & Video : 4.968944099378889\n",
      "Education : 3.66459627329192\n",
      "Social Networking : 3.2919254658385046\n",
      "Shopping : 2.6086956521739095\n",
      "Utilities : 2.5155279503105556\n",
      "Sports : 2.14285714285714\n",
      "Music : 2.0496894409937862\n",
      "Health & Fitness : 2.0186335403726683\n",
      "Productivity : 1.7391304347826066\n",
      "Lifestyle : 1.5838509316770168\n",
      "News : 1.3354037267080732\n",
      "Travel : 1.2422360248447193\n",
      "Finance : 1.1180124223602474\n",
      "Weather : 0.8695652173913038\n",
      "Food & Drink : 0.8074534161490678\n",
      "Reference : 0.5590062111801242\n",
      "Business : 0.5279503105590062\n",
      "Book : 0.43478260869565216\n",
      "Navigation : 0.18633540372670807\n",
      "Medical : 0.18633540372670807\n",
      "Catalogs : 0.12422360248447205\n"
     ]
    }
   ],
   "source": [
    "display_table(free_ios,11)"
   ]
  },
  {
   "cell_type": "markdown",
   "metadata": {},
   "source": [
    "11. Based on dataset we have for free ios english apps we can games as the highest number of apps \\\n",
    "exceeding far ahead than any other genres. The other genres are entertainment , photo and education \\\n",
    "as other generes"
   ]
  },
  {
   "cell_type": "code",
   "execution_count": 496,
   "metadata": {},
   "outputs": [
    {
     "name": "stdout",
     "output_type": "stream",
     "text": [
      "Tools : 8.449909747292507\n",
      "Entertainment : 6.069494584837599\n",
      "Education : 5.34747292418777\n",
      "Business : 4.591606498194979\n",
      "Productivity : 3.8921480144404565\n",
      "Lifestyle : 3.8921480144404565\n",
      "Finance : 3.7003610108303455\n",
      "Medical : 3.5311371841155417\n",
      "Sports : 3.46344765342962\n",
      "Personalization : 3.3167870036101235\n",
      "Communication : 3.2378158844765483\n",
      "Action : 3.1024368231047053\n",
      "Health & Fitness : 3.079873646209398\n",
      "Photography : 2.944494584837555\n",
      "News & Magazines : 2.7978339350180583\n",
      "Social : 2.6624548736462152\n",
      "Travel & Local : 2.3240072202166075\n",
      "Shopping : 2.2450361010830324\n",
      "Books & Reference : 2.14350180505415\n",
      "Simulation : 2.041967509025268\n",
      "Dating : 1.861462093862813\n",
      "Arcade : 1.8501805054151597\n",
      "Video Players & Editors : 1.771209386281586\n",
      "Casual : 1.7599277978339327\n",
      "Maps & Navigation : 1.398916967509025\n",
      "Food & Drink : 1.2409747292418778\n",
      "Puzzle : 1.1281588447653441\n",
      "Racing : 0.9927797833935037\n",
      "Role Playing : 0.9363718411552363\n",
      "Libraries & Demo : 0.9363718411552363\n",
      "Auto & Vehicles : 0.9250902527075828\n",
      "Strategy : 0.9138086642599293\n",
      "House & Home : 0.8235559566787015\n",
      "Weather : 0.8009927797833946\n",
      "Events : 0.7107400722021667\n",
      "Adventure : 0.6768953068592063\n",
      "Comics : 0.6092057761732854\n",
      "Beauty : 0.5979241877256319\n",
      "Art & Design : 0.5979241877256319\n",
      "Parenting : 0.4963898916967507\n",
      "Card : 0.451263537906137\n",
      "Casino : 0.42870036101083014\n",
      "Trivia : 0.4174187725631767\n",
      "Educational;Education : 0.3948555956678699\n",
      "Board : 0.38357400722021645\n",
      "Educational : 0.372292418772563\n",
      "Education;Education : 0.33844765342960276\n",
      "Word : 0.2594765342960288\n",
      "Casual;Pretend Play : 0.23691335740072195\n",
      "Music : 0.20306859205776168\n",
      "Racing;Action & Adventure : 0.1692238267148014\n",
      "Puzzle;Brain Games : 0.1692238267148014\n",
      "Entertainment;Music & Video : 0.1692238267148014\n",
      "Casual;Brain Games : 0.13537906137184114\n",
      "Casual;Action & Adventure : 0.13537906137184114\n",
      "Arcade;Action & Adventure : 0.12409747292418771\n",
      "Action;Action & Adventure : 0.10153429602888087\n",
      "Educational;Pretend Play : 0.09025270758122744\n",
      "Simulation;Action & Adventure : 0.07897111913357402\n",
      "Parenting;Education : 0.07897111913357402\n",
      "Entertainment;Brain Games : 0.07897111913357402\n",
      "Board;Brain Games : 0.07897111913357402\n",
      "Parenting;Music & Video : 0.06768953068592058\n",
      "Educational;Brain Games : 0.06768953068592058\n",
      "Casual;Creativity : 0.06768953068592058\n",
      "Art & Design;Creativity : 0.06768953068592058\n",
      "Education;Pretend Play : 0.05640794223826715\n",
      "Role Playing;Pretend Play : 0.04512635379061372\n",
      "Education;Creativity : 0.04512635379061372\n",
      "Role Playing;Action & Adventure : 0.03384476534296029\n",
      "Puzzle;Action & Adventure : 0.03384476534296029\n",
      "Entertainment;Creativity : 0.03384476534296029\n",
      "Entertainment;Action & Adventure : 0.03384476534296029\n",
      "Educational;Creativity : 0.03384476534296029\n",
      "Educational;Action & Adventure : 0.03384476534296029\n",
      "Education;Music & Video : 0.03384476534296029\n",
      "Education;Brain Games : 0.03384476534296029\n",
      "Education;Action & Adventure : 0.03384476534296029\n",
      "Adventure;Action & Adventure : 0.03384476534296029\n",
      "Video Players & Editors;Music & Video : 0.02256317689530686\n",
      "Sports;Action & Adventure : 0.02256317689530686\n",
      "Simulation;Pretend Play : 0.02256317689530686\n",
      "Puzzle;Creativity : 0.02256317689530686\n",
      "Music;Music & Video : 0.02256317689530686\n",
      "Entertainment;Pretend Play : 0.02256317689530686\n",
      "Casual;Education : 0.02256317689530686\n",
      "Board;Action & Adventure : 0.02256317689530686\n",
      "Video Players & Editors;Creativity : 0.01128158844765343\n",
      "Trivia;Education : 0.01128158844765343\n",
      "Travel & Local;Action & Adventure : 0.01128158844765343\n",
      "Tools;Education : 0.01128158844765343\n",
      "Strategy;Education : 0.01128158844765343\n",
      "Strategy;Creativity : 0.01128158844765343\n",
      "Strategy;Action & Adventure : 0.01128158844765343\n",
      "Simulation;Education : 0.01128158844765343\n",
      "Role Playing;Brain Games : 0.01128158844765343\n",
      "Racing;Pretend Play : 0.01128158844765343\n",
      "Puzzle;Education : 0.01128158844765343\n",
      "Parenting;Brain Games : 0.01128158844765343\n",
      "Music & Audio;Music & Video : 0.01128158844765343\n",
      "Lifestyle;Pretend Play : 0.01128158844765343\n",
      "Lifestyle;Education : 0.01128158844765343\n",
      "Health & Fitness;Education : 0.01128158844765343\n",
      "Health & Fitness;Action & Adventure : 0.01128158844765343\n",
      "Entertainment;Education : 0.01128158844765343\n",
      "Communication;Creativity : 0.01128158844765343\n",
      "Comics;Creativity : 0.01128158844765343\n",
      "Casual;Music & Video : 0.01128158844765343\n",
      "Card;Action & Adventure : 0.01128158844765343\n",
      "Books & Reference;Education : 0.01128158844765343\n",
      "Art & Design;Pretend Play : 0.01128158844765343\n",
      "Art & Design;Action & Adventure : 0.01128158844765343\n",
      "Arcade;Pretend Play : 0.01128158844765343\n",
      "Adventure;Education : 0.01128158844765343\n"
     ]
    }
   ],
   "source": [
    "display_table(free_gplay,9)"
   ]
  },
  {
   "cell_type": "code",
   "execution_count": 497,
   "metadata": {},
   "outputs": [
    {
     "name": "stdout",
     "output_type": "stream",
     "text": [
      "FAMILY : 18.907942238266926\n",
      "GAME : 9.724729241877363\n",
      "TOOLS : 8.46119133574016\n",
      "BUSINESS : 4.591606498194979\n",
      "LIFESTYLE : 3.90342960288811\n",
      "PRODUCTIVITY : 3.8921480144404565\n",
      "FINANCE : 3.7003610108303455\n",
      "MEDICAL : 3.5311371841155417\n",
      "SPORTS : 3.3957581227436986\n",
      "PERSONALIZATION : 3.3167870036101235\n",
      "COMMUNICATION : 3.2378158844765483\n",
      "HEALTH_AND_FITNESS : 3.079873646209398\n",
      "PHOTOGRAPHY : 2.944494584837555\n",
      "NEWS_AND_MAGAZINES : 2.7978339350180583\n",
      "SOCIAL : 2.6624548736462152\n",
      "TRAVEL_AND_LOCAL : 2.335288808664261\n",
      "SHOPPING : 2.2450361010830324\n",
      "BOOKS_AND_REFERENCE : 2.14350180505415\n",
      "DATING : 1.861462093862813\n",
      "VIDEO_PLAYERS : 1.7937725631768928\n",
      "MAPS_AND_NAVIGATION : 1.398916967509025\n",
      "FOOD_AND_DRINK : 1.2409747292418778\n",
      "EDUCATION : 1.1620036101083042\n",
      "ENTERTAINMENT : 0.9589350180505433\n",
      "LIBRARIES_AND_DEMO : 0.9363718411552363\n",
      "AUTO_AND_VEHICLES : 0.9250902527075828\n",
      "HOUSE_AND_HOME : 0.8235559566787015\n",
      "WEATHER : 0.8009927797833946\n",
      "EVENTS : 0.7107400722021667\n",
      "PARENTING : 0.6543321299638993\n",
      "ART_AND_DESIGN : 0.6430505415162459\n",
      "COMICS : 0.6204873646209389\n",
      "BEAUTY : 0.5979241877256319\n"
     ]
    }
   ],
   "source": [
    "display_table(free_gplay,1)"
   ]
  },
  {
   "cell_type": "markdown",
   "metadata": {},
   "source": [
    "12. Compared to ios apps it looks like google play apps seems to be distributed evenlt productivity, games and tools"
   ]
  },
  {
   "cell_type": "code",
   "execution_count": 501,
   "metadata": {},
   "outputs": [
    {
     "data": {
      "text/plain": [
       "dict_keys(['Social Networking', 'Photo & Video', 'Games', 'Music', 'Reference', 'Health & Fitness', 'Weather', 'Utilities', 'Travel', 'Shopping', 'News', 'Navigation', 'Lifestyle', 'Entertainment', 'Food & Drink', 'Sports', 'Book', 'Finance', 'Education', 'Productivity', 'Business', 'Catalogs', 'Medical'])"
      ]
     },
     "execution_count": 501,
     "metadata": {},
     "output_type": "execute_result"
    }
   ],
   "source": [
    "ios_genres = prime_genre.keys()\n",
    "ios_genres"
   ]
  },
  {
   "cell_type": "code",
   "execution_count": 507,
   "metadata": {},
   "outputs": [
    {
     "name": "stdout",
     "output_type": "stream",
     "text": [
      "Navigation : 86090.33333333333\n",
      "Reference : 74942.11111111111\n",
      "Social Networking : 71548.34905660378\n",
      "Music : 57326.530303030304\n",
      "Weather : 52279.892857142855\n",
      "Book : 39758.5\n",
      "Food & Drink : 33333.92307692308\n",
      "Finance : 31467.944444444445\n",
      "Photo & Video : 28441.54375\n",
      "Travel : 28243.8\n",
      "Shopping : 26919.690476190477\n",
      "Health & Fitness : 23298.015384615384\n",
      "Sports : 23008.898550724636\n",
      "Games : 22812.92467948718\n",
      "News : 21248.023255813954\n",
      "Productivity : 21028.410714285714\n",
      "Utilities : 18684.456790123455\n",
      "Lifestyle : 16485.764705882353\n",
      "Entertainment : 14029.830708661417\n",
      "Business : 7491.117647058823\n",
      "Education : 7003.983050847458\n",
      "Catalogs : 4004.0\n",
      "Medical : 612.0\n"
     ]
    }
   ],
   "source": [
    "avg_rating={}\n",
    "genre_totals={}\n",
    "for row in free_ios[1:]:\n",
    "    genre = row[11]\n",
    "    if genre in avg_rating:\n",
    "        avg_rating[genre] += float(row[5])\n",
    "    else:\n",
    "        avg_rating[genre] = float(row[5])\n",
    "\n",
    "for row in free_ios[1:]:\n",
    "    genre = row[11]\n",
    "    if genre in genre_totals:\n",
    "        genre_totals[genre] += 1\n",
    "    else:\n",
    "        genre_totals[genre] = 1\n",
    "\n",
    "for genre in ios_genres:\n",
    "    avg_rating[genre] = avg_rating[genre]/genre_totals[genre]\n",
    "    \n",
    "display_table(avg_rating,None)"
   ]
  },
  {
   "cell_type": "code",
   "execution_count": 512,
   "metadata": {},
   "outputs": [],
   "source": [
    "def display_apps(data_set,col_index,col_values, needed_cols = [1,5]):\n",
    "    fil_data_set={}\n",
    "    for row in data_set[1:]:\n",
    "        col_value = row[col_index]\n",
    "        row_dis = [col for index,col in enumerate(row) if index in needed_cols ]\n",
    "        if col_value in fil_data_set:\n",
    "            fil_data_set[col_value].append(row_dis)\n",
    "        else:\n",
    "            fil_data_set[col_value] = [row_dis]\n",
    "            \n",
    "    for col_value in col_values:\n",
    "        print(f'{col_value}: \\n {fil_data_set[col_value]}')\n",
    "        "
   ]
  },
  {
   "cell_type": "code",
   "execution_count": 514,
   "metadata": {},
   "outputs": [
    {
     "name": "stdout",
     "output_type": "stream",
     "text": [
      "Navigation: \n",
      " [['Waze - GPS Navigation, Maps & Real-time Traffic', '345046'], ['Google Maps - Navigation & Transit', '154911'], ['Geocaching®', '12811'], ['CoPilot GPS – Car Navigation & Offline Maps', '3582'], ['ImmobilienScout24: Real Estate Search in Germany', '187'], ['Railway Route Search', '5']]\n",
      "Reference: \n",
      " [['Bible', '985920'], ['Dictionary.com Dictionary & Thesaurus', '200047'], ['Dictionary.com Dictionary & Thesaurus for iPad', '54175'], ['Google Translate', '26786'], ['Muslim Pro: Ramadan 2017 Prayer Times, Azan, Quran', '18418'], ['New Furniture Mods - Pocket Wiki & Game Tools for Minecraft PC Edition', '17588'], ['Merriam-Webster Dictionary', '16849'], ['Night Sky', '12122'], ['City Maps for Minecraft PE - The Best Maps for Minecraft Pocket Edition (MCPE)', '8535'], ['LUCKY BLOCK MOD ™ for Minecraft PC Edition - The Best Pocket Wiki & Mods Installer Tools', '4693'], ['GUNS MODS for Minecraft PC Edition - Mods Tools', '1497'], ['Guides for Pokémon GO - Pokemon GO News and Cheats', '826'], ['WWDC', '762'], ['Horror Maps for Minecraft PE - Download The Scariest Maps for Minecraft Pocket Edition (MCPE) Free', '718'], ['VPN Express', '14'], ['Real Bike Traffic Rider Virtual Reality Glasses', '8'], ['教えて!goo', '0'], ['Jishokun-Japanese English Dictionary & Translator', '0']]\n",
      "Social Networking: \n",
      " [['Facebook', '2974676'], ['Pinterest', '1061624'], ['Skype for iPhone', '373519'], ['Messenger', '351466'], ['Tumblr', '334293'], ['WhatsApp Messenger', '287589'], ['Kik', '260965'], ['ooVoo – Free Video Call, Text and Voice', '177501'], ['TextNow - Unlimited Text + Calls', '164963'], ['Viber Messenger – Text & Call', '164249'], ['Followers - Social Analytics For Instagram', '112778'], ['MeetMe - Chat and Meet New People', '97072'], ['We Heart It - Fashion, wallpapers, quotes, tattoos', '90414'], ['InsTrack for Instagram - Analytics Plus More', '85535'], ['Tango - Free Video Call, Voice and Chat', '75412'], ['LinkedIn', '71856'], ['Match™ - #1 Dating App.', '60659'], ['Skype for iPad', '60163'], ['POF - Best Dating App for Conversations', '52642'], ['Timehop', '49510'], ['Find My Family, Friends & iPhone - Life360 Locator', '43877'], ['Whisper - Share, Express, Meet', '39819'], ['Hangouts', '36404'], ['LINE PLAY - Your Avatar World', '34677'], ['WeChat', '34584'], ['Badoo - Meet New People, Chat, Socialize.', '34428'], ['Followers + for Instagram - Follower Analytics', '28633'], ['GroupMe', '28260'], ['Marco Polo Video Walkie Talkie', '27662'], ['Miitomo', '23965'], ['SimSimi', '23530'], ['Grindr - Gay and same sex guys chat, meet and date', '23201'], ['Wishbone - Compare Anything', '20649'], ['imo video calls and chat', '18841'], ['After School - Funny Anonymous School News', '18482'], ['Quick Reposter - Repost, Regram and Reshare Photos', '17694'], ['Weibo HD', '16772'], ['Repost for Instagram', '15185'], ['Live.me – Live Video Chat & Make Friends Nearby', '14724'], ['Nextdoor', '14402'], ['Followers Analytics for Instagram - InstaReport', '13914'], ['YouNow: Live Stream Video Chat', '12079'], ['FollowMeter for Instagram - Followers Tracking', '11976'], ['LINE', '11437'], ['eHarmony™ Dating App - Meet Singles', '11124'], ['Discord - Chat for Gamers', '9152'], ['QQ', '9109'], ['Telegram Messenger', '7573'], ['Weibo', '7265'], ['Periscope - Live Video Streaming Around the World', '6062'], ['Chat for Whatsapp - iPad Version', '5060'], ['QQ HD', '5058'], ['Followers Analysis Tool For Instagram App Free', '4253'], ['live.ly - live video streaming', '4145'], ['Houseparty - Group Video Chat', '3991'], ['SOMA Messenger', '3232'], ['Monkey', '3060'], ['Down To Lunch', '2535'], ['Flinch - Video Chat Staring Contest', '2134'], ['Highrise - Your Avatar Community', '2011'], ['LOVOO - Dating Chat', '1985'], ['PlayStation®Messages', '1918'], ['BOO! - Video chat camera with filters & stickers', '1805'], ['Qzone', '1649'], ['Chatous - Chat with new people', '1609'], ['Kiwi - Q&A', '1538'], ['GhostCodes - a discovery app for Snapchat', '1313'], ['Jodel', '1193'], ['FireChat', '1037'], ['Google Duo - simple video calling', '1033'], ['Fiesta by Tango - Chat & Meet New People', '885'], ['Google Allo — smart messaging', '862'], ['Peach — share vividly', '727'], ['Hey! VINA - Where Women Meet New Friends', '719'], ['Battlefield™ Companion', '689'], ['All Devices for WhatsApp - Messenger for iPad', '682'], ['Chat for Pokemon Go - GoChat', '500'], ['IAmNaughty – Dating App to Meet New People Online', '463'], ['Qzone HD', '458'], ['Zenly - Locate your friends in realtime', '427'], ['League of Legends Friends', '420'], ['豆瓣', '407'], ['Candid - Speak Your Mind Freely', '398'], ['知乎', '397'], ['Selfeo', '366'], ['Fake-A-Location Free ™', '354'], ['Popcorn Buzz - Free Group Calls', '281'], ['Fam — Group video calling for iMessage', '279'], ['QQ International', '274'], ['Ameba', '269'], ['SoundCloud Pulse: for creators', '240'], ['Tantan', '235'], ['Cougar Dating & Life Style App for Mature Women', '213'], ['Rawr Messenger - Dab your chat', '180'], ['WhenToPost: Best Time to Post Photos for Instagram', '158'], ['Inke—Broadcast an amazing life', '147'], ['Mustknow - anonymous video Q&A', '53'], ['CTFxCmoji', '39'], ['Lobi', '36'], ['Chain: Collaborate On MyVideo Story/Group Video', '35'], ['botman - Real time video chat', '7'], ['BestieBox', '0'], ['MATCH ON LINE chat', '0'], ['niconico ch', '0'], ['LINE BLOG', '0'], ['bit-tube - Live Stream Video Chat', '0']]\n"
     ]
    }
   ],
   "source": [
    "display_apps(free_ios, -5, ['Navigation','Reference','Social Networking'])"
   ]
  },
  {
   "cell_type": "markdown",
   "metadata": {},
   "source": [
    "13. Navigation apps seems to be low but have high rating becuase of waze and google apps"
   ]
  },
  {
   "cell_type": "code",
   "execution_count": 516,
   "metadata": {},
   "outputs": [
    {
     "data": {
      "text/plain": [
       "dict_keys(['ART_AND_DESIGN', 'AUTO_AND_VEHICLES', 'BEAUTY', 'BOOKS_AND_REFERENCE', 'BUSINESS', 'COMICS', 'COMMUNICATION', 'DATING', 'EDUCATION', 'ENTERTAINMENT', 'EVENTS', 'FINANCE', 'FOOD_AND_DRINK', 'HEALTH_AND_FITNESS', 'HOUSE_AND_HOME', 'LIBRARIES_AND_DEMO', 'LIFESTYLE', 'GAME', 'FAMILY', 'MEDICAL', 'SOCIAL', 'SHOPPING', 'PHOTOGRAPHY', 'SPORTS', 'TRAVEL_AND_LOCAL', 'TOOLS', 'PERSONALIZATION', 'PRODUCTIVITY', 'PARENTING', 'WEATHER', 'VIDEO_PLAYERS', 'NEWS_AND_MAGAZINES', 'MAPS_AND_NAVIGATION'])"
      ]
     },
     "execution_count": 516,
     "metadata": {},
     "output_type": "execute_result"
    }
   ],
   "source": [
    "gplay_category = category.keys()\n",
    "gplay_category"
   ]
  },
  {
   "cell_type": "code",
   "execution_count": 521,
   "metadata": {},
   "outputs": [
    {
     "name": "stdout",
     "output_type": "stream",
     "text": [
      "1,000,000+ : 15.726534296029072\n",
      "100,000+ : 11.552346570397244\n",
      "10,000,000+ : 10.548285198556075\n",
      "10,000+ : 10.198555956678813\n",
      "1,000+ : 8.393501805054239\n",
      "100+ : 6.915613718411619\n",
      "5,000,000+ : 6.82536101083039\n",
      "500,000+ : 5.561823104693188\n",
      "50,000+ : 4.772111913357437\n",
      "5,000+ : 4.512635379061404\n",
      "10+ : 3.5424187725631953\n",
      "500+ : 3.249097472924202\n",
      "50,000,000+ : 2.3014440433213004\n",
      "100,000,000+ : 2.1322202166064965\n",
      "50+ : 1.9178700361010799\n",
      "5+ : 0.7897111913357411\n",
      "1+ : 0.5076714801444041\n",
      "500,000,000+ : 0.2707581227436822\n",
      "1,000,000,000+ : 0.22563176895306852\n",
      "0+ : 0.04512635379061372\n",
      "0 : 0.01128158844765343\n"
     ]
    }
   ],
   "source": [
    "display_table(free_gplay,5)"
   ]
  },
  {
   "cell_type": "code",
   "execution_count": 519,
   "metadata": {},
   "outputs": [
    {
     "name": "stdout",
     "output_type": "stream",
     "text": [
      "COMMUNICATION : 38456119.167247385\n",
      "VIDEO_PLAYERS : 24727872.452830188\n",
      "SOCIAL : 23253652.127118643\n",
      "PHOTOGRAPHY : 17840110.40229885\n",
      "PRODUCTIVITY : 16787331.344927534\n",
      "GAME : 15588015.603248259\n",
      "TRAVEL_AND_LOCAL : 13984077.710144928\n",
      "ENTERTAINMENT : 11640705.88235294\n",
      "TOOLS : 10801391.298666667\n",
      "NEWS_AND_MAGAZINES : 9549178.467741935\n",
      "BOOKS_AND_REFERENCE : 8767811.894736841\n",
      "SHOPPING : 7036877.311557789\n",
      "PERSONALIZATION : 5201482.6122448975\n",
      "WEATHER : 5074486.197183099\n",
      "HEALTH_AND_FITNESS : 4188821.9853479853\n",
      "MAPS_AND_NAVIGATION : 4056941.7741935486\n",
      "FAMILY : 3695641.8198090694\n",
      "SPORTS : 3638640.1428571427\n",
      "ART_AND_DESIGN : 1986335.0877192982\n",
      "FOOD_AND_DRINK : 1924897.7363636363\n",
      "EDUCATION : 1833495.145631068\n",
      "BUSINESS : 1712290.1474201474\n",
      "LIFESTYLE : 1437816.2687861272\n",
      "FINANCE : 1387692.475609756\n",
      "HOUSE_AND_HOME : 1331540.5616438356\n",
      "DATING : 854028.8303030303\n",
      "COMICS : 817657.2727272727\n",
      "AUTO_AND_VEHICLES : 647317.8170731707\n",
      "LIBRARIES_AND_DEMO : 638503.734939759\n",
      "PARENTING : 542603.6206896552\n",
      "BEAUTY : 513151.88679245283\n",
      "EVENTS : 253542.22222222222\n",
      "MEDICAL : 120550.61980830671\n"
     ]
    }
   ],
   "source": [
    "avg_installs={}\n",
    "category_totals={}\n",
    "for row in free_gplay[1:]:\n",
    "    category = row[1]\n",
    "    if category in avg_installs:\n",
    "        avg_installs[category] += float(row[5].replace(',','').replace('+',''))\n",
    "    else:\n",
    "        avg_installs[category] = float(row[5].replace(',','').replace('+',''))\n",
    "\n",
    "for row in free_gplay[1:]:\n",
    "    category = row[1]\n",
    "    if category in category_totals:\n",
    "        category_totals[category] += 1\n",
    "    else:\n",
    "        category_totals[category] = 1\n",
    "\n",
    "for category in gplay_category:\n",
    "    avg_installs[category] = avg_installs[category]/category_totals[category]\n",
    "    \n",
    "display_table(avg_installs,None)"
   ]
  },
  {
   "cell_type": "code",
   "execution_count": 520,
   "metadata": {},
   "outputs": [
    {
     "name": "stdout",
     "output_type": "stream",
     "text": [
      "COMMUNICATION: \n",
      " [['WhatsApp Messenger', '1,000,000,000+'], ['Messenger for SMS', '10,000,000+'], ['My Tele2', '5,000,000+'], ['imo beta free calls and text', '100,000,000+'], ['Contacts', '50,000,000+'], ['Call Free – Free Call', '5,000,000+'], ['Web Browser & Explorer', '5,000,000+'], ['Browser 4G', '10,000,000+'], ['MegaFon Dashboard', '10,000,000+'], ['ZenUI Dialer & Contacts', '10,000,000+'], ['Cricket Visual Voicemail', '10,000,000+'], ['TracFone My Account', '1,000,000+'], ['Xperia Link™', '10,000,000+'], ['TouchPal Keyboard - Fun Emoji & Android Keyboard', '10,000,000+'], ['Skype Lite - Free Video Call & Chat', '5,000,000+'], ['My magenta', '1,000,000+'], ['Android Messages', '100,000,000+'], ['Google Duo - High Quality Video Calls', '500,000,000+'], ['Seznam.cz', '1,000,000+'], ['Antillean Gold Telegram (original version)', '100,000+'], ['AT&T Visual Voicemail', '10,000,000+'], ['GMX Mail', '10,000,000+'], ['Omlet Chat', '10,000,000+'], ['My Vodacom SA', '5,000,000+'], ['Microsoft Edge', '5,000,000+'], ['Messenger – Text and Video Chat for Free', '1,000,000,000+'], ['imo free video calls and chat', '500,000,000+'], ['Calls & Text by Mo+', '5,000,000+'], ['free video calls and chat', '50,000,000+'], ['Skype - free IM & video calls', '1,000,000,000+'], ['Who', '100,000,000+'], ['GO SMS Pro - Messenger, Free Themes, Emoji', '100,000,000+'], ['Messaging+ SMS, MMS Free', '1,000,000+'], ['chomp SMS', '10,000,000+'], ['Glide - Video Chat Messenger', '10,000,000+'], ['Text SMS', '10,000,000+'], ['Talkray - Free Calls & Texts', '10,000,000+'], ['LINE: Free Calls & Messages', '500,000,000+'], ['GroupMe', '10,000,000+'], ['mysms SMS Text Messaging Sync', '1,000,000+'], ['2ndLine - Second Phone Number', '1,000,000+'], ['Google Chrome: Fast & Secure', '1,000,000,000+'], ['Firefox Browser fast & private', '100,000,000+'], ['Ninesky Browser', '1,000,000+'], ['Dolphin Browser - Fast, Private & Adblock🐬', '50,000,000+'], ['UC Browser - Fast Download Private & Secure', '500,000,000+'], ['Ghostery Privacy Browser', '1,000,000+'], ['InBrowser - Incognito Browsing', '1,000,000+'], ['Lightning Web Browser', '500,000+'], ['Web Browser', '500,000+'], ['Contacts+', '10,000,000+'], ['ExDialer - Dialer & Contacts', '10,000,000+'], ['PHONE for Google Voice & GTalk', '1,000,000+'], ['Safest Call Blocker', '1,000,000+'], ['Full Screen Caller ID', '5,000,000+'], ['Hiya - Caller ID & Block', '10,000,000+'], ['Mr. Number-Block calls & spam', '10,000,000+'], ['Should I Answer?', '1,000,000+'], ['RocketDial Dialer & Contacts', '1,000,000+'], ['CIA - Caller ID & Call Blocker', '5,000,000+'], ['Calls Blacklist - Call Blocker', '10,000,000+'], ['Call Control - Call Blocker', '5,000,000+'], ['True Contact - Real Caller ID', '1,000,000+'], ['Video Caller Id', '1,000,000+'], ['Sync.ME – Caller ID & Block', '5,000,000+'], ['Burner - Free Phone Number', '1,000,000+'], ['Caller ID +', '1,000,000+'], ['Gmail', '1,000,000,000+'], ['K-9 Mail', '5,000,000+'], ['myMail – Email for Hotmail, Gmail and Outlook Mail', '10,000,000+'], ['Email TypeApp - Mail App', '1,000,000+'], ['All Email Providers', '1,000,000+'], ['Newton Mail - Email App for Gmail, Outlook, IMAP', '1,000,000+'], ['GO Notifier', '10,000,000+'], ['Mail.Ru - Email App', '50,000,000+'], ['Mail1Click - Secure Mail', '10,000+'], ['Daum Mail - Next Mail', '5,000,000+'], ['mail.com mail', '1,000,000+'], ['SolMail - All-in-One email app', '500,000+'], ['Hangouts', '1,000,000,000+'], ['Vonage Mobile® Call Video Text', '1,000,000+'], ['JusTalk - Free Video Calls and Fun Video Chat', '5,000,000+'], ['Azar', '50,000,000+'], ['LokLok: Draw on a Lock Screen', '500,000+'], ['Discord - Chat for Gamers', '10,000,000+'], ['Messenger Lite: Free Calls & Messages', '100,000,000+'], ['AntennaPict β', '1,000,000+'], ['Talkatone: Free Texts, Calls & Phone Number', '10,000,000+'], ['Kik', '100,000,000+'], ['K-@ Mail - Email App', '100,000+'], ['KakaoTalk: Free Calls & Text', '100,000,000+'], ['K-9 Material (unofficial)', '5,000+'], ['M star Dialer', '100,000+'], ['Free WiFi Connect', '10,000,000+'], ['m:go BiH', '10,000+'], ['N-Com Wizard', '50,000+'], ['Opera Mini - fast web browser', '100,000,000+'], ['Opera Browser: Fast and Secure', '100,000,000+'], ['Opera Mini browser beta', '10,000,000+'], ['Psiphon Pro - The Internet Freedom VPN', '10,000,000+'], ['ICQ — Video Calls & Chat Messenger', '10,000,000+'], ['Telegram', '100,000,000+'], ['AT&T Messages for Tablet', '1,000,000+'], ['T-Mobile DIGITS', '100,000+'], ['Truecaller: Caller ID, SMS spam blocking & Dialer', '100,000,000+'], ['Portable Wi-Fi hotspot', '10,000,000+'], ['AT&T Call Protect', '5,000,000+'], ['U - Webinars, Meetings & Messenger', '500,000+'], ['UC Browser Mini -Tiny Fast Private & Secure', '100,000,000+'], ['/u/app', '10,000+'], ['[verify-U] VideoIdent', '10,000+'], ['Viber Messenger', '500,000,000+'], ['WeChat', '100,000,000+'], ['WhatsApp Business', '10,000,000+'], ['WhatsCall Free Global Phone Call App & Cheap Calls', '10,000,000+'], ['X Browser', '50,000+'], ['Yahoo Mail – Stay Organized', '100,000,000+'], ['Free Adblocker Browser - Adblock & Popup Blocker', '10,000,000+'], ['Adblock Browser for Android', '10,000,000+'], ['CM Browser - Ad Blocker , Fast Download , Privacy', '50,000,000+'], ['Adblock Plus for Samsung Internet - Browse safe.', '1,000,000+'], ['Ad Blocker Turbo - Adblocker Browser', '10,000+'], ['Brave Browser: Fast AdBlocker', '5,000,000+'], ['AG Contacts, Lite edition', '5,000+'], ['Oklahoma Ag Co-op Council', '10+'], [\"Bee'ah Employee App\", '100+'], ['tournaments and more.aj.2', '100+'], ['Aj.Petra', '100+'], ['AK Phone', '5,000+'], ['PlacarTv Futebol Ao Vivo', '100,000+'], ['WiFi Access Point (hotspot)', '100,000+'], ['Access Point Names', '10,000+'], ['Puffin Web Browser', '10,000,000+'], ['ClanHQ', '10,000+'], ['Ear Agent: Super Hearing', '5,000,000+'], ['Google Voice', '10,000,000+'], ['Google Allo', '10,000,000+'], ['AU Call Blocker - Block Unwanted Calls Texts 2018', '1,000+'], ['Baby Monitor AV', '100,000+'], ['AV Phone', '1,000+'], ['AW - free video calls and chat', '1,000,000+'], ['Katalogen.ax', '100+'], ['AZ Browser. Private & Download', '100,000+'], ['BA SALES', '1+'], ['BD Data Plan (3G & 4G)', '500,000+'], ['BD Internet Packages (Updated)', '50,000+'], ['BD Dialer', '10,000+'], ['BD Live Call', '5,000+'], ['Best Browser BD social networking', '10+'], ['Traffic signs BD', '500+'], ['BF Browser by Betfilter - Stop Gambling Today!', '10,000+'], ['My BF App', '50,000+'], ['BH Mail', '1,000+'], ['Zalo – Video Call', '50,000,000+'], ['BJ - Confidential', '10+'], ['BK Chat', '1,000+'], ['Of the wall Arapaho bk', '5+'], ['AC-BL', '50+'], ['BBM - Free Calls & Messages', '100,000,000+'], ['DMR BrandMeister Tool', '10,000+'], ['BBMoji - Your personalized BBM Stickers', '1,000,000+'], ['BN MALLORCA Radio', '1,000+'], ['BQ Partners', '1,000+'], ['BS-Mobile', '50+'], ['ATC Unico BS', '500+'], ['BT One Voice mobile access', '5,000+'], ['BT Messenger', '50,000+'], ['BT One Phone Mobile App', '10,000+'], ['SW-100.tch by Callstel', '1,000,000+'], ['BT MeetMe with Dolby Voice', '100,000+'], ['Bluetooth Auto Connect', '5,000,000+'], ['AudioBT: BT audio GPS/SMS/Text', '50,000+'], ['BV', '100+'], ['Feel Performer', '10,000+'], ['Tiny Call Confirm', '1,000,000+'], ['CB Radio Chat - for friends!', '1,000,000+'], ['CB On Mobile', '100,000+'], ['Virtual Walkie Talkie', '1,000,000+'], ['Channel 19', '100,000+'], ['Cb browser', '50+'], ['CF Chat: Connecting Friends', '100+'], ['retteMi.ch', '5,000+'], ['Chrome Dev', '5,000,000+'], ['CJ Browser - Fast & Private', '100+'], ['CJ DVD Rentals', '100+'], ['CK Call NEW', '10+'], ['CM Transfer - Share any files with friends nearby', '5,000,000+'], ['mail.co.uk Mail', '5,000+'], ['ClanPlay: Community and Tools for Gamers', '1,000,000+'], ['CQ-Mobile', '1,000+'], ['CQ-Alert', '500+'], ['QRZ Assistant', '100,000+'], ['Pocket Prefix Plus', '10,000+'], ['Ham Radio Prefixes', '10,000+'], ['CS Customizer', '1,000+'], ['CS Browser | #1 & BEST BROWSER', '1,000+'], ['CS Browser Beta', '5,000+'], ['My Vodafone (GR)', '1,000,000+'], ['IZ2UUF Morse Koch CW', '50,000+'], ['C W Browser', '100+'], ['CW Bluetooth SPP', '100+'], ['CW BLE Peripheral Simulator', '500+'], ['Morse Code Reader', '100,000+'], ['Learn Morse Code - G0HYN Learn Morse', '5,000+'], ['Ring', '10,000+'], ['Hyundai CX Conference', '50+'], ['Cy Messenger', '100+'], ['Amadeus GR & CY', '100+'], ['Hlášenírozhlasu.cz', '10+'], ['SMS Sender - sluzba.cz', '1,000+'], ['WEB.DE Mail', '10,000,000+'], ['Your Freedom VPN Client', '5,000,000+'], ['CallApp: Caller ID, Blocker & Phone Call Recorder', '10,000,000+'], ['Rádio Sol Nascente DF', '500+'], ['DG Card', '100+'], ['Whoscall - Caller ID & Block', '10,000,000+'], ['DK Browser', '10+'], ['cluster.dk', '1,000+'], ['DK TEL Dialer', '50+'], ['DM for WhatsApp', '5,000+'], ['DM Talk New', '5,000+'], ['DM - The Offical Messaging App', '10+'], ['DM Tracker', '1,000+'], ['Call Blocker & Blacklist', '1,000+'], ['ReadyOp DT', '1,000+'], ['DU Browser—Browse fast & fun', '10,000,000+'], ['Caller ID & Call Block - DU Caller', '5,000,000+'], ['BlueDV AMBE', '1,000+'], ['DW Contacts & Phone & Dialer', '1,000,000+'], ['Deaf World DW', '10,000+'], ['Ham DX Cluster & Spots Finder', '5,000+'], ['Mircules DX Cluster Lite', '5,000+'], ['3G DZ Configuration', '50,000+'], ['chat dz', '100+'], ['love sms good morning', '5,000+'], ['Goodbox - Mega App', '100,000+'], ['Call Blocker - Blacklist, SMS Blocker', '1,000,000+'], ['[EF]ShoutBox', '100+'], ['Eg Call', '10,000+'], ['ei', '10+'], ['EJ messenger', '10+'], ['Ek IRA', '10+'], ['Orfox: Tor Browser for Android', '10,000,000+'], ['EO Mumbai', '10+'], ['EP RSS Reader', '100+'], ['Voxer Walkie Talkie Messenger', '10,000,000+'], ['ES-1', '500+'], ['Hangouts Dialer - Call Phones', '10,000,000+'], ['EU Council', '1,000+'], ['Council Voting Calculator', '5,000+'], ['Have your say on Europe', '500+'], ['Programi podrške EU', '100+'], ['Inbox.eu', '10,000+'], ['Web Browser for Android', '1,000,000+'], ['Everbridge', '100,000+'], ['Best Auto Call Recorder Free', '500+'], ['EZ Wifi Notification', '10,000+'], ['Test Server SMS FA', '5+'], ['Lite for Facebook Messenger', '1,000,000+'], ['FC Browser - Focus Privacy Browser', '1,000+'], ['EHiN-FH conferenceapp', '100+'], ['Carpooling FH Hagenberg', '100+'], ['Wi-Fi Auto-connect', '1,000,000+'], ['Talkie - Wi-Fi Calling, Chats, File Sharing', '500,000+'], ['WeFi - Free Fast WiFi Connect & Find Wi-Fi Map', '1,000,000+'], ['Sat-Fi', '5,000+'], ['Portable Wi-Fi hotspot Free', '100,000+'], ['TownWiFi | Wi-Fi Everywhere', '500,000+'], ['Jazz Wi-Fi', '10,000+'], ['Sat-Fi Voice', '1,000+'], ['Free Wi-fi HotspoT', '50,000+'], ['FN Web Radio', '10+'], ['FNH Payment Info', '10+'], ['MARKET FO', '100+'], ['FO OP St-Nazaire', '100+'], ['FO SODEXO', '100+'], ['FO RCBT', '100+'], ['FO Interim', '100+'], ['FO PSA Sept-Fons', '100+'], ['FO AIRBUS TLSE', '1,000+'], ['FO STELIA Méaulte', '100+'], ['FO AIRBUS Nantes', '100+'], ['Firefox Focus: The privacy browser', '1,000,000+'], ['FP Connect', '100+'], ['FreedomPop Messaging Phone/SIM', '500,000+'], ['FP Live', '10+'], ['HipChat - beta version', '50,000+']]\n",
      "VIDEO_PLAYERS: \n",
      " [['YouTube', '1,000,000,000+'], ['All Video Downloader 2018', '1,000,000+'], ['Video Downloader', '10,000,000+'], ['HD Video Player', '1,000,000+'], ['Iqiyi (for tablet)', '1,000,000+'], ['Video Player All Format', '10,000,000+'], ['Motorola Gallery', '100,000,000+'], ['Free TV series', '100,000+'], ['Video Player All Format for Android', '500,000+'], ['VLC for Android', '100,000,000+'], ['Code', '10,000,000+'], ['Vote for', '50,000,000+'], ['XX HD Video downloader-Free Video Downloader', '1,000,000+'], ['OBJECTIVE', '1,000,000+'], ['Music - Mp3 Player', '10,000,000+'], ['HD Movie Video Player', '1,000,000+'], ['YouCut - Video Editor & Video Maker, No Watermark', '5,000,000+'], ['Video Editor,Crop Video,Movie Video,Music,Effects', '1,000,000+'], ['YouTube Studio', '10,000,000+'], ['video player for android', '10,000,000+'], ['Vigo Video', '50,000,000+'], ['Google Play Movies & TV', '1,000,000,000+'], ['HTC Service － DLNA', '10,000,000+'], ['VPlayer', '1,000,000+'], ['MiniMovie - Free Video and Slideshow Editor', '50,000,000+'], ['Samsung Video Library', '50,000,000+'], ['OnePlus Gallery', '1,000,000+'], ['LIKE – Magic Video Maker & Community', '50,000,000+'], ['HTC Service—Video Player', '5,000,000+'], ['Play Tube', '1,000,000+'], ['Droid Zap by Motorola', '5,000,000+'], ['video player', '1,000,000+'], ['G Guide Program Guide (SOFTBANK EMOBILE WILLCOM version)', '1,000,000+'], ['Video.Guru - Video Maker', '1,000,000+'], ['HTC Gallery', '10,000,000+'], ['PowerDirector Video Editor App: 4K, Slow Mo & More', '10,000,000+'], ['Cartoon Network App', '10,000,000+'], ['Video Status', '1,000,000+'], ['Video Wallpaper Show', '500+'], ['SVT Play', '1,000,000+'], ['BluTV', '1,000,000+'], ['Tencent Video - Supporting the whole network', '1,000,000+'], ['Casper Ssinema', '10,000+'], ['amazer - Global Kpop Video Community', '100,000+'], ['MX Player', '500,000,000+'], ['Video Editor', '5,000,000+'], ['Omlet Arcade - Stream, Meet, Play', '10,000,000+'], ['VUE: video editor & camcorder', '1,000,000+'], ['Magisto Video Editor & Maker', '10,000,000+'], ['Dubsmash', '100,000,000+'], ['DU Recorder – Screen Recorder, Video Editor, Live', '50,000,000+'], ['KineMaster – Pro Video Editor', '50,000,000+'], ['Mobizen Screen Recorder for SAMSUNG', '10,000,000+'], ['Mobizen Screen Recorder for LG - Record, Capture', '1,000,000+'], ['M-Sight Pro', '5,000+'], [\"Sketch 'n' go\", '100,000+'], ['Q-See Plus', '5,000+'], ['Ustream', '10,000,000+'], ['VMate', '50,000,000+'], ['All Video Downloader', '10,000,000+'], ['VidPlay', '1,000,000+'], ['HD Video Downloader : 2018 Best video mate', '50,000,000+'], ['VivaVideo - Video Editor & Photo Movie', '100,000,000+'], ['VideoShow-Video Editor, Video Maker, Beauty Camera', '100,000,000+'], ['W Box VMS', '10,000+'], ['W Box VMS HD', '5,000+'], ['AB Repeat Player', '100,000+'], ['A-B repeater', '5,000+'], ['Ez Screen Recorder (no ad)', '100,000+'], ['Adobe Premiere Clip', '5,000,000+'], ['FilmoraGo - Free Video Editor', '10,000,000+'], ['ActionDirector Video Editor - Edit Videos Fast', '5,000,000+'], ['AJ Player', '100+'], ['AK Lodi Films', '100+'], ['WiFi Baby Monitor - NannyCam', '5,000,000+'], ['Ringdroid', '50,000,000+'], ['Multiple Videos at Same Time', '1,000,000+'], ['AV-IPTV', '1,000+'], ['HD Video Player (wmv,avi,mp4,flv,av,mpg,mkv)2017', '10,000+'], ['HD Video Player - Video & MP3 Player | AV Player |', '5,000+'], ['EML UPnP-AV Control Point', '10,000+'], ['AW Screen Recorder No Root', '100,000+'], ['AX Player -Nougat Video Player', '1,000,000+'], ['AX Video Player', '50,000+'], ['Ay', '5,000+'], ['Ay Sabz Gunbad Waly', '1,000+'], ['iMediaShare – Photos & Music', '10,000,000+'], ['AZ Screen Recorder - No Root', '10,000,000+'], ['Movie Downloader Torrent : Az Torrent', '1,000+'], ['A-Z Screen Recorder -', '500+'], ['BC iptv player', '1,000+'], ['Bc Vod', '100+'], ['Funny videos for whatsapp', '1,000,000+'], ['BG video - floating video - background video', '5,000+'], ['BG MUSIC PLAYER - MUSIC PLAYER', '100+'], ['bgtime.tv', '50,000+'], ['YourTube Video Views BG', '500+'], ['Music for Youtube - Tube Music BG, Red+', '1,000+'], ['BGCN TV', '100,000+'], ['AfreecaTV', '10,000,000+'], ['BK News Channel', '10,000+'], ['BR Video Player', '5,000+'], ['BR Series', '50,000+'], ['CINE BR', '1,000+'], ['iPlayIT for YouTube VR Player', '1,000,000+'], ['BSPlayer FREE', '10,000,000+'], ['BSPlayer ARMv7 VFP CPU support', '1,000,000+'], ['BS player remote', '10,000+'], ['BitTorrent®- Torrent Downloads', '10,000,000+'], ['Bx-WiFi-GI', '100+'], ['BZ Langenthaler Tagblatt', '1,000+'], ['Nero AirBurn', '100,000+'], ['CI Stream', '10+'], ['CJ Camcorder', '500+'], ['CJ VLC HD Remote (+ Stream)', '500,000+'], ['ACTIVEON CX & CX GOLD', '50,000+'], ['CX Monthly Tech News', '500+'], ['DG UPnP Player Free', '10,000+'], ['DG Screen Recorder', '500+'], ['DG Video Editor', '10,000+'], ['Video Downloader - for Instagram Repost App', '10,000,000+'], ['Quik – Free Video Editor for photos, clips, music', '10,000,000+'], ['FrostWire: Torrent Downloader & Music Player', '10,000,000+'], ['Inst Download - Video & Photo', '10,000,000+'], ['Vuze Torrent Downloader', '1,000,000+'], ['AndStream - Streaming Download', '1,000,000+'], ['DR TV', '500,000+'], ['DS photo', '1,000,000+'], ['DS video', '1,000,000+'], ['DU Privacy-hide apps、sms、file', '1,000,000+'], ['iSmart DV', '1,000,000+'], ['dv Prompter', '50,000+'], ['DV Lottery Photo', '5,000+'], ['MelifeCam-M', '10,000+'], ['GoPlus Cam', '500,000+'], ['GoAction', '100,000+'], ['4K VIDEO PLAYER ULTRA HD', '5,000+'], ['Downvids Helper - One touch DW', '10,000+'], ['DZ Popup Video Player', '5,000+'], ['EC MANAGER', '100+'], ['EF Sidekick', '5,000+'], ['ek tuhi', '10,000+'], ['Naruto Shippuden - Watch Free!', '10,000,000+'], ['ES Audio Player ( Shortcut )', '100,000+'], ['Furrion ES Control', '5,000+'], ['ES-IPTV', '50,000+'], ['EZCast – Cast Media to TV', '1,000,000+'], ['EZ Web Video Cast | Chromecast', '100,000+'], ['EZ-SEE', '10,000+'], ['EZ TV Player', '10,000+'], ['EZ Usenet for Easynews®', '10,000+'], ['EZ game screen recorder with audio 1080P', '1,000+'], ['Videos downloader for Facebook:fast fb video saver', '5,000+'], ['Video Downloader for FB : Video Download with Link', '100,000+'], ['HD VideoDownlaoder For Fb : XXVideo Downloader', '10,000+'], ['HD Video Download for Facebook', '1,000,000+'], ['Art of F J Taylor', '10+'], ['Motorola FM Radio', '100,000,000+'], ['List iptv FR', '100+']]\n",
      "SOCIAL: \n",
      " [['Facebook', '1,000,000,000+'], ['Facebook Lite', '500,000,000+'], ['Tumblr', '100,000,000+'], ['Social network all in one 2018', '100,000+'], ['Pinterest', '100,000,000+'], ['TextNow - free text + calls', '10,000,000+'], ['Google+', '1,000,000,000+'], ['The Messenger App', '1,000,000+'], ['Messenger Pro', '1,000,000+'], ['Free Messages, Video, Chat,Text for Messenger Plus', '1,000,000+'], ['Telegram X', '5,000,000+'], ['The Video Messenger App', '100,000+'], ['Jodel - The Hyperlocal App', '1,000,000+'], ['Hide Something - Photo, Video', '5,000,000+'], ['Love Sticker', '1,000,000+'], ['Web Browser & Fast Explorer', '5,000,000+'], ['LiveMe - Video chat, new friends, and make money', '10,000,000+'], ['VidStatus app - Status Videos & Status Downloader', '5,000,000+'], ['Love Images', '1,000,000+'], ['Web Browser ( Fast & Secure Web Explorer)', '500,000+'], ['SPARK - Live random video chat & meet new people', '5,000,000+'], ['Golden telegram', '50,000+'], ['Facebook Local', '1,000,000+'], ['Meet – Talk to Strangers Using Random Video Chat', '5,000,000+'], ['MobilePatrol Public Safety App', '1,000,000+'], ['💘 WhatsLov: Smileys of love, stickers and GIF', '1,000,000+'], ['HTC Social Plugin - Facebook', '10,000,000+'], ['Quora', '10,000,000+'], ['Kate Mobile for VK', '10,000,000+'], ['Family GPS tracker KidControl + GPS by SMS Locator', '1,000,000+'], ['Moment', '1,000,000+'], ['Text Me: Text Free, Call Free, Second Phone Number', '10,000,000+'], ['Text Free: WiFi Calling App', '5,000,000+'], ['Badoo - Free Chat & Dating App', '100,000,000+'], ['Text free - Free Text + Call', '10,000,000+'], ['Tango - Live Video Broadcast', '100,000,000+'], ['ooVoo Video Calls, Messaging & Stories', '50,000,000+'], ['Whisper', '5,000,000+'], ['Blogger', '5,000,000+'], [\"Bloglovin'\", '500,000+'], ['Blogaway for Android (Blogger)', '100,000+'], ['Instagram', '1,000,000,000+'], ['TwitCasting Live', '1,000,000+'], ['Stream - Live Video Community', '500,000+'], ['YouNow: Live Stream Video Chat', '10,000,000+'], ['Mirrativ: Live Stream Any App', '500,000+'], ['Snapchat', '500,000,000+'], ['Banjo', '1,000,000+'], ['We Heart It', '10,000,000+'], ['MeetMe: Chat & Meet New People', '50,000,000+'], ['Timehop', '5,000,000+'], ['Frontback - Social Photos', '1,000,000+'], ['LinkedIn', '100,000,000+'], ['Path', '10,000,000+'], ['SayHi Chat, Meet New People', '10,000,000+'], ['Tapatalk - 100,000+ Forums', '10,000,000+'], ['Couple - Relationship App', '1,000,000+'], ['Nextdoor - Local neighborhood news & classifieds', '5,000,000+'], ['LOVOO', '10,000,000+'], ['Jaumo Dating, Flirt & Live Video', '10,000,000+'], ['Patook - make platonic friends', '100,000+'], ['Zello PTT Walkie Talkie', '50,000,000+'], ['textPlus: Free Text & Calls', '10,000,000+'], ['magicApp Calling & Messaging', '10,000,000+'], ['Dating App, Flirt & Chat : W-Match', '10,000,000+'], ['uCiC- Videos and Photos on demand', '100,000+'], ['Meetup', '5,000,000+'], ['POF Free Dating App', '50,000,000+'], ['Tagged - Meet, Chat & Dating', '10,000,000+'], ['SKOUT - Meet, Chat, Go Live', '50,000,000+'], ['Mico- Stranger Chat Random video Chat, Live, Meet', '10,000,000+'], ['Waplog - Free Chat, Dating App, Meet Singles', '10,000,000+'], ['Tik Tok - including musical.ly', '100,000,000+'], ['B-Messenger Video Chat', '1,000,000+'], ['BIGO LIVE - Live Stream', '100,000,000+'], ['Greeting Cards & Wishes', '500,000+'], ['Share G - Images Sharing - Wallpapers App', '10,000+'], ['H letter images', '1,000+'], ['Instachat 😜', '5,000,000+'], ['Fame Boom for Real Followers, Likes', '5,000,000+'], ['FollowMeter for Instagram', '1,000,000+'], ['Mali J', '10,000+'], ['KDRAMA Amino for K-Drama Fans', '100,000+'], ['KPOP Amino for K-Pop Entertainment', '100,000+'], ['EXO-L Amino for EXO Fans', '50,000+'], ['Verdad o Reto', '500,000+'], ['pixiv', '1,000,000+'], ['Join R, Community Engagement', '1,000+'], ['U LIVE – Video Chat & Stream', '1,000,000+'], ['See U - Random video chat, video chat', '100,000+'], ['What U See', '100,000+'], ['U-Report', '10,000+'], ['Meet U - Get Friends for Snapchat, Kik & Instagram', '100,000+'], ['VMate Lite - Funny Short Videos Social Network', '1,000,000+'], ['V Bucks ProTips New', '1,000+'], ['i-share AF/KLM (AFKL ishare)', '100+'], ['Eternal Light AG', '100+'], ['Message AI - Write Better Messages (Free)', '100+'], ['Jamaa Amino for Animal Jam', '10,000+'], ['Legend - Animate Text in Video', '10,000,000+'], ['GUYZ - Gay Chat & Gay Dating', '1,000,000+'], ['eChallan Andhra Pradesh (AP)', '1,000+'], ['Snaappy – 3D fun AR core communication platform', '1,000,000+'], ['Undertale AU Amino', '50,000+'], ['Au Pair', '10,000+'], ['Media Sosial TNI AU', '1,000+'], ['BA 3 Banjarmasin', '10+'], ['iCard BD Plus', '500+'], ['Movement BE', '100+'], ['YAY - TBH', '100,000+'], ['Find My Friends', '10,000,000+'], ['BG LINKED (BGLINKED)', '1,000+'], ['Zdravei.BG', '1,000+'], ['BGKontakti London BG Kontakti', '500+'], ['BGKontakti Bayern BG Kontakti', '1,000+'], ['BGKontakti Vienna BG Kontakti', '1,000+'], ['Discípulos em BH', '100+'], ['BH Connect', '1+'], ['Gayvox - Gay Lesbian Bi Dating', '500,000+'], ['Grindr - Gay chat', '10,000,000+'], ['Lesbian Chat & Dating - SPICY', '1,000,000+'], ['Alumni BJ', '100+'], ['VK', '100,000,000+'], ['BK Traffic Control cum Chart', '10,000+'], ['Daily Murli Saar Widget', '10,000+'], ['Myjob@BM', '100+'], ['bm-Events', '10+'], ['BOO! - Next Generation Messenger', '1,000,000+'], ['Wishbone - Compare Anything', '1,000,000+'], ['BR Chat Bot', '1,000+'], ['Br Browser', '500+'], ['Dr B R Ambedkar (Jai Bhim)', '100,000+'], ['Dr. B.R.Ambedkar', '100,000+'], ['Black Social', '1,000+'], ['BT Communicator', '10,000+'], ['BT Dating -Find your match, help cupid, be social', '50,000+'], ['Fiesta by Tango - Find, Meet and Make New Friends', '1,000,000+'], ['Evasion.bz', '100+'], ['CB Heroes', '5+'], ['CG Districts', '1,000+'], ['Digi-TV.ch', '10,000+'], ['Students.ch', '1,000+'], ['CJ Gospel Hour', '100+'], ['Pekalongan CJ', '0+'], ['Hashtags For Likes.co', '50,000+'], ['CP Dialer', '50,000+'], ['C.P. CERVANTES (TOBARRA)', '5+'], ['Cyprus Police', '10,000+'], ['Rande.cz', '50,000+'], ['signály.cz', '1,000+'], ['DB Event App', '5,000+'], ['DC Comics Amino', '1,000+'], ['DF BugMeNot', '500+'], ['Noticias DF', '1,000+'], ['Periscope - Live Video', '10,000,000+'], ['Daddyhunt: Gay Dating', '500,000+'], ['Free phone calls, free texting SMS on free number', '10,000,000+'], ['Phone Tracker : Family Locator', '10,000,000+'], ['HOLLA Live: Meet New People via Random Video Chat', '5,000,000+'], ['Dating.dk', '100,000+'], ['DK Murali', '500+'], ['GirlTalk.dk', '100+'], ['+Download 4 Instagram Twitter', '1,000,000+'], ['DM Me - Chat', '10,000+'], ['DM for IG 😘 - Image & Video Saver for Instagram', '5,000+'], ['Auto DM for Twitter 🔥', '1,000+'], ['DM Storage (for twitter)', '100+'], ['Fake Chat (Direct Message)', '500,000+'], ['Otto DM', '10+'], ['DN Blog', '10+'], ['DP and Status for WhatsApp 2018', '100,000+'], ['Dp For Whatsapp', '5,000+'], ['Profile Pictures and DP for Whatsapp', '5,000+'], ['Dp for Facebook', '5,000+'], ['Best DP and Status', '10,000+'], ['Instant DP Downloader for Instagram', '5,000+'], ['DP Display Pictures Life Quotes Motivational GM', '5,000+'], ['Qeek for Instagram - Zoom profile insta DP', '500,000+'], ['DV Statistics', '100+'], ['DW Streaming', '1,000+'], ['News Dz', '10+'], ['quran-DZ', '10+'], ['TN e Sevai TN EB Bill Patta Citta EC Birth All Hub', '5,000+'], ['TNEB Bill Online Payment (Tamil)', '5,000+'], ['UP EB Bill Payment & Details', '50+'], ['TN EC Online New', '1,000+'], ['TN Patta /Chitta /EC New', '100+'], ['EG Way Life', '50+'], ['Equestria Amino for MLP', '50,000+'], ['Ek Maratha', '10,000+'], ['Hum Ek Hain 2.02', '10+'], ['Sabka Malik Ek Sai', '1,000+'], ['EO RAIPUR', '10+'], ['Anime et Manga Amino en Français', '50,000+'], ['Hornet - Gay Social Network', '5,000,000+'], ['Amino: Communities and Chats', '10,000,000+'], ['European Solidarity Corps', '1,000+'], ['Reisedealz.eu', '10+'], ['Eddsworld Amino', '10,000+'], ['Rejoin Your Ex', '100+'], ['Amleen Ey', '1+'], ['Coupe Adhémar EY 2017', '50+'], ['EZ Video Download for Facebook', '1,000,000+'], ['Messages, Text and Video Chat for Messenger', '10,000,000+'], ['All Social Networks', '1,000,000+'], ['Messenger Messenger', '10,000,000+'], ['Facebook Creator', '1,000,000+'], ['Swift for Facebook Lite', '500,000+'], ['Friendly for Facebook', '1,000,000+'], ['Faster for Facebook Lite', '1,000,000+'], ['Puffin for Facebook', '500,000+'], ['Profile Tracker - Who Viewed My Facebook Profile', '500,000+'], ['Pink Color for Facebook', '500,000+'], ['Messenger', '10,000,000+'], ['Stickers for Imo, fb, whatsapp', '10,000+'], ['Who Viewed My Facebook Profile - Stalkers Visitors', '5,000,000+'], ['Downloader plus for FB', '500+'], ['MB Notifications for FB (Free)', '100,000+'], ['Phoenix - Facebook & Messenger', '100,000+'], ['Faster Social for Facebook', '100,000+'], ['Check Your Visitors on FB ?', '5,000+'], ['Stickers for Facebook', '1,000,000+'], ['Lite Messenger for Facebook Lite', '10,000+'], ['Mini for Facebook lite', '10,000+'], ['FB Advanced Search', '50+'], ['funny Image Comments for FB', '5,000+'], ['Unlimited Group Links - Whatsapp, FB, Telegram', '10,000+'], ['FCB Connect - FC Barcelona', '50,000+'], ['Frases Cristianas de Esperanza y Fe', '100+'], ['FutureNet your social app', '100,000+'], ['Alarm.fo – choose your info', '1,000+'], ['FunForMobile Ringtones & Chat', '5,000,000+'], ['Chat For Strangers - Video Chat', '100,000+'], ['Fr Daoud Lamei', '100,000+'], ['Naruto & Boruto FR', '100+'], ['Frim: get new friends on local chat rooms', '5,000,000+']]\n"
     ]
    }
   ],
   "source": [
    "display_apps(free_gplay, 1, ['COMMUNICATION','VIDEO_PLAYERS','SOCIAL'],needed_cols=[0,5])"
   ]
  },
  {
   "cell_type": "markdown",
   "metadata": {},
   "source": [
    "14. How about a social networking games should be pretty good profile"
   ]
  },
  {
   "cell_type": "code",
   "execution_count": null,
   "metadata": {},
   "outputs": [],
   "source": []
  }
 ],
 "metadata": {
  "kernelspec": {
   "display_name": "Python 3",
   "language": "python",
   "name": "python3"
  },
  "language_info": {
   "codemirror_mode": {
    "name": "ipython",
    "version": 3
   },
   "file_extension": ".py",
   "mimetype": "text/x-python",
   "name": "python",
   "nbconvert_exporter": "python",
   "pygments_lexer": "ipython3",
   "version": "3.8.2"
  }
 },
 "nbformat": 4,
 "nbformat_minor": 2
}
