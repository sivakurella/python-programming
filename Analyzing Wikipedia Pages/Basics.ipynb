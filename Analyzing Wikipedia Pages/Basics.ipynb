{
 "cells": [
  {
   "cell_type": "markdown",
   "metadata": {},
   "source": [
    "<h1 class=\"text-center\">Analyzing Wiki Pages </h1>"
   ]
  },
  {
   "cell_type": "markdown",
   "metadata": {},
   "source": [
    "## List all the files in the wiki folder"
   ]
  },
  {
   "cell_type": "code",
   "execution_count": 6,
   "metadata": {
    "collapsed": false,
    "jupyter": {
     "outputs_hidden": false
    }
   },
   "outputs": [
    {
     "data": {
      "text/plain": [
       "['Furubira_District,_Hokkaido.html',\n",
       " 'Valentin_Yanin.html',\n",
       " 'Kings_XI_Punjab_in_2014.html',\n",
       " 'William_Harvey_Lillard.html',\n",
       " 'Radial_Road_3.html',\n",
       " 'George_Weldrick.html',\n",
       " 'Zgornji_Otok.html',\n",
       " 'Blue_Heelers_(season_8).html',\n",
       " 'Taggen_Nunatak.html',\n",
       " '1951_National_League_tie-breaker_series.html']"
      ]
     },
     "execution_count": 6,
     "metadata": {},
     "output_type": "execute_result"
    }
   ],
   "source": [
    "import os\n",
    "wiki_files = os.listdir('wiki/')\n",
    "wiki_files[:10]"
   ]
  },
  {
   "cell_type": "markdown",
   "metadata": {},
   "source": [
    "## Number of files in wiki folder"
   ]
  },
  {
   "cell_type": "code",
   "execution_count": 8,
   "metadata": {
    "collapsed": false,
    "jupyter": {
     "outputs_hidden": false
    }
   },
   "outputs": [
    {
     "name": "stdout",
     "output_type": "stream",
     "text": [
      "Number of files to analyze in wiki folder: 1002\n"
     ]
    }
   ],
   "source": [
    "print('Number of files to analyze in wiki folder: {}'.format(len(wiki_files)))"
   ]
  },
  {
   "cell_type": "markdown",
   "metadata": {},
   "source": [
    "## Lets display one of the file"
   ]
  },
  {
   "cell_type": "code",
   "execution_count": 21,
   "metadata": {
    "collapsed": false,
    "jupyter": {
     "outputs_hidden": false
    }
   },
   "outputs": [
    {
     "name": "stdout",
     "output_type": "stream",
     "text": [
      "<!DOCTYPE html>\n",
      "<html class=\"client-nojs\" lang=\"en\" dir=\"ltr\">\n",
      "<head>\n",
      "<meta charset=\"UTF-8\"/>\n",
      "<title\n"
     ]
    }
   ],
   "source": [
    "with open('wiki/Blue_Heelers_(season_8).html') as f:\n",
    "    print(f.read(100))"
   ]
  },
  {
   "cell_type": "markdown",
   "metadata": {},
   "source": [
    "## Lets time the single thread performance"
   ]
  },
  {
   "cell_type": "code",
   "execution_count": 48,
   "metadata": {
    "collapsed": false,
    "jupyter": {
     "outputs_hidden": false
    }
   },
   "outputs": [
    {
     "name": "stdout",
     "output_type": "stream",
     "text": [
      "CPU times: user 63.4 ms, sys: 37.8 ms, total: 101 ms\n",
      "Wall time: 106 ms\n"
     ]
    }
   ],
   "source": [
    "%%time\n",
    "content, articles = [],[]\n",
    "for file in wiki_files:\n",
    "    with open('wiki/'+file, mode='r') as f:\n",
    "        content.append(f.read())\n",
    "        articles.append(file.replace('.html',''))"
   ]
  },
  {
   "cell_type": "markdown",
   "metadata": {},
   "source": [
    "### Create a function to read a file and return the content for map"
   ]
  },
  {
   "cell_type": "code",
   "execution_count": 29,
   "metadata": {
    "collapsed": true,
    "jupyter": {
     "outputs_hidden": true
    }
   },
   "outputs": [],
   "source": [
    "def read_wikifile(file):\n",
    "    with open(file, mode='r') as f:\n",
    "        return f.read()"
   ]
  },
  {
   "cell_type": "markdown",
   "metadata": {},
   "source": [
    "## Lets multi threaded performance of max_workers 5"
   ]
  },
  {
   "cell_type": "code",
   "execution_count": 52,
   "metadata": {
    "collapsed": false,
    "jupyter": {
     "outputs_hidden": false
    }
   },
   "outputs": [
    {
     "name": "stdout",
     "output_type": "stream",
     "text": [
      "CPU times: user 249 ms, sys: 226 ms, total: 475 ms\n",
      "Wall time: 334 ms\n"
     ]
    }
   ],
   "source": [
    "%%time\n",
    "import concurrent.futures\n",
    "pool = concurrent.futures.ThreadPoolExecutor(max_workers=2)\n",
    "\n",
    "filenames = ['wiki/' + file for file in wiki_files]\n",
    "content =list(pool.map(read_wikifile, filenames))\n",
    "articles = [file.replace('.html','') for file in wiki_files]"
   ]
  },
  {
   "cell_type": "markdown",
   "metadata": {},
   "source": [
    "> # Creating multiple threads & processes does not seem to help the performance"
   ]
  },
  {
   "cell_type": "markdown",
   "metadata": {},
   "source": [
    "## Lets create a function to parse the files"
   ]
  },
  {
   "cell_type": "code",
   "execution_count": 55,
   "metadata": {
    "collapsed": true,
    "jupyter": {
     "outputs_hidden": true
    }
   },
   "outputs": [],
   "source": [
    "from bs4 import BeautifulSoup\n",
    "def html_parser(file_content):\n",
    "    soup = BeautifulSoup(file_content, 'html.parser')\n",
    "    \n",
    "    # parse the first div content\n",
    "    return (str(soup.find_all('div',id='content')[0]))"
   ]
  },
  {
   "cell_type": "markdown",
   "metadata": {},
   "source": [
    "## Lets single thread it and see how long it takes"
   ]
  },
  {
   "cell_type": "code",
   "execution_count": 56,
   "metadata": {
    "collapsed": false,
    "jupyter": {
     "outputs_hidden": false
    }
   },
   "outputs": [
    {
     "name": "stdout",
     "output_type": "stream",
     "text": [
      "CPU times: user 59.1 s, sys: 0 ns, total: 59.1 s\n",
      "Wall time: 1min 1s\n"
     ]
    }
   ],
   "source": [
    "%%time\n",
    "parsed = list(map(html_parser, content))"
   ]
  },
  {
   "cell_type": "markdown",
   "metadata": {},
   "source": [
    "## Lets multi process it and see how long it runs"
   ]
  },
  {
   "cell_type": "code",
   "execution_count": 61,
   "metadata": {
    "collapsed": false,
    "jupyter": {
     "outputs_hidden": false
    }
   },
   "outputs": [
    {
     "name": "stdout",
     "output_type": "stream",
     "text": [
      "CPU times: user 776 ms, sys: 435 ms, total: 1.21 s\n",
      "Wall time: 31.6 s\n"
     ]
    }
   ],
   "source": [
    "%%time\n",
    "pool = concurrent.futures.ProcessPoolExecutor(max_workers=2)\n",
    "parsed = list(pool.map(html_parser, content))"
   ]
  },
  {
   "cell_type": "markdown",
   "metadata": {},
   "source": [
    "> # We can see multi process is increasing the performance from single thread"
   ]
  },
  {
   "cell_type": "code",
   "execution_count": 82,
   "metadata": {
    "collapsed": true,
    "jupyter": {
     "outputs_hidden": true
    }
   },
   "outputs": [],
   "source": [
    "import collections\n",
    "def html_number_tags(file_content):\n",
    "    soup = BeautifulSoup(file_content, 'html.parser')\n",
    "    \n",
    "    # find all the tags\n",
    "    tags = [tag.name for tag in soup.find_all()]\n",
    "    tag_counter = collections.Counter(tags)\n",
    "    \n",
    "    # return the tag counter\n",
    "    return tag_counter"
   ]
  },
  {
   "cell_type": "markdown",
   "metadata": {},
   "source": [
    "## Lets single thread it"
   ]
  },
  {
   "cell_type": "code",
   "execution_count": 86,
   "metadata": {
    "collapsed": false,
    "jupyter": {
     "outputs_hidden": false
    }
   },
   "outputs": [
    {
     "name": "stdout",
     "output_type": "stream",
     "text": [
      "CPU times: user 43.4 s, sys: 0 ns, total: 43.4 s\n",
      "Wall time: 45.3 s\n"
     ]
    }
   ],
   "source": [
    "%%time\n",
    "list_tag_counters = list(map(html_number_tags, content))\n",
    "final_tag_counter = collections.Counter()\n",
    "for tc in list_tag_counters:\n",
    "    final_tag_counter += tc\n",
    "final_tag_counter"
   ]
  },
  {
   "cell_type": "code",
   "execution_count": 88,
   "metadata": {
    "collapsed": false,
    "jupyter": {
     "outputs_hidden": false
    }
   },
   "outputs": [
    {
     "data": {
      "text/plain": [
       "[('a', 215498),\n",
       " ('li', 134053),\n",
       " ('span', 75468),\n",
       " ('div', 59113),\n",
       " ('td', 57798),\n",
       " ('tr', 27416),\n",
       " ('ul', 24238),\n",
       " ('i', 18289),\n",
       " ('th', 14538),\n",
       " ('b', 14479)]"
      ]
     },
     "execution_count": 88,
     "metadata": {},
     "output_type": "execute_result"
    }
   ],
   "source": [
    "final_tag_counter.most_common(10)"
   ]
  },
  {
   "cell_type": "markdown",
   "metadata": {},
   "source": [
    "## Lets multi process it"
   ]
  },
  {
   "cell_type": "code",
   "execution_count": 90,
   "metadata": {
    "collapsed": false,
    "jupyter": {
     "outputs_hidden": false
    }
   },
   "outputs": [
    {
     "name": "stdout",
     "output_type": "stream",
     "text": [
      "CPU times: user 910 ms, sys: 316 ms, total: 1.23 s\n",
      "Wall time: 23.7 s\n"
     ]
    }
   ],
   "source": [
    "%%time\n",
    "pool = concurrent.futures.ProcessPoolExecutor(max_workers=3)\n",
    "list_tag_counters = list(pool.map(html_number_tags, content))\n",
    "\n",
    "final_tag_counter = collections.Counter()\n",
    "for tc in list_tag_counters:\n",
    "    final_tag_counter += tc\n",
    "final_tag_counter"
   ]
  },
  {
   "cell_type": "markdown",
   "metadata": {},
   "source": [
    "> # Multi-process certainly helps it out as its CPU bound process"
   ]
  },
  {
   "cell_type": "markdown",
   "metadata": {},
   "source": [
    "> # Lot of a tags and certianly means it links to other articles"
   ]
  },
  {
   "cell_type": "markdown",
   "metadata": {},
   "source": [
    "## Lets find the common word from all the wiki pages provided"
   ]
  },
  {
   "cell_type": "code",
   "execution_count": 112,
   "metadata": {
    "collapsed": false,
    "jupyter": {
     "outputs_hidden": false
    }
   },
   "outputs": [],
   "source": [
    "import collections, re\n",
    "def find_words(file_content, len_words=0):\n",
    "    # regex to find the words\n",
    "    regex = re.compile('[^a-zA-Z_0-9]+')\n",
    "    \n",
    "    # parse the html content\n",
    "    soup = BeautifulSoup(file_content, 'html.parser')\n",
    "    text = regex.sub(' ',soup.get_text().lower())\n",
    "    \n",
    "    # filter out the non-words and less than\n",
    "    words = [word for word in text.split() if len(word) >= len_words]\n",
    "    words_counter = collections.Counter(words)\n",
    "    \n",
    "    # return the tag counter\n",
    "    return len(words), words_counter"
   ]
  },
  {
   "cell_type": "code",
   "execution_count": 118,
   "metadata": {
    "collapsed": false,
    "jupyter": {
     "outputs_hidden": false
    }
   },
   "outputs": [
    {
     "name": "stdout",
     "output_type": "stream",
     "text": [
      "CPU times: user 102 ms, sys: 3.98 ms, total: 106 ms\n",
      "Wall time: 108 ms\n"
     ]
    }
   ],
   "source": [
    "%%time\n",
    "_ = find_words(content[0])"
   ]
  },
  {
   "cell_type": "markdown",
   "metadata": {},
   "source": [
    "## Lets single thread it"
   ]
  },
  {
   "cell_type": "code",
   "execution_count": 114,
   "metadata": {
    "collapsed": false,
    "jupyter": {
     "outputs_hidden": false
    }
   },
   "outputs": [
    {
     "name": "stdout",
     "output_type": "stream",
     "text": [
      "CPU times: user 59.1 s, sys: 143 ms, total: 59.2 s\n",
      "Wall time: 1min 2s\n"
     ]
    }
   ],
   "source": [
    "%%time\n",
    "words_tuple = list(map(find_words, content))\n",
    "final_words_counter = collections.Counter()\n",
    "final_count_words = 0\n",
    "for wt in words_tuple:\n",
    "    final_words_counter += wt[1]\n",
    "    final_count_words += wt[0]\n",
    "final_words_counter"
   ]
  },
  {
   "cell_type": "code",
   "execution_count": 109,
   "metadata": {
    "collapsed": false,
    "jupyter": {
     "outputs_hidden": false
    }
   },
   "outputs": [
    {
     "data": {
      "text/plain": [
       "(1622420,\n",
       " [('the', 38296),\n",
       "  ('ext', 29758),\n",
       "  ('of', 23388),\n",
       "  ('ready', 19013),\n",
       "  ('in', 17047),\n",
       "  ('and', 16469),\n",
       "  ('a', 15957),\n",
       "  ('true', 14269),\n",
       "  ('1', 14127),\n",
       "  ('to', 13371)])"
      ]
     },
     "execution_count": 109,
     "metadata": {},
     "output_type": "execute_result"
    }
   ],
   "source": [
    "final_count_words, final_words_counter.most_common(10)"
   ]
  },
  {
   "cell_type": "markdown",
   "metadata": {},
   "source": [
    "## Lets process words longer than 7"
   ]
  },
  {
   "cell_type": "code",
   "execution_count": 120,
   "metadata": {
    "collapsed": false,
    "jupyter": {
     "outputs_hidden": false
    }
   },
   "outputs": [
    {
     "name": "stdout",
     "output_type": "stream",
     "text": [
      "CPU times: user 55 s, sys: 0 ns, total: 55 s\n",
      "Wall time: 57.6 s\n"
     ]
    }
   ],
   "source": [
    "%%time\n",
    "words_tuple = list(map(find_words, content,[7 for _ in  range(len(content))]))\n",
    "final_words_counter = collections.Counter()\n",
    "final_count_words = 0\n",
    "for wt in words_tuple:\n",
    "    final_words_counter += wt[1]\n",
    "    final_count_words += wt[0]\n",
    "final_words_counter"
   ]
  },
  {
   "cell_type": "code",
   "execution_count": 121,
   "metadata": {
    "collapsed": false,
    "jupyter": {
     "outputs_hidden": false
    }
   },
   "outputs": [
    {
     "data": {
      "text/plain": [
       "(547307,\n",
       " [('mediawiki', 11522),\n",
       "  ('template', 8507),\n",
       "  ('wikipedia', 8020),\n",
       "  ('function', 5048),\n",
       "  ('articles', 4861),\n",
       "  ('globalcssjs', 4008),\n",
       "  ('retrieved', 3220),\n",
       "  ('navigation', 3020),\n",
       "  ('options', 3013),\n",
       "  ('visualeditor', 3006)])"
      ]
     },
     "execution_count": 121,
     "metadata": {},
     "output_type": "execute_result"
    }
   ],
   "source": [
    "final_count_words, final_words_counter.most_common(10)"
   ]
  },
  {
   "cell_type": "markdown",
   "metadata": {},
   "source": [
    "## Lets multi-process it"
   ]
  },
  {
   "cell_type": "code",
   "execution_count": 122,
   "metadata": {
    "collapsed": false,
    "jupyter": {
     "outputs_hidden": false
    }
   },
   "outputs": [
    {
     "name": "stdout",
     "output_type": "stream",
     "text": [
      "CPU times: user 7.35 s, sys: 444 ms, total: 7.79 s\n",
      "Wall time: 31.7 s\n"
     ]
    }
   ],
   "source": [
    "%%time\n",
    "pool = concurrent.futures.ProcessPoolExecutor(max_workers=3)\n",
    "words_tuple = list(pool.map(find_words, content,[7 for _ in  range(len(content))]))\n",
    "\n",
    "final_words_counter = collections.Counter()\n",
    "final_count_words = 0\n",
    "for wt in words_tuple:\n",
    "    final_words_counter += wt[1]\n",
    "    final_count_words += wt[0]\n",
    "final_words_counter"
   ]
  },
  {
   "cell_type": "markdown",
   "metadata": {},
   "source": [
    "> # Multi-process certainly helps it out as its CPU bound process"
   ]
  },
  {
   "cell_type": "code",
   "execution_count": null,
   "metadata": {
    "collapsed": true,
    "jupyter": {
     "outputs_hidden": true
    }
   },
   "outputs": [],
   "source": []
  }
 ],
 "metadata": {
  "kernelspec": {
   "display_name": "Python 3",
   "language": "python",
   "name": "python3"
  },
  "language_info": {
   "codemirror_mode": {
    "name": "ipython",
    "version": 3
   },
   "file_extension": ".py",
   "mimetype": "text/x-python",
   "name": "python",
   "nbconvert_exporter": "python",
   "pygments_lexer": "ipython3",
   "version": "3.7.2"
  }
 },
 "nbformat": 4,
 "nbformat_minor": 4
}
