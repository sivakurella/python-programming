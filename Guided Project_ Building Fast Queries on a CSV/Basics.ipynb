{
 "cells": [
  {
   "cell_type": "markdown",
   "metadata": {},
   "source": [
    "<h1 style=\"text-align: center;\">Analyze Laptops data </h1>"
   ]
  },
  {
   "cell_type": "code",
   "execution_count": 7,
   "metadata": {},
   "outputs": [
    {
     "name": "stdout",
     "output_type": "stream",
     "text": [
      "['Id', 'Company', 'Product', 'TypeName', 'Inches', 'ScreenResolution', 'Cpu', 'Ram', 'Memory', 'Gpu', 'OpSys', 'Weight', 'Price']\n",
      "[['6571244', 'Apple', 'MacBook Pro', 'Ultrabook', '13.3', 'IPS Panel Retina Display 2560x1600', 'Intel Core i5 2.3GHz', '8GB', '128GB SSD', 'Intel Iris Plus Graphics 640', 'macOS', '1.37kg', '1339'], ['7287764', 'Apple', 'Macbook Air', 'Ultrabook', '13.3', '1440x900', 'Intel Core i5 1.8GHz', '8GB', '128GB Flash Storage', 'Intel HD Graphics 6000', 'macOS', '1.34kg', '898'], ['3362737', 'HP', '250 G6', 'Notebook', '15.6', 'Full HD 1920x1080', 'Intel Core i5 7200U 2.5GHz', '8GB', '256GB SSD', 'Intel HD Graphics 620', 'No OS', '1.86kg', '575'], ['9722156', 'Apple', 'MacBook Pro', 'Ultrabook', '15.4', 'IPS Panel Retina Display 2880x1800', 'Intel Core i7 2.7GHz', '16GB', '512GB SSD', 'AMD Radeon Pro 455', 'macOS', '1.83kg', '2537'], ['8550527', 'Apple', 'MacBook Pro', 'Ultrabook', '13.3', 'IPS Panel Retina Display 2560x1600', 'Intel Core i5 3.1GHz', '8GB', '256GB SSD', 'Intel Iris Plus Graphics 650', 'macOS', '1.37kg', '1803']]\n"
     ]
    }
   ],
   "source": [
    "import csv\n",
    "with open('laptops.csv', encoding='utf8', mode='r') as f:\n",
    "    header = next(csv.reader(f))\n",
    "    rows = list(csv.reader(f))\n",
    "\n",
    "print(header)\n",
    "print(rows[:5])"
   ]
  },
  {
   "cell_type": "code",
   "execution_count": 14,
   "metadata": {},
   "outputs": [],
   "source": [
    "class Inventory:\n",
    "    def __init__(self, filename):\n",
    "        with open(filename, encoding='utf8', mode='r') as f:\n",
    "            self.header = next(csv.reader(f))\n",
    "            self.rows =[]\n",
    "            for row in csv.reader(f):\n",
    "                try:\n",
    "                    row[-1] = int(row[-1])\n",
    "                except:\n",
    "                    row[-1] = 0\n",
    "                self.rows.append(row)\n",
    "                "
   ]
  },
  {
   "cell_type": "code",
   "execution_count": 15,
   "metadata": {},
   "outputs": [],
   "source": [
    "inventory = Inventory('laptops.csv')"
   ]
  },
  {
   "cell_type": "code",
   "execution_count": 16,
   "metadata": {},
   "outputs": [
    {
     "name": "stdout",
     "output_type": "stream",
     "text": [
      "['Id', 'Company', 'Product', 'TypeName', 'Inches', 'ScreenResolution', 'Cpu', 'Ram', 'Memory', 'Gpu', 'OpSys', 'Weight', 'Price']\n"
     ]
    }
   ],
   "source": [
    "print(inventory.header)"
   ]
  },
  {
   "cell_type": "code",
   "execution_count": 17,
   "metadata": {},
   "outputs": [
    {
     "name": "stdout",
     "output_type": "stream",
     "text": [
      "1303\n"
     ]
    }
   ],
   "source": [
    "print(len(inventory.rows))"
   ]
  },
  {
   "cell_type": "code",
   "execution_count": 18,
   "metadata": {},
   "outputs": [
    {
     "name": "stdout",
     "output_type": "stream",
     "text": [
      "1304 laptops.csv\r\n"
     ]
    }
   ],
   "source": [
    "!wc -l laptops.csv"
   ]
  },
  {
   "cell_type": "markdown",
   "metadata": {},
   "source": [
    ">  # Implementing a laptop id lookup"
   ]
  },
  {
   "cell_type": "code",
   "execution_count": 19,
   "metadata": {},
   "outputs": [],
   "source": [
    "class Inventory:\n",
    "    def __init__(self, filename):\n",
    "        with open(filename, encoding='utf8', mode='r') as f:\n",
    "            self.header = next(csv.reader(f))\n",
    "            self.rows =[]\n",
    "            for row in csv.reader(f):\n",
    "                try:\n",
    "                    row[-1] = int(row[-1])\n",
    "                except:\n",
    "                    row[-1] = 0\n",
    "                self.rows.append(row)\n",
    "    \n",
    "    def get_laptop_from_id(self, laptop_id):\n",
    "        for row in self.rows:\n",
    "            if laptop_id == row[0]:\n",
    "                return row\n",
    "                "
   ]
  },
  {
   "cell_type": "code",
   "execution_count": 27,
   "metadata": {},
   "outputs": [
    {
     "name": "stdout",
     "output_type": "stream",
     "text": [
      "CPU times: user 6.42 ms, sys: 0 ns, total: 6.42 ms\n",
      "Wall time: 5.64 ms\n"
     ]
    }
   ],
   "source": [
    "%%time\n",
    "inventory = Inventory('laptops.csv')"
   ]
  },
  {
   "cell_type": "code",
   "execution_count": 21,
   "metadata": {},
   "outputs": [
    {
     "data": {
      "text/plain": [
       "['3362737',\n",
       " 'HP',\n",
       " '250 G6',\n",
       " 'Notebook',\n",
       " '15.6',\n",
       " 'Full HD 1920x1080',\n",
       " 'Intel Core i5 7200U 2.5GHz',\n",
       " '8GB',\n",
       " '256GB SSD',\n",
       " 'Intel HD Graphics 620',\n",
       " 'No OS',\n",
       " '1.86kg',\n",
       " 575]"
      ]
     },
     "execution_count": 21,
     "metadata": {},
     "output_type": "execute_result"
    }
   ],
   "source": [
    "inventory.get_laptop_from_id('3362737')"
   ]
  },
  {
   "cell_type": "code",
   "execution_count": 23,
   "metadata": {},
   "outputs": [
    {
     "name": "stdout",
     "output_type": "stream",
     "text": [
      "CPU times: user 241 µs, sys: 26 µs, total: 267 µs\n",
      "Wall time: 273 µs\n"
     ]
    }
   ],
   "source": [
    "%%time\n",
    "inventory.get_laptop_from_id('3362736')"
   ]
  },
  {
   "cell_type": "code",
   "execution_count": 24,
   "metadata": {},
   "outputs": [],
   "source": [
    "inventory.get_laptop_from_id('3362736')"
   ]
  },
  {
   "cell_type": "markdown",
   "metadata": {},
   "source": [
    "> # Implementing a faster lookup for laptop id using a dictonary for the rows"
   ]
  },
  {
   "cell_type": "code",
   "execution_count": 45,
   "metadata": {},
   "outputs": [],
   "source": [
    "class Inventory:\n",
    "    def __init__(self, filename):\n",
    "        with open(filename, encoding='utf8', mode='r') as f:\n",
    "            self.header = next(csv.reader(f))\n",
    "            self.id_to_row = {}\n",
    "            self.rows = []\n",
    "            for row in csv.reader(f):\n",
    "                try:\n",
    "                    row[-1] = int(row[-1])\n",
    "                except:\n",
    "                    row[-1] = 0\n",
    "                self.id_to_row[row[0]] = row\n",
    "                self.rows.append(row)\n",
    "    \n",
    "    def get_laptop_from_id(self, laptop_id):\n",
    "        for row in self.rows:\n",
    "            if laptop_id == row[0]:\n",
    "                return row\n",
    "    \n",
    "    def get_laptop_from_id_fast(self, laptop_id):\n",
    "        if laptop_id in self.id_to_row:\n",
    "                return self.id_to_row[laptop_id]"
   ]
  },
  {
   "cell_type": "code",
   "execution_count": 46,
   "metadata": {},
   "outputs": [
    {
     "name": "stdout",
     "output_type": "stream",
     "text": [
      "CPU times: user 9.46 ms, sys: 150 µs, total: 9.61 ms\n",
      "Wall time: 7.35 ms\n"
     ]
    }
   ],
   "source": [
    "%%time\n",
    "inventory = Inventory('laptops.csv')"
   ]
  },
  {
   "cell_type": "code",
   "execution_count": 47,
   "metadata": {},
   "outputs": [
    {
     "name": "stdout",
     "output_type": "stream",
     "text": [
      "CPU times: user 7 µs, sys: 1e+03 ns, total: 8 µs\n",
      "Wall time: 10.3 µs\n"
     ]
    }
   ],
   "source": [
    "%%time\n",
    "inventory.get_laptop_from_id_fast('3362736')"
   ]
  },
  {
   "cell_type": "code",
   "execution_count": 48,
   "metadata": {},
   "outputs": [
    {
     "data": {
      "text/plain": [
       "['3362737',\n",
       " 'HP',\n",
       " '250 G6',\n",
       " 'Notebook',\n",
       " '15.6',\n",
       " 'Full HD 1920x1080',\n",
       " 'Intel Core i5 7200U 2.5GHz',\n",
       " '8GB',\n",
       " '256GB SSD',\n",
       " 'Intel HD Graphics 620',\n",
       " 'No OS',\n",
       " '1.86kg',\n",
       " 575]"
      ]
     },
     "execution_count": 48,
     "metadata": {},
     "output_type": "execute_result"
    }
   ],
   "source": [
    "inventory.get_laptop_from_id_fast('3362737')"
   ]
  },
  {
   "cell_type": "markdown",
   "metadata": {},
   "source": [
    "> # Lets time test them "
   ]
  },
  {
   "cell_type": "code",
   "execution_count": 49,
   "metadata": {},
   "outputs": [],
   "source": [
    "import time, random\n",
    "ids = [str(random.randint(1_000_000,9_999_999)) for _ in range(10_000)]"
   ]
  },
  {
   "cell_type": "code",
   "execution_count": 50,
   "metadata": {},
   "outputs": [
    {
     "name": "stdout",
     "output_type": "stream",
     "text": [
      "0.9557840824127197\n"
     ]
    }
   ],
   "source": [
    "total_time_no_dict=0\n",
    "start=time.time()\n",
    "for id in ids:\n",
    "    _ = inventory.get_laptop_from_id(id)\n",
    "end=time.time()\n",
    "total_time_no_dict = end-start\n",
    "print(total_time_no_dict)"
   ]
  },
  {
   "cell_type": "code",
   "execution_count": 51,
   "metadata": {},
   "outputs": [
    {
     "name": "stdout",
     "output_type": "stream",
     "text": [
      "0.0040853023529052734\n"
     ]
    }
   ],
   "source": [
    "total_time_dict=0\n",
    "start=time.time()\n",
    "for id in ids:\n",
    "    _ = inventory.get_laptop_from_id_fast(id)\n",
    "end=time.time()\n",
    "total_time_dict = end-start\n",
    "print(total_time_dict)"
   ]
  },
  {
   "cell_type": "markdown",
   "metadata": {},
   "source": [
    "> # Check promotion dollars"
   ]
  },
  {
   "cell_type": "code",
   "execution_count": 60,
   "metadata": {},
   "outputs": [],
   "source": [
    "class Inventory:\n",
    "    def __init__(self, filename):\n",
    "        with open(filename, encoding='utf8', mode='r') as f:\n",
    "            self.header = next(csv.reader(f))\n",
    "            self.id_to_row = {}\n",
    "            self.rows = []\n",
    "            for row in csv.reader(f):\n",
    "                try:\n",
    "                    row[-1] = int(row[-1])\n",
    "                except:\n",
    "                    row[-1] = 0\n",
    "                self.id_to_row[row[0]] = row\n",
    "                self.rows.append(row)\n",
    "    \n",
    "    def get_laptop_from_id(self, laptop_id):\n",
    "        for row in self.rows:\n",
    "            if laptop_id == row[0]:\n",
    "                return row\n",
    "    \n",
    "    def get_laptop_from_id_fast(self, laptop_id):\n",
    "        if laptop_id in self.id_to_row:\n",
    "                return self.id_to_row[laptop_id]\n",
    "            \n",
    "    def check_promotion_dollars(self, dollars):\n",
    "        for row in self.rows:\n",
    "            if dollars == row[-1]:\n",
    "                return True\n",
    "        \n",
    "        for i in range(len(self.rows)):\n",
    "            for j in range(i, len(self.rows)):\n",
    "                if self.rows[i][-1] + self.rows[j][-1] == dollars:\n",
    "                    return True\n",
    "        # if all fails\n",
    "        return False"
   ]
  },
  {
   "cell_type": "code",
   "execution_count": 61,
   "metadata": {},
   "outputs": [],
   "source": [
    "inventory = Inventory('laptops.csv')"
   ]
  },
  {
   "cell_type": "code",
   "execution_count": 62,
   "metadata": {},
   "outputs": [
    {
     "name": "stdout",
     "output_type": "stream",
     "text": [
      "True\n"
     ]
    }
   ],
   "source": [
    "print(inventory.check_promotion_dollars(1000))"
   ]
  },
  {
   "cell_type": "code",
   "execution_count": 63,
   "metadata": {},
   "outputs": [
    {
     "name": "stdout",
     "output_type": "stream",
     "text": [
      "False\n"
     ]
    }
   ],
   "source": [
    "print(inventory.check_promotion_dollars(442))"
   ]
  },
  {
   "cell_type": "markdown",
   "metadata": {},
   "source": [
    "> # Lets make the search for gift card dollars little faster"
   ]
  },
  {
   "cell_type": "code",
   "execution_count": 65,
   "metadata": {},
   "outputs": [],
   "source": [
    "class Inventory:\n",
    "    def __init__(self, filename):\n",
    "        with open(filename, encoding='utf8', mode='r') as f:\n",
    "            self.header = next(csv.reader(f))\n",
    "            self.id_to_row = {}\n",
    "            self.rows = []\n",
    "            self.price = set()\n",
    "            \n",
    "            # populate rows-->list(rows) and id_to_row-->dict\n",
    "            for row in csv.reader(f):\n",
    "                try:\n",
    "                    row[-1] = int(row[-1])\n",
    "                except:\n",
    "                    row[-1] = 0\n",
    "                self.id_to_row[row[0]] = row\n",
    "                self.rows.append(row)\n",
    "            \n",
    "            # populate price-->set\n",
    "            for i in range(len(self.rows)):\n",
    "                self.price.add(self.rows[i][-1])\n",
    "                for j in range(i, len(self.rows)):\n",
    "                    self.price.add(self.rows[i][-1] + self.rows[j][-1])\n",
    "                 \n",
    "    \n",
    "    def get_laptop_from_id(self, laptop_id):\n",
    "        for row in self.rows:\n",
    "            if laptop_id == row[0]:\n",
    "                return row\n",
    "    \n",
    "    def get_laptop_from_id_fast(self, laptop_id):\n",
    "        if laptop_id in self.id_to_row:\n",
    "                return self.id_to_row[laptop_id]\n",
    "            \n",
    "    def check_promotion_dollars(self, dollars):\n",
    "        for row in self.rows:\n",
    "            if dollars == row[-1]:\n",
    "                return True\n",
    "        \n",
    "        for i in range(len(self.rows)):\n",
    "            for j in range(i, len(self.rows)):\n",
    "                if self.rows[i][-1] + self.rows[j][-1] == dollars:\n",
    "                    return True\n",
    "        # if all fails\n",
    "        return False\n",
    "    \n",
    "    def check_promotion_dollars_fast(self, dollars):\n",
    "         return dollars in self.price\n",
    "            \n",
    "inventory = Inventory('laptops.csv')"
   ]
  },
  {
   "cell_type": "code",
   "execution_count": 67,
   "metadata": {},
   "outputs": [
    {
     "name": "stdout",
     "output_type": "stream",
     "text": [
      "True\n"
     ]
    }
   ],
   "source": [
    "print(inventory.check_promotion_dollars_fast(1000))"
   ]
  },
  {
   "cell_type": "code",
   "execution_count": 68,
   "metadata": {},
   "outputs": [
    {
     "name": "stdout",
     "output_type": "stream",
     "text": [
      "False\n"
     ]
    }
   ],
   "source": [
    "print(inventory.check_promotion_dollars_fast(442))"
   ]
  },
  {
   "cell_type": "code",
   "execution_count": 69,
   "metadata": {},
   "outputs": [],
   "source": [
    "prices = [str(random.randint(100,5_000)) for _ in range(100)]"
   ]
  },
  {
   "cell_type": "code",
   "execution_count": 71,
   "metadata": {},
   "outputs": [
    {
     "name": "stdout",
     "output_type": "stream",
     "text": [
      "24.26603937149048\n"
     ]
    }
   ],
   "source": [
    "total_time_no_set=0\n",
    "start=time.time()\n",
    "for price in prices:\n",
    "    _ = inventory.check_promotion_dollars(price)\n",
    "end=time.time()\n",
    "total_time_no_set = end-start\n",
    "print(total_time_no_set)"
   ]
  },
  {
   "cell_type": "code",
   "execution_count": 72,
   "metadata": {},
   "outputs": [
    {
     "name": "stdout",
     "output_type": "stream",
     "text": [
      "0.00018978118896484375\n"
     ]
    }
   ],
   "source": [
    "total_time_set=0\n",
    "start=time.time()\n",
    "for price in prices:\n",
    "    _ = inventory.check_promotion_dollars_fast(price)\n",
    "end=time.time()\n",
    "total_time_set = end-start\n",
    "print(total_time_set)"
   ]
  },
  {
   "cell_type": "markdown",
   "metadata": {},
   "source": [
    "> # Adding the binary search to find the first laptop more expensive"
   ]
  },
  {
   "cell_type": "code",
   "execution_count": 123,
   "metadata": {},
   "outputs": [],
   "source": [
    "class Inventory:\n",
    "    def __init__(self, filename):\n",
    "        with open(filename, encoding='utf8', mode='r') as f:\n",
    "            self.header = next(csv.reader(f))\n",
    "            self.id_to_row = {}\n",
    "            self.rows = []\n",
    "            self.price = set()\n",
    "            \n",
    "            # populate rows-->list(rows) and id_to_row-->dict\n",
    "            for row in csv.reader(f):\n",
    "                try:\n",
    "                    row[-1] = int(row[-1])\n",
    "                except:\n",
    "                    row[-1] = 0\n",
    "                self.id_to_row[row[0]] = row\n",
    "                self.rows.append(row)\n",
    "            \n",
    "            # populate price-->set\n",
    "            for i in range(len(self.rows)):\n",
    "                self.price.add(self.rows[i][-1])\n",
    "                for j in range(i, len(self.rows)):\n",
    "                    self.price.add(self.rows[i][-1] + self.rows[j][-1])\n",
    "                    \n",
    "            # populate rows_by_price for binary searches\n",
    "            self.rows_by_price = sorted(self.rows,key=lambda row: row[-1])\n",
    "                 \n",
    "    \n",
    "    def get_laptop_from_id(self, laptop_id):\n",
    "        for row in self.rows:\n",
    "            if laptop_id == row[0]:\n",
    "                return row\n",
    "    \n",
    "    def get_laptop_from_id_fast(self, laptop_id):\n",
    "        if laptop_id in self.id_to_row:\n",
    "                return self.id_to_row[laptop_id]\n",
    "            \n",
    "    def check_promotion_dollars(self, dollars):\n",
    "        for row in self.rows:\n",
    "            if dollars == row[-1]:\n",
    "                return True\n",
    "        \n",
    "        for i in range(len(self.rows)):\n",
    "            for j in range(i, len(self.rows)):\n",
    "                if self.rows[i][-1] + self.rows[j][-1] == dollars:\n",
    "                    return True\n",
    "        # if all fails\n",
    "        return False\n",
    "    \n",
    "    def check_promotion_dollars_fast(self, dollars):\n",
    "         return dollars in self.price\n",
    "        \n",
    "    def find_first_laptop_more_expensive(self, price):\n",
    "        range_start = 0\n",
    "        range_end = len(self.rows_by_price) -1\n",
    "       \n",
    "        while range_start < range_end:\n",
    "            range_middle = (range_end + range_start) // 2\n",
    "            middle_price = self.rows_by_price[range_middle][-1]\n",
    "            print(f'{range_middle}:${middle_price}; {range_start},{range_end}')\n",
    "            if price < middle_price:\n",
    "                range_end = range_middle\n",
    "            else: #price > middle_price:\n",
    "                range_start = range_middle + 1\n",
    "            \n",
    "        \n",
    "        if self.rows_by_price[range_start][-1] < price:                  \n",
    "            return -1\n",
    "            \n",
    "        return range_start\n",
    "           \n",
    "inventory = Inventory('laptops.csv')"
   ]
  },
  {
   "cell_type": "code",
   "execution_count": 125,
   "metadata": {},
   "outputs": [
    {
     "name": "stdout",
     "output_type": "stream",
     "text": [
      "651:$977; 0,1302\n",
      "977:$1488; 652,1302\n",
      "814:$1189; 652,977\n",
      "733:$1090; 652,814\n",
      "692:$1018; 652,733\n",
      "672:$999; 652,692\n",
      "662:$988; 652,672\n",
      "657:$979; 652,662\n",
      "660:$985; 658,662\n",
      "659:$980; 658,660\n",
      "658:$979; 658,659\n"
     ]
    },
    {
     "data": {
      "text/plain": [
       "659"
      ]
     },
     "execution_count": 125,
     "metadata": {},
     "output_type": "execute_result"
    }
   ],
   "source": [
    "inventory.find_first_laptop_more_expensive(979)"
   ]
  },
  {
   "cell_type": "code",
   "execution_count": null,
   "metadata": {},
   "outputs": [],
   "source": []
  }
 ],
 "metadata": {
  "kernelspec": {
   "display_name": "Python 3",
   "language": "python",
   "name": "python3"
  },
  "language_info": {
   "codemirror_mode": {
    "name": "ipython",
    "version": 3
   },
   "file_extension": ".py",
   "mimetype": "text/x-python",
   "name": "python",
   "nbconvert_exporter": "python",
   "pygments_lexer": "ipython3",
   "version": "3.8.2"
  }
 },
 "nbformat": 4,
 "nbformat_minor": 2
}
