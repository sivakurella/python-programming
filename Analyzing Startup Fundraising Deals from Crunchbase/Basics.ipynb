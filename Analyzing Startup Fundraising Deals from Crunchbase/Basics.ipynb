{
 "cells": [
  {
   "cell_type": "markdown",
   "metadata": {},
   "source": [
    "<h1 style=\"text-align:center\">Analyzing CrunchBase Dataset</h1>"
   ]
  },
  {
   "cell_type": "code",
   "execution_count": 26,
   "metadata": {
    "collapsed": false,
    "jupyter": {
     "outputs_hidden": false
    }
   },
   "outputs": [
    {
     "name": "stdout",
     "output_type": "stream",
     "text": [
      "total 10120\n",
      "drwxrwxrwx 3 dq root     4096 Nov 13 02:32 .\n",
      "drwxr-xr-x 1 dq dq       4096 Nov 13 03:12 ..\n",
      "-rwxrwxrwx 1 dq root      605 Nov 13 02:32 Basics.ipynb\n",
      "-rwxrwxrwx 1 dq root 10339663 Jan  1  1970 crunchbase-investments.csv\n",
      "drwxr-xr-x 2 dq root     4096 Nov 13 02:32 .ipynb_checkpoints\n"
     ]
    }
   ],
   "source": [
    "!ls -al"
   ]
  },
  {
   "cell_type": "markdown",
   "metadata": {},
   "source": [
    "## Lets Chunk 5000 rows and analyze the data"
   ]
  },
  {
   "cell_type": "code",
   "execution_count": 27,
   "metadata": {
    "collapsed": false,
    "jupyter": {
     "outputs_hidden": false
    }
   },
   "outputs": [
    {
     "data": {
      "text/html": [
       "<div>\n",
       "<style scoped>\n",
       "    .dataframe tbody tr th:only-of-type {\n",
       "        vertical-align: middle;\n",
       "    }\n",
       "\n",
       "    .dataframe tbody tr th {\n",
       "        vertical-align: top;\n",
       "    }\n",
       "\n",
       "    .dataframe thead th {\n",
       "        text-align: right;\n",
       "    }\n",
       "</style>\n",
       "<table border=\"1\" class=\"dataframe\">\n",
       "  <thead>\n",
       "    <tr style=\"text-align: right;\">\n",
       "      <th></th>\n",
       "      <th>company_permalink</th>\n",
       "      <th>company_name</th>\n",
       "      <th>company_category_code</th>\n",
       "      <th>company_country_code</th>\n",
       "      <th>company_state_code</th>\n",
       "      <th>company_region</th>\n",
       "      <th>company_city</th>\n",
       "      <th>investor_permalink</th>\n",
       "      <th>investor_name</th>\n",
       "      <th>investor_category_code</th>\n",
       "      <th>investor_country_code</th>\n",
       "      <th>investor_state_code</th>\n",
       "      <th>investor_region</th>\n",
       "      <th>investor_city</th>\n",
       "      <th>funding_round_type</th>\n",
       "      <th>funded_at</th>\n",
       "      <th>funded_month</th>\n",
       "      <th>funded_quarter</th>\n",
       "      <th>funded_year</th>\n",
       "      <th>raised_amount_usd</th>\n",
       "    </tr>\n",
       "  </thead>\n",
       "  <tbody>\n",
       "    <tr>\n",
       "      <th>0</th>\n",
       "      <td>/company/advercar</td>\n",
       "      <td>AdverCar</td>\n",
       "      <td>advertising</td>\n",
       "      <td>USA</td>\n",
       "      <td>CA</td>\n",
       "      <td>SF Bay</td>\n",
       "      <td>San Francisco</td>\n",
       "      <td>/company/1-800-flowers-com</td>\n",
       "      <td>1-800-FLOWERS.COM</td>\n",
       "      <td>NaN</td>\n",
       "      <td>USA</td>\n",
       "      <td>NY</td>\n",
       "      <td>New York</td>\n",
       "      <td>New York</td>\n",
       "      <td>series-a</td>\n",
       "      <td>2012-10-30</td>\n",
       "      <td>2012-10</td>\n",
       "      <td>2012-Q4</td>\n",
       "      <td>2012</td>\n",
       "      <td>2000000</td>\n",
       "    </tr>\n",
       "    <tr>\n",
       "      <th>1</th>\n",
       "      <td>/company/launchgram</td>\n",
       "      <td>LaunchGram</td>\n",
       "      <td>news</td>\n",
       "      <td>USA</td>\n",
       "      <td>CA</td>\n",
       "      <td>SF Bay</td>\n",
       "      <td>Mountain View</td>\n",
       "      <td>/company/10xelerator</td>\n",
       "      <td>10Xelerator</td>\n",
       "      <td>finance</td>\n",
       "      <td>USA</td>\n",
       "      <td>OH</td>\n",
       "      <td>Columbus</td>\n",
       "      <td>Columbus</td>\n",
       "      <td>other</td>\n",
       "      <td>2012-01-23</td>\n",
       "      <td>2012-01</td>\n",
       "      <td>2012-Q1</td>\n",
       "      <td>2012</td>\n",
       "      <td>20000</td>\n",
       "    </tr>\n",
       "    <tr>\n",
       "      <th>2</th>\n",
       "      <td>/company/utap</td>\n",
       "      <td>uTaP</td>\n",
       "      <td>messaging</td>\n",
       "      <td>USA</td>\n",
       "      <td>NaN</td>\n",
       "      <td>United States - Other</td>\n",
       "      <td>NaN</td>\n",
       "      <td>/company/10xelerator</td>\n",
       "      <td>10Xelerator</td>\n",
       "      <td>finance</td>\n",
       "      <td>USA</td>\n",
       "      <td>OH</td>\n",
       "      <td>Columbus</td>\n",
       "      <td>Columbus</td>\n",
       "      <td>other</td>\n",
       "      <td>2012-01-01</td>\n",
       "      <td>2012-01</td>\n",
       "      <td>2012-Q1</td>\n",
       "      <td>2012</td>\n",
       "      <td>20000</td>\n",
       "    </tr>\n",
       "    <tr>\n",
       "      <th>3</th>\n",
       "      <td>/company/zoopshop</td>\n",
       "      <td>ZoopShop</td>\n",
       "      <td>software</td>\n",
       "      <td>USA</td>\n",
       "      <td>OH</td>\n",
       "      <td>Columbus</td>\n",
       "      <td>columbus</td>\n",
       "      <td>/company/10xelerator</td>\n",
       "      <td>10Xelerator</td>\n",
       "      <td>finance</td>\n",
       "      <td>USA</td>\n",
       "      <td>OH</td>\n",
       "      <td>Columbus</td>\n",
       "      <td>Columbus</td>\n",
       "      <td>angel</td>\n",
       "      <td>2012-02-15</td>\n",
       "      <td>2012-02</td>\n",
       "      <td>2012-Q1</td>\n",
       "      <td>2012</td>\n",
       "      <td>20000</td>\n",
       "    </tr>\n",
       "    <tr>\n",
       "      <th>4</th>\n",
       "      <td>/company/efuneral</td>\n",
       "      <td>eFuneral</td>\n",
       "      <td>web</td>\n",
       "      <td>USA</td>\n",
       "      <td>OH</td>\n",
       "      <td>Cleveland</td>\n",
       "      <td>Cleveland</td>\n",
       "      <td>/company/10xelerator</td>\n",
       "      <td>10Xelerator</td>\n",
       "      <td>finance</td>\n",
       "      <td>USA</td>\n",
       "      <td>OH</td>\n",
       "      <td>Columbus</td>\n",
       "      <td>Columbus</td>\n",
       "      <td>other</td>\n",
       "      <td>2011-09-08</td>\n",
       "      <td>2011-09</td>\n",
       "      <td>2011-Q3</td>\n",
       "      <td>2011</td>\n",
       "      <td>20000</td>\n",
       "    </tr>\n",
       "  </tbody>\n",
       "</table>\n",
       "</div>"
      ],
      "text/plain": [
       "     company_permalink company_name company_category_code  \\\n",
       "0    /company/advercar     AdverCar           advertising   \n",
       "1  /company/launchgram   LaunchGram                  news   \n",
       "2        /company/utap         uTaP             messaging   \n",
       "3    /company/zoopshop     ZoopShop              software   \n",
       "4    /company/efuneral     eFuneral                   web   \n",
       "\n",
       "  company_country_code company_state_code         company_region  \\\n",
       "0                  USA                 CA                 SF Bay   \n",
       "1                  USA                 CA                 SF Bay   \n",
       "2                  USA                NaN  United States - Other   \n",
       "3                  USA                 OH               Columbus   \n",
       "4                  USA                 OH              Cleveland   \n",
       "\n",
       "    company_city          investor_permalink      investor_name  \\\n",
       "0  San Francisco  /company/1-800-flowers-com  1-800-FLOWERS.COM   \n",
       "1  Mountain View        /company/10xelerator        10Xelerator   \n",
       "2            NaN        /company/10xelerator        10Xelerator   \n",
       "3       columbus        /company/10xelerator        10Xelerator   \n",
       "4      Cleveland        /company/10xelerator        10Xelerator   \n",
       "\n",
       "  investor_category_code investor_country_code investor_state_code  \\\n",
       "0                    NaN                   USA                  NY   \n",
       "1                finance                   USA                  OH   \n",
       "2                finance                   USA                  OH   \n",
       "3                finance                   USA                  OH   \n",
       "4                finance                   USA                  OH   \n",
       "\n",
       "  investor_region investor_city funding_round_type   funded_at funded_month  \\\n",
       "0        New York      New York           series-a  2012-10-30      2012-10   \n",
       "1        Columbus      Columbus              other  2012-01-23      2012-01   \n",
       "2        Columbus      Columbus              other  2012-01-01      2012-01   \n",
       "3        Columbus      Columbus              angel  2012-02-15      2012-02   \n",
       "4        Columbus      Columbus              other  2011-09-08      2011-09   \n",
       "\n",
       "  funded_quarter  funded_year  raised_amount_usd  \n",
       "0        2012-Q4         2012            2000000  \n",
       "1        2012-Q1         2012              20000  \n",
       "2        2012-Q1         2012              20000  \n",
       "3        2012-Q1         2012              20000  \n",
       "4        2011-Q3         2011              20000  "
      ]
     },
     "execution_count": 27,
     "metadata": {},
     "output_type": "execute_result"
    }
   ],
   "source": [
    "import pandas as pd\n",
    "pd.options.display.max_columns = 99\n",
    "first_five_rows = pd.read_csv('crunchbase-investments.csv', nrows=5)\n",
    "first_five_rows.head()"
   ]
  },
  {
   "cell_type": "markdown",
   "metadata": {},
   "source": [
    "## Ran into an issue reading the file as UTF-8 Encoding "
   ]
  },
  {
   "cell_type": "code",
   "execution_count": 28,
   "metadata": {
    "collapsed": false,
    "jupyter": {
     "outputs_hidden": false
    }
   },
   "outputs": [
    {
     "name": "stdout",
     "output_type": "stream",
     "text": [
      "{'encoding': 'Windows-1252', 'confidence': 0.7298014120085498, 'language': ''}\n"
     ]
    }
   ],
   "source": [
    "import chardet\n",
    "\n",
    "with open('crunchbase-investments.csv', mode='rb') as f:\n",
    "    raw_bytes = f.read(100000)\n",
    "    \n",
    "encoding_name = chardet.detect(raw_bytes)\n",
    "print(encoding_name)"
   ]
  },
  {
   "cell_type": "code",
   "execution_count": 29,
   "metadata": {
    "collapsed": false,
    "jupyter": {
     "outputs_hidden": false
    }
   },
   "outputs": [
    {
     "data": {
      "text/html": [
       "<div>\n",
       "<style scoped>\n",
       "    .dataframe tbody tr th:only-of-type {\n",
       "        vertical-align: middle;\n",
       "    }\n",
       "\n",
       "    .dataframe tbody tr th {\n",
       "        vertical-align: top;\n",
       "    }\n",
       "\n",
       "    .dataframe thead th {\n",
       "        text-align: right;\n",
       "    }\n",
       "</style>\n",
       "<table border=\"1\" class=\"dataframe\">\n",
       "  <thead>\n",
       "    <tr style=\"text-align: right;\">\n",
       "      <th></th>\n",
       "      <th>company_permalink</th>\n",
       "      <th>company_name</th>\n",
       "      <th>company_category_code</th>\n",
       "      <th>company_country_code</th>\n",
       "      <th>company_state_code</th>\n",
       "      <th>company_region</th>\n",
       "      <th>company_city</th>\n",
       "      <th>investor_permalink</th>\n",
       "      <th>investor_name</th>\n",
       "      <th>investor_category_code</th>\n",
       "      <th>investor_country_code</th>\n",
       "      <th>investor_state_code</th>\n",
       "      <th>investor_region</th>\n",
       "      <th>investor_city</th>\n",
       "      <th>funding_round_type</th>\n",
       "      <th>funded_at</th>\n",
       "      <th>funded_month</th>\n",
       "      <th>funded_quarter</th>\n",
       "      <th>funded_year</th>\n",
       "      <th>raised_amount_usd</th>\n",
       "    </tr>\n",
       "  </thead>\n",
       "  <tbody>\n",
       "    <tr>\n",
       "      <th>0</th>\n",
       "      <td>/company/advercar</td>\n",
       "      <td>AdverCar</td>\n",
       "      <td>advertising</td>\n",
       "      <td>USA</td>\n",
       "      <td>CA</td>\n",
       "      <td>SF Bay</td>\n",
       "      <td>San Francisco</td>\n",
       "      <td>/company/1-800-flowers-com</td>\n",
       "      <td>1-800-FLOWERS.COM</td>\n",
       "      <td>NaN</td>\n",
       "      <td>USA</td>\n",
       "      <td>NY</td>\n",
       "      <td>New York</td>\n",
       "      <td>New York</td>\n",
       "      <td>series-a</td>\n",
       "      <td>2012-10-30</td>\n",
       "      <td>2012-10</td>\n",
       "      <td>2012-Q4</td>\n",
       "      <td>2012</td>\n",
       "      <td>2000000.0</td>\n",
       "    </tr>\n",
       "    <tr>\n",
       "      <th>1</th>\n",
       "      <td>/company/launchgram</td>\n",
       "      <td>LaunchGram</td>\n",
       "      <td>news</td>\n",
       "      <td>USA</td>\n",
       "      <td>CA</td>\n",
       "      <td>SF Bay</td>\n",
       "      <td>Mountain View</td>\n",
       "      <td>/company/10xelerator</td>\n",
       "      <td>10Xelerator</td>\n",
       "      <td>finance</td>\n",
       "      <td>USA</td>\n",
       "      <td>OH</td>\n",
       "      <td>Columbus</td>\n",
       "      <td>Columbus</td>\n",
       "      <td>other</td>\n",
       "      <td>2012-01-23</td>\n",
       "      <td>2012-01</td>\n",
       "      <td>2012-Q1</td>\n",
       "      <td>2012</td>\n",
       "      <td>20000.0</td>\n",
       "    </tr>\n",
       "    <tr>\n",
       "      <th>2</th>\n",
       "      <td>/company/utap</td>\n",
       "      <td>uTaP</td>\n",
       "      <td>messaging</td>\n",
       "      <td>USA</td>\n",
       "      <td>NaN</td>\n",
       "      <td>United States - Other</td>\n",
       "      <td>NaN</td>\n",
       "      <td>/company/10xelerator</td>\n",
       "      <td>10Xelerator</td>\n",
       "      <td>finance</td>\n",
       "      <td>USA</td>\n",
       "      <td>OH</td>\n",
       "      <td>Columbus</td>\n",
       "      <td>Columbus</td>\n",
       "      <td>other</td>\n",
       "      <td>2012-01-01</td>\n",
       "      <td>2012-01</td>\n",
       "      <td>2012-Q1</td>\n",
       "      <td>2012</td>\n",
       "      <td>20000.0</td>\n",
       "    </tr>\n",
       "    <tr>\n",
       "      <th>3</th>\n",
       "      <td>/company/zoopshop</td>\n",
       "      <td>ZoopShop</td>\n",
       "      <td>software</td>\n",
       "      <td>USA</td>\n",
       "      <td>OH</td>\n",
       "      <td>Columbus</td>\n",
       "      <td>columbus</td>\n",
       "      <td>/company/10xelerator</td>\n",
       "      <td>10Xelerator</td>\n",
       "      <td>finance</td>\n",
       "      <td>USA</td>\n",
       "      <td>OH</td>\n",
       "      <td>Columbus</td>\n",
       "      <td>Columbus</td>\n",
       "      <td>angel</td>\n",
       "      <td>2012-02-15</td>\n",
       "      <td>2012-02</td>\n",
       "      <td>2012-Q1</td>\n",
       "      <td>2012</td>\n",
       "      <td>20000.0</td>\n",
       "    </tr>\n",
       "    <tr>\n",
       "      <th>4</th>\n",
       "      <td>/company/efuneral</td>\n",
       "      <td>eFuneral</td>\n",
       "      <td>web</td>\n",
       "      <td>USA</td>\n",
       "      <td>OH</td>\n",
       "      <td>Cleveland</td>\n",
       "      <td>Cleveland</td>\n",
       "      <td>/company/10xelerator</td>\n",
       "      <td>10Xelerator</td>\n",
       "      <td>finance</td>\n",
       "      <td>USA</td>\n",
       "      <td>OH</td>\n",
       "      <td>Columbus</td>\n",
       "      <td>Columbus</td>\n",
       "      <td>other</td>\n",
       "      <td>2011-09-08</td>\n",
       "      <td>2011-09</td>\n",
       "      <td>2011-Q3</td>\n",
       "      <td>2011</td>\n",
       "      <td>20000.0</td>\n",
       "    </tr>\n",
       "  </tbody>\n",
       "</table>\n",
       "</div>"
      ],
      "text/plain": [
       "     company_permalink company_name company_category_code  \\\n",
       "0    /company/advercar     AdverCar           advertising   \n",
       "1  /company/launchgram   LaunchGram                  news   \n",
       "2        /company/utap         uTaP             messaging   \n",
       "3    /company/zoopshop     ZoopShop              software   \n",
       "4    /company/efuneral     eFuneral                   web   \n",
       "\n",
       "  company_country_code company_state_code         company_region  \\\n",
       "0                  USA                 CA                 SF Bay   \n",
       "1                  USA                 CA                 SF Bay   \n",
       "2                  USA                NaN  United States - Other   \n",
       "3                  USA                 OH               Columbus   \n",
       "4                  USA                 OH              Cleveland   \n",
       "\n",
       "    company_city          investor_permalink      investor_name  \\\n",
       "0  San Francisco  /company/1-800-flowers-com  1-800-FLOWERS.COM   \n",
       "1  Mountain View        /company/10xelerator        10Xelerator   \n",
       "2            NaN        /company/10xelerator        10Xelerator   \n",
       "3       columbus        /company/10xelerator        10Xelerator   \n",
       "4      Cleveland        /company/10xelerator        10Xelerator   \n",
       "\n",
       "  investor_category_code investor_country_code investor_state_code  \\\n",
       "0                    NaN                   USA                  NY   \n",
       "1                finance                   USA                  OH   \n",
       "2                finance                   USA                  OH   \n",
       "3                finance                   USA                  OH   \n",
       "4                finance                   USA                  OH   \n",
       "\n",
       "  investor_region investor_city funding_round_type   funded_at funded_month  \\\n",
       "0        New York      New York           series-a  2012-10-30      2012-10   \n",
       "1        Columbus      Columbus              other  2012-01-23      2012-01   \n",
       "2        Columbus      Columbus              other  2012-01-01      2012-01   \n",
       "3        Columbus      Columbus              angel  2012-02-15      2012-02   \n",
       "4        Columbus      Columbus              other  2011-09-08      2011-09   \n",
       "\n",
       "  funded_quarter  funded_year  raised_amount_usd  \n",
       "0        2012-Q4         2012          2000000.0  \n",
       "1        2012-Q1         2012            20000.0  \n",
       "2        2012-Q1         2012            20000.0  \n",
       "3        2012-Q1         2012            20000.0  \n",
       "4        2011-Q3         2011            20000.0  "
      ]
     },
     "execution_count": 29,
     "metadata": {},
     "output_type": "execute_result"
    }
   ],
   "source": [
    "first_5000_rows = pd.read_csv('crunchbase-investments.csv', nrows=5000, encoding='ISO8859-1')\n",
    "first_5000_rows.head()"
   ]
  },
  {
   "cell_type": "markdown",
   "metadata": {},
   "source": [
    "## Lets calculate the missing value counts"
   ]
  },
  {
   "cell_type": "code",
   "execution_count": 52,
   "metadata": {
    "collapsed": false,
    "jupyter": {
     "outputs_hidden": false
    }
   },
   "outputs": [
    {
     "name": "stdout",
     "output_type": "stream",
     "text": [
      "                        Missing_value_counts  col_memory_in_mb\n",
      "company_category_code                    643              3.26\n",
      "company_city                             533              3.34\n",
      "company_country_code                       1              3.03\n",
      "company_name                               1              3.42\n",
      "company_permalink                          1              3.87\n",
      "company_region                             1              3.25\n",
      "company_state_code                       492              2.96\n",
      "funded_at                                  3              3.38\n",
      "funded_month                               3              3.23\n",
      "funded_quarter                             3              3.23\n",
      "funded_year                                3              0.40\n",
      "funding_round_type                         3              3.25\n",
      "investor_category_code                 50427              0.59\n",
      "investor_city                          12480              2.75\n",
      "investor_country_code                  12001              2.52\n",
      "investor_name                              2              3.73\n",
      "investor_permalink                         2              4.75\n",
      "investor_region                            2              3.24\n",
      "investor_state_code                    16809              2.36\n",
      "raised_amount_usd                       3599              0.40\n",
      "\n",
      "Number of columns: 20\n",
      "Number of records: 52870\n",
      "Total Memory in MB: 56.99\n",
      "Average Col Memory Size in MB: 2.848\n"
     ]
    }
   ],
   "source": [
    "chunk_iter = pd.read_csv('crunchbase-investments.csv', chunksize=5000, encoding='ISO8859-1')\n",
    "missing_value_counts=[]\n",
    "num_rows = 0\n",
    "total_memory = 0\n",
    "col_memory = []\n",
    "\n",
    "for chunk in chunk_iter:\n",
    "    num_rows += len(chunk.index)\n",
    "    missing_value_counts.append(chunk.isna().sum())\n",
    "    \n",
    "    # lets calculate the total & column memory\n",
    "    temp_col_memory = chunk.memory_usage(deep=True)\n",
    "    col_memory.append(temp_col_memory)\n",
    "    total_memory += temp_col_memory.sum()\n",
    "    \n",
    "# total memeory in MB\n",
    "total_memory = total_memory/(1024 ** 2)\n",
    "    \n",
    "# figure out missing value counts\n",
    "combined_df = pd.concat(missing_value_counts)\n",
    "final_df = pd.DataFrame({'Missing_value_counts':combined_df.groupby(combined_df.index).sum()})\n",
    "#print(final_df['missing_val_counts'].sort_values())\n",
    "\n",
    "# figure out col memory\n",
    "combined_df = pd.concat(col_memory)\n",
    "final_df['col_memory_in_mb'] = round(combined_df.groupby(combined_df.index).sum()/(1024**2),2)\n",
    "print(final_df)\n",
    "\n",
    "print('\\nNumber of columns: {}'.format(len(final_df.index)))\n",
    "print('Number of records: {}'.format(num_rows))\n",
    "print('Total Memory in MB: {}'. format(round(total_memory,2)))\n",
    "print('Average Col Memory Size in MB: {}'.format(final_df['col_memory_in_mb'].mean()))"
   ]
  },
  {
   "cell_type": "markdown",
   "metadata": {},
   "source": [
    "### We can ignore company_permalink, investor_permalink, funded_month,funded_quarter and funded_year"
   ]
  },
  {
   "cell_type": "code",
   "execution_count": 58,
   "metadata": {
    "collapsed": false,
    "jupyter": {
     "outputs_hidden": false
    }
   },
   "outputs": [
    {
     "data": {
      "text/plain": [
       "{'company_category_code',\n",
       " 'company_city',\n",
       " 'company_country_code',\n",
       " 'company_name',\n",
       " 'company_region',\n",
       " 'company_state_code',\n",
       " 'funded_at',\n",
       " 'funding_round_type',\n",
       " 'investor_category_code',\n",
       " 'investor_city',\n",
       " 'investor_country_code',\n",
       " 'investor_name',\n",
       " 'investor_region',\n",
       " 'investor_state_code',\n",
       " 'raised_amount_usd'}"
      ]
     },
     "execution_count": 58,
     "metadata": {},
     "output_type": "execute_result"
    }
   ],
   "source": [
    "keep_cols = set(chunk.columns) - set(['company_permalink', 'investor_permalink'\\\n",
    "                                   , 'funded_month','funded_quarter', 'funded_year'])\n",
    "keep_cols"
   ]
  },
  {
   "cell_type": "code",
   "execution_count": 61,
   "metadata": {
    "collapsed": true,
    "jupyter": {
     "outputs_hidden": true
    }
   },
   "outputs": [],
   "source": [
    "# find difference between two lists\n",
    "def diff_bn_lists(l1, l2):\n",
    "    return list(set(l1).symmetric_difference(l2))"
   ]
  },
  {
   "cell_type": "code",
   "execution_count": 63,
   "metadata": {
    "collapsed": false,
    "jupyter": {
     "outputs_hidden": false
    }
   },
   "outputs": [
    {
     "name": "stdout",
     "output_type": "stream",
     "text": [
      "Number of String Columns: 13 & Number of Numeric Columns: 1\n",
      "Total Memory in MB: 38.54\n"
     ]
    }
   ],
   "source": [
    "# initialize\n",
    "numeric_cols, string_cols = [],[]\n",
    "nums_in_strings = {}\n",
    "num_rows = 0\n",
    "date_cols = ['funded_at']\n",
    "\n",
    "\n",
    "# lets chunk the file for every 3225 rows <5MB size\n",
    "chunk_iter = pd.read_csv('crunchbase-investments.csv', chunksize=5000, usecols=keep_cols\\\n",
    "                         , encoding='ISO8859-1')\n",
    "\n",
    "\n",
    "# lets determine the numeric and string columns first\n",
    "for chunk in chunk_iter:        \n",
    "    # lets handle date columns\n",
    "    for col in date_cols:\n",
    "        chunk[col] = pd.to_datetime(chunk[col], format='%Y-%m-%d')\n",
    "        \n",
    "    # lets figure out the objects and numericals\n",
    "    temp_numeric_cols = list(chunk.select_dtypes(include=['int','float']).columns)\n",
    "    temp_string_cols = list(chunk.select_dtypes(include=['object']).columns)\n",
    "    \n",
    "    # lets handle string columns\n",
    "    if len(diff_bn_lists(string_cols, temp_string_cols)) > 0:\n",
    "        string_cols = list(set(string_cols).union(set(temp_string_cols)))\n",
    "        \n",
    "    # lets find any numeric columns in string_cols\n",
    "    temp_nums_in_string = (set(temp_numeric_cols).union(set(numeric_cols)))\\\n",
    "    .intersection(set(string_cols))\n",
    "    \n",
    "    # if we find any numbers in string cols remove them and document the value counts\n",
    "    if len(temp_nums_in_string) > 0:\n",
    "        \n",
    "        # lets remove them from numeric_cols\n",
    "        numeric_cols = list(set(numeric_cols) - temp_nums_in_string)\n",
    "        temp_numeric_cols = list(set(temp_numeric_cols) - temp_nums_in_string)\n",
    "        \n",
    "       \n",
    "        # lets add them to the nums_in_strings\n",
    "        for col in temp_nums_in_string:\n",
    "            # lets find the outliers\n",
    "            mask = pd.to_numeric(chunk[col], errors='coerce').isna()\n",
    "            temp_chunk_col = chunk[col][mask]\n",
    "            # remove the nulls\n",
    "            temp_chunk_col = temp_chunk_col[~temp_chunk_col.isna()]\n",
    "            \n",
    "            # now add them to dictionary\n",
    "            if not col in nums_in_strings:\n",
    "                nums_in_strings[col] = [temp_chunk_col.value_counts()]\n",
    "            else:\n",
    "                nums_in_strings[col].append(temp_chunk_col.value_counts())\n",
    "     \n",
    "    # lets handle numeric columns\n",
    "    if len(diff_bn_lists(numeric_cols, temp_numeric_cols)) > 0:\n",
    "        numeric_cols = list(set(numeric_cols).union(set(temp_numeric_cols)))\n",
    "        \n",
    "    # lets calculate the total memory\n",
    "    total_memory += chunk.memory_usage(deep=True).sum()\n",
    "    \n",
    "    # lets add the chunk rows to total rows\n",
    "    num_rows += len(chunk)\n",
    "        \n",
    "# lets groupby the value counts and find the sums\n",
    "for col in nums_in_strings:\n",
    "    temp_val_col = pd.concat(nums_in_strings[col])\n",
    "    nums_in_strings[col] = temp_val_col.groupby(temp_val_col.index).sum()\n",
    "    \n",
    "# total memeory in MB\n",
    "total_memory = total_memory/(1024 ** 2)\n",
    "\n",
    "print('Number of String Columns: {0} & Number of Numeric Columns: {1}'.\\\n",
    "      format(len(string_cols), len(numeric_cols)))\n",
    "print('Total Memory in MB: {}'. format(round(total_memory,2)))"
   ]
  },
  {
   "cell_type": "code",
   "execution_count": 64,
   "metadata": {
    "collapsed": false,
    "jupyter": {
     "outputs_hidden": false
    }
   },
   "outputs": [
    {
     "data": {
      "text/plain": [
       "{'investor_category_code': Series([], Name: investor_category_code, dtype: int64),\n",
       " 'investor_city': Series([], Name: investor_city, dtype: int64),\n",
       " 'investor_country_code': Series([], Name: investor_country_code, dtype: int64),\n",
       " 'investor_state_code': Series([], Name: investor_state_code, dtype: int64)}"
      ]
     },
     "execution_count": 64,
     "metadata": {},
     "output_type": "execute_result"
    }
   ],
   "source": [
    "nums_in_strings"
   ]
  },
  {
   "cell_type": "code",
   "execution_count": 65,
   "metadata": {
    "collapsed": false,
    "jupyter": {
     "outputs_hidden": false
    }
   },
   "outputs": [
    {
     "name": "stdout",
     "output_type": "stream",
     "text": [
      "['investor_category_code', 'investor_region', 'investor_city', 'funding_round_type', 'company_category_code', 'investor_country_code', 'company_state_code', 'company_country_code', 'company_region', 'company_city', 'company_name', 'investor_state_code', 'investor_name'] ['raised_amount_usd']\n"
     ]
    }
   ],
   "source": [
    "print(string_cols, numeric_cols)"
   ]
  },
  {
   "cell_type": "code",
   "execution_count": 70,
   "metadata": {
    "collapsed": false,
    "jupyter": {
     "outputs_hidden": false
    }
   },
   "outputs": [
    {
     "name": "stdout",
     "output_type": "stream",
     "text": [
      "['company_state_code', 'company_country_code', 'investor_category_code', 'funding_round_type', 'investor_state_code', 'company_category_code', 'investor_country_code']\n"
     ]
    }
   ],
   "source": [
    "# initialize\n",
    "unique_string_cols = {}\n",
    "category_cand_cols = []\n",
    "float_no_missing_values = {}\n",
    "integer_cand_cols = []\n",
    "has_next = True\n",
    "\n",
    "## lets chunk the file for every 3225 rows <5MB size\n",
    "chunk_iter = pd.read_csv('crunchbase-investments.csv', chunksize=5000, usecols=keep_cols\\\n",
    "                         , encoding='ISO8859-1')\n",
    "\n",
    "\n",
    "# lets determine the numeric and string columns first\n",
    "for chunk in chunk_iter:         \n",
    "    for col in string_cols:\n",
    "        if not col in unique_string_cols:\n",
    "            unique_string_cols[col] = [pd.Series(chunk[col].unique())]\n",
    "        else:\n",
    "            unique_string_cols[col].append(pd.Series(chunk[col].unique()))\n",
    "            \n",
    "    for col in numeric_cols:\n",
    "        if not col in float_no_missing_values:\n",
    "            float_no_missing_values[col] = [pd.Series(chunk[col].isna().sum())]\n",
    "        else:\n",
    "            float_no_missing_values[col].append(pd.Series(chunk[col].isna().sum()))\n",
    "\n",
    "# figure out the string columns which are candidate for categories\n",
    "for col in unique_string_cols:\n",
    "    unique_string_cols[col] = pd.concat(unique_string_cols[col]).unique()\n",
    "    \n",
    "    if len(unique_string_cols[col]) <= 100:\n",
    "        category_cand_cols.append(col)\n",
    "        \n",
    "# figure out the numerical columns which are candidate for integers\n",
    "for col in float_no_missing_values:\n",
    "    float_no_missing_values[col] = pd.concat(float_no_missing_values[col]).sum()\n",
    "    \n",
    "    if float_no_missing_values[col] == 0:\n",
    "        integer_cand_cols.append(col)\n",
    "    \n",
    "print(category_cand_cols)"
   ]
  },
  {
   "cell_type": "code",
   "execution_count": 71,
   "metadata": {
    "collapsed": false,
    "jupyter": {
     "outputs_hidden": false
    }
   },
   "outputs": [
    {
     "name": "stdout",
     "output_type": "stream",
     "text": [
      "[]\n"
     ]
    }
   ],
   "source": [
    "print(integer_cand_cols)"
   ]
  },
  {
   "cell_type": "code",
   "execution_count": 72,
   "metadata": {
    "collapsed": false,
    "jupyter": {
     "outputs_hidden": false
    }
   },
   "outputs": [
    {
     "name": "stdout",
     "output_type": "stream",
     "text": [
      "Number of Unique Values for 'company_state_code': 51\n",
      "Number of Unique Values for 'company_country_code': 3\n",
      "Number of Unique Values for 'company_region': 547\n",
      "Number of Unique Values for 'investor_category_code': 34\n",
      "Number of Unique Values for 'investor_region': 586\n",
      "Number of Unique Values for 'investor_city': 991\n",
      "Number of Unique Values for 'funding_round_type': 10\n",
      "Number of Unique Values for 'company_city': 1230\n",
      "Number of Unique Values for 'company_name': 11574\n",
      "Number of Unique Values for 'investor_state_code': 51\n",
      "Number of Unique Values for 'company_category_code': 44\n",
      "Number of Unique Values for 'investor_name': 10466\n",
      "Number of Unique Values for 'investor_country_code': 73\n"
     ]
    }
   ],
   "source": [
    "for col in unique_string_cols:\n",
    "    print(\"Number of Unique Values for '{}': {}\".format(col, len(unique_string_cols[col])))"
   ]
  },
  {
   "cell_type": "code",
   "execution_count": 73,
   "metadata": {
    "collapsed": false,
    "jupyter": {
     "outputs_hidden": false
    }
   },
   "outputs": [
    {
     "name": "stdout",
     "output_type": "stream",
     "text": [
      "Number of Null Values for 'raised_amount_usd': 3599\n"
     ]
    }
   ],
   "source": [
    "for col in float_no_missing_values:\n",
    "    print(\"Number of Null Values for '{}': {}\".format(col, float_no_missing_values[col]))"
   ]
  },
  {
   "cell_type": "code",
   "execution_count": 75,
   "metadata": {
    "collapsed": false,
    "jupyter": {
     "outputs_hidden": false
    }
   },
   "outputs": [
    {
     "name": "stdout",
     "output_type": "stream",
     "text": [
      "Number of rows: 52870 & Total Memory in MB: 20.86\n"
     ]
    }
   ],
   "source": [
    "# initialize\n",
    "total_memory = 0\n",
    "num_rows = 0\n",
    "\n",
    "## lets chunk the file for every 3225 rows <5MB size\n",
    "chunk_iter = pd.read_csv('crunchbase-investments.csv', chunksize=5000, usecols=keep_cols\\\n",
    "                         , encoding='ISO8859-1')\n",
    "\n",
    "\n",
    "# lets determine the numeric and string columns first\n",
    "for chunk in chunk_iter:\n",
    "        \n",
    "    # lets handle date columns\n",
    "    for col in date_cols:\n",
    "        chunk[col] = pd.to_datetime(chunk[col], format='%Y-%m-%d')\n",
    "        \n",
    "    for col in category_cand_cols:\n",
    "        chunk[col] = chunk[col].astype('category')\n",
    "    \n",
    "    for col in integer_cand_cols:\n",
    "        chunk[col] = chunk[col].astype('int')\n",
    "        chunk[col] = pd.to_numeric(chunk[col], downcast='integer')\n",
    "        \n",
    "    for col in set(numeric_cols)- set(integer_cand_cols):\n",
    "        chunk[col] = chunk[col].astype('float')\n",
    "        chunk[col] = pd.to_numeric(chunk[col], downcast='float')\n",
    "        \n",
    "    # lets calculate the total memory\n",
    "    total_memory += chunk.memory_usage(deep=True).sum()\n",
    "    \n",
    "    # lets add the chunk rows to total rows\n",
    "    num_rows += len(chunk)\n",
    "        \n",
    "# total memeory in MB\n",
    "total_memory = total_memory/(1024 ** 2)\n",
    "\n",
    "print('Number of rows: {} & Total Memory in MB: {}'. format(num_rows, round(total_memory,2)))\n"
   ]
  },
  {
   "cell_type": "code",
   "execution_count": 77,
   "metadata": {
    "collapsed": false,
    "jupyter": {
     "outputs_hidden": false
    }
   },
   "outputs": [],
   "source": [
    "import sqlite3\n",
    "conn = sqlite3.connect('crunch.db')\n",
    "chunk_iter = pd.read_csv('crunchbase-investments.csv', chunksize=5000, usecols=keep_cols\\\n",
    "                         , encoding='ISO8859-1')\n",
    "\n",
    "\n",
    "# lets determine the numeric and string columns first\n",
    "for chunk in chunk_iter:\n",
    "        \n",
    "    # lets handle date columns\n",
    "    for col in date_cols:\n",
    "        chunk[col] = pd.to_datetime(chunk[col], format='%Y-%m-%d')\n",
    "        \n",
    "    for col in category_cand_cols:\n",
    "        chunk[col] = chunk[col].astype('category')\n",
    "    \n",
    "    for col in integer_cand_cols:\n",
    "        chunk[col] = chunk[col].astype('int')\n",
    "        chunk[col] = pd.to_numeric(chunk[col], downcast='integer')\n",
    "        \n",
    "    for col in set(numeric_cols)- set(integer_cand_cols):\n",
    "        chunk[col] = chunk[col].astype('float')\n",
    "        chunk[col] = pd.to_numeric(chunk[col], downcast='float')\n",
    "\n",
    "    # load into investments table\n",
    "    chunk.to_sql(\"investments\", conn, if_exists='append', index=False)"
   ]
  },
  {
   "cell_type": "code",
   "execution_count": 80,
   "metadata": {
    "collapsed": false,
    "jupyter": {
     "outputs_hidden": false
    }
   },
   "outputs": [
    {
     "name": "stdout",
     "output_type": "stream",
     "text": [
      "<class 'pandas.core.frame.DataFrame'>\n",
      "RangeIndex: 2870 entries, 50000 to 52869\n",
      "Data columns (total 15 columns):\n",
      "company_name              2870 non-null object\n",
      "company_category_code     2860 non-null category\n",
      "company_country_code      2870 non-null category\n",
      "company_state_code        2841 non-null category\n",
      "company_region            2870 non-null object\n",
      "company_city              2825 non-null object\n",
      "investor_name             2870 non-null object\n",
      "investor_category_code    0 non-null category\n",
      "investor_country_code     0 non-null category\n",
      "investor_state_code       0 non-null category\n",
      "investor_region           2870 non-null object\n",
      "investor_city             0 non-null float64\n",
      "funding_round_type        2870 non-null category\n",
      "funded_at                 2870 non-null datetime64[ns]\n",
      "raised_amount_usd         2580 non-null float32\n",
      "dtypes: category(7), datetime64[ns](1), float32(1), float64(1), object(5)\n",
      "memory usage: 1011.8 KB\n"
     ]
    }
   ],
   "source": [
    "chunk.info(memory_usage='deep')"
   ]
  },
  {
   "cell_type": "code",
   "execution_count": 82,
   "metadata": {
    "collapsed": false,
    "jupyter": {
     "outputs_hidden": false
    }
   },
   "outputs": [
    {
     "data": {
      "text/plain": [
       "[(0, 'company_name', 'TEXT', 0, None, 0),\n",
       " (1, 'company_category_code', 'TEXT', 0, None, 0),\n",
       " (2, 'company_country_code', 'TEXT', 0, None, 0),\n",
       " (3, 'company_state_code', 'TEXT', 0, None, 0),\n",
       " (4, 'company_region', 'TEXT', 0, None, 0),\n",
       " (5, 'company_city', 'TEXT', 0, None, 0),\n",
       " (6, 'investor_name', 'TEXT', 0, None, 0),\n",
       " (7, 'investor_category_code', 'TEXT', 0, None, 0),\n",
       " (8, 'investor_country_code', 'TEXT', 0, None, 0),\n",
       " (9, 'investor_state_code', 'TEXT', 0, None, 0),\n",
       " (10, 'investor_region', 'TEXT', 0, None, 0),\n",
       " (11, 'investor_city', 'TEXT', 0, None, 0),\n",
       " (12, 'funding_round_type', 'TEXT', 0, None, 0),\n",
       " (13, 'funded_at', 'TIMESTAMP', 0, None, 0),\n",
       " (14, 'raised_amount_usd', 'REAL', 0, None, 0)]"
      ]
     },
     "execution_count": 82,
     "metadata": {},
     "output_type": "execute_result"
    }
   ],
   "source": [
    "cur = conn.cursor()\n",
    "cur.execute('pragma table_info(investments)')\n",
    "results_df = cur.fetchall()\n",
    "results_df"
   ]
  },
  {
   "cell_type": "code",
   "execution_count": 84,
   "metadata": {
    "collapsed": false,
    "jupyter": {
     "outputs_hidden": false
    }
   },
   "outputs": [
    {
     "data": {
      "text/plain": [
       "[(52870,)]"
      ]
     },
     "execution_count": 84,
     "metadata": {},
     "output_type": "execute_result"
    }
   ],
   "source": [
    "cur.execute('select count(*) from investments')\n",
    "cur.fetchall()"
   ]
  },
  {
   "cell_type": "code",
   "execution_count": 88,
   "metadata": {
    "collapsed": false,
    "jupyter": {
     "outputs_hidden": false
    }
   },
   "outputs": [
    {
     "data": {
      "text/html": [
       "<div>\n",
       "<style scoped>\n",
       "    .dataframe tbody tr th:only-of-type {\n",
       "        vertical-align: middle;\n",
       "    }\n",
       "\n",
       "    .dataframe tbody tr th {\n",
       "        vertical-align: top;\n",
       "    }\n",
       "\n",
       "    .dataframe thead th {\n",
       "        text-align: right;\n",
       "    }\n",
       "</style>\n",
       "<table border=\"1\" class=\"dataframe\">\n",
       "  <thead>\n",
       "    <tr style=\"text-align: right;\">\n",
       "      <th></th>\n",
       "      <th>company_name</th>\n",
       "      <th>company_category_code</th>\n",
       "      <th>company_country_code</th>\n",
       "      <th>company_state_code</th>\n",
       "      <th>company_region</th>\n",
       "      <th>company_city</th>\n",
       "      <th>investor_name</th>\n",
       "      <th>investor_category_code</th>\n",
       "      <th>investor_country_code</th>\n",
       "      <th>investor_state_code</th>\n",
       "      <th>investor_region</th>\n",
       "      <th>investor_city</th>\n",
       "      <th>funding_round_type</th>\n",
       "      <th>funded_at</th>\n",
       "      <th>raised_amount_usd</th>\n",
       "    </tr>\n",
       "  </thead>\n",
       "  <tbody>\n",
       "    <tr>\n",
       "      <th>0</th>\n",
       "      <td>AdverCar</td>\n",
       "      <td>advertising</td>\n",
       "      <td>USA</td>\n",
       "      <td>CA</td>\n",
       "      <td>SF Bay</td>\n",
       "      <td>San Francisco</td>\n",
       "      <td>1-800-FLOWERS.COM</td>\n",
       "      <td>None</td>\n",
       "      <td>USA</td>\n",
       "      <td>NY</td>\n",
       "      <td>New York</td>\n",
       "      <td>New York</td>\n",
       "      <td>series-a</td>\n",
       "      <td>2012-10-30 00:00:00</td>\n",
       "      <td>2000000.0</td>\n",
       "    </tr>\n",
       "    <tr>\n",
       "      <th>1</th>\n",
       "      <td>LaunchGram</td>\n",
       "      <td>news</td>\n",
       "      <td>USA</td>\n",
       "      <td>CA</td>\n",
       "      <td>SF Bay</td>\n",
       "      <td>Mountain View</td>\n",
       "      <td>10Xelerator</td>\n",
       "      <td>finance</td>\n",
       "      <td>USA</td>\n",
       "      <td>OH</td>\n",
       "      <td>Columbus</td>\n",
       "      <td>Columbus</td>\n",
       "      <td>other</td>\n",
       "      <td>2012-01-23 00:00:00</td>\n",
       "      <td>20000.0</td>\n",
       "    </tr>\n",
       "    <tr>\n",
       "      <th>2</th>\n",
       "      <td>uTaP</td>\n",
       "      <td>messaging</td>\n",
       "      <td>USA</td>\n",
       "      <td>None</td>\n",
       "      <td>United States - Other</td>\n",
       "      <td>None</td>\n",
       "      <td>10Xelerator</td>\n",
       "      <td>finance</td>\n",
       "      <td>USA</td>\n",
       "      <td>OH</td>\n",
       "      <td>Columbus</td>\n",
       "      <td>Columbus</td>\n",
       "      <td>other</td>\n",
       "      <td>2012-01-01 00:00:00</td>\n",
       "      <td>20000.0</td>\n",
       "    </tr>\n",
       "    <tr>\n",
       "      <th>3</th>\n",
       "      <td>ZoopShop</td>\n",
       "      <td>software</td>\n",
       "      <td>USA</td>\n",
       "      <td>OH</td>\n",
       "      <td>Columbus</td>\n",
       "      <td>columbus</td>\n",
       "      <td>10Xelerator</td>\n",
       "      <td>finance</td>\n",
       "      <td>USA</td>\n",
       "      <td>OH</td>\n",
       "      <td>Columbus</td>\n",
       "      <td>Columbus</td>\n",
       "      <td>angel</td>\n",
       "      <td>2012-02-15 00:00:00</td>\n",
       "      <td>20000.0</td>\n",
       "    </tr>\n",
       "    <tr>\n",
       "      <th>4</th>\n",
       "      <td>eFuneral</td>\n",
       "      <td>web</td>\n",
       "      <td>USA</td>\n",
       "      <td>OH</td>\n",
       "      <td>Cleveland</td>\n",
       "      <td>Cleveland</td>\n",
       "      <td>10Xelerator</td>\n",
       "      <td>finance</td>\n",
       "      <td>USA</td>\n",
       "      <td>OH</td>\n",
       "      <td>Columbus</td>\n",
       "      <td>Columbus</td>\n",
       "      <td>other</td>\n",
       "      <td>2011-09-08 00:00:00</td>\n",
       "      <td>20000.0</td>\n",
       "    </tr>\n",
       "  </tbody>\n",
       "</table>\n",
       "</div>"
      ],
      "text/plain": [
       "  company_name company_category_code company_country_code company_state_code  \\\n",
       "0     AdverCar           advertising                  USA                 CA   \n",
       "1   LaunchGram                  news                  USA                 CA   \n",
       "2         uTaP             messaging                  USA               None   \n",
       "3     ZoopShop              software                  USA                 OH   \n",
       "4     eFuneral                   web                  USA                 OH   \n",
       "\n",
       "          company_region   company_city      investor_name  \\\n",
       "0                 SF Bay  San Francisco  1-800-FLOWERS.COM   \n",
       "1                 SF Bay  Mountain View        10Xelerator   \n",
       "2  United States - Other           None        10Xelerator   \n",
       "3               Columbus       columbus        10Xelerator   \n",
       "4              Cleveland      Cleveland        10Xelerator   \n",
       "\n",
       "  investor_category_code investor_country_code investor_state_code  \\\n",
       "0                   None                   USA                  NY   \n",
       "1                finance                   USA                  OH   \n",
       "2                finance                   USA                  OH   \n",
       "3                finance                   USA                  OH   \n",
       "4                finance                   USA                  OH   \n",
       "\n",
       "  investor_region investor_city funding_round_type            funded_at  \\\n",
       "0        New York      New York           series-a  2012-10-30 00:00:00   \n",
       "1        Columbus      Columbus              other  2012-01-23 00:00:00   \n",
       "2        Columbus      Columbus              other  2012-01-01 00:00:00   \n",
       "3        Columbus      Columbus              angel  2012-02-15 00:00:00   \n",
       "4        Columbus      Columbus              other  2011-09-08 00:00:00   \n",
       "\n",
       "   raised_amount_usd  \n",
       "0          2000000.0  \n",
       "1            20000.0  \n",
       "2            20000.0  \n",
       "3            20000.0  \n",
       "4            20000.0  "
      ]
     },
     "execution_count": 88,
     "metadata": {},
     "output_type": "execute_result"
    }
   ],
   "source": [
    "investments = pd.read_sql('select * from investments limit 10',conn)\n",
    "investments.head(5)"
   ]
  },
  {
   "cell_type": "code",
   "execution_count": null,
   "metadata": {
    "collapsed": true,
    "jupyter": {
     "outputs_hidden": true
    }
   },
   "outputs": [],
   "source": []
  }
 ],
 "metadata": {
  "anaconda-cloud": {},
  "kernelspec": {
   "display_name": "Python 3",
   "language": "python",
   "name": "python3"
  },
  "language_info": {
   "codemirror_mode": {
    "name": "ipython",
    "version": 3
   },
   "file_extension": ".py",
   "mimetype": "text/x-python",
   "name": "python",
   "nbconvert_exporter": "python",
   "pygments_lexer": "ipython3",
   "version": "3.7.2"
  }
 },
 "nbformat": 4,
 "nbformat_minor": 4
}
