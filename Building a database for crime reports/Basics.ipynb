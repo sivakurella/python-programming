{
 "cells": [
  {
   "cell_type": "markdown",
   "metadata": {},
   "source": [
    "<h1 style=\"text-align:center;\">Analyzing Crimes Data</h1>"
   ]
  },
  {
   "cell_type": "markdown",
   "metadata": {},
   "source": [
    "## Creating crimes_db and boston_crimes tables in crimes schema. We are going to read the data from boston.csv files"
   ]
  },
  {
   "cell_type": "code",
   "execution_count": 45,
   "metadata": {
    "collapsed": false
   },
   "outputs": [
    {
     "ename": "ProgrammingError",
     "evalue": "database \"crime_db\" already exists\n",
     "output_type": "error",
     "traceback": [
      "\u001b[1;31m\u001b[0m",
      "\u001b[1;31mProgrammingError\u001b[0mTraceback (most recent call last)",
      "\u001b[1;32m<ipython-input-45-1dd49b7f1a42>\u001b[0m in \u001b[0;36m<module>\u001b[1;34m()\u001b[0m\n\u001b[0;32m      5\u001b[0m \u001b[1;31m# lets turn on the autocommit so we can create the database\u001b[0m\u001b[1;33m\u001b[0m\u001b[1;33m\u001b[0m\u001b[0m\n\u001b[0;32m      6\u001b[0m \u001b[0mconn\u001b[0m\u001b[1;33m.\u001b[0m\u001b[0mautocommit\u001b[0m \u001b[1;33m=\u001b[0m \u001b[1;32mTrue\u001b[0m\u001b[1;33m\u001b[0m\u001b[0m\n\u001b[1;32m----> 7\u001b[1;33m \u001b[0mcur\u001b[0m\u001b[1;33m.\u001b[0m\u001b[0mexecute\u001b[0m\u001b[1;33m(\u001b[0m\u001b[1;34m'CREATE DATABASE crime_db OWNER dq'\u001b[0m\u001b[1;33m)\u001b[0m\u001b[1;33m\u001b[0m\u001b[0m\n\u001b[0m",
      "\u001b[1;31mProgrammingError\u001b[0m: database \"crime_db\" already exists\n"
     ]
    }
   ],
   "source": [
    "import psycopg2\n",
    "conn = psycopg2.connect(dbname='dq', user='dq')\n",
    "cur = conn.cursor()\n",
    "\n",
    "# lets turn on the autocommit so we can create the database\n",
    "conn.autocommit = True\n",
    "cur.execute('CREATE DATABASE crime_db OWNER dq')"
   ]
  },
  {
   "cell_type": "code",
   "execution_count": 46,
   "metadata": {
    "collapsed": true
   },
   "outputs": [],
   "source": [
    "# lets disconnect from database\n",
    "conn.close()"
   ]
  },
  {
   "cell_type": "markdown",
   "metadata": {},
   "source": [
    "### Lets create the schema crimes in crimes_db database"
   ]
  },
  {
   "cell_type": "code",
   "execution_count": 47,
   "metadata": {
    "collapsed": true
   },
   "outputs": [],
   "source": [
    "conn = psycopg2.connect(dbname='crime_db', user='dq')\n",
    "cur = conn.cursor()"
   ]
  },
  {
   "cell_type": "code",
   "execution_count": 48,
   "metadata": {
    "collapsed": true
   },
   "outputs": [],
   "source": [
    "cur.execute('CREATE SCHEMA crimes')"
   ]
  },
  {
   "cell_type": "markdown",
   "metadata": {},
   "source": [
    "### Lets see the list of schemas in crimes_db"
   ]
  },
  {
   "cell_type": "code",
   "execution_count": 49,
   "metadata": {
    "collapsed": false
   },
   "outputs": [
    {
     "name": "stdout",
     "output_type": "stream",
     "text": [
      "['pg_toast', 'pg_temp_1', 'pg_toast_temp_1', 'pg_catalog', 'public', 'information_schema', 'crimes']\n"
     ]
    }
   ],
   "source": [
    "cur.execute('SELECT schema_name FROM information_schema.schemata')\n",
    "print([row[0] for row in cur.fetchall()])"
   ]
  },
  {
   "cell_type": "markdown",
   "metadata": {
    "collapsed": true
   },
   "source": [
    "### Lets read the file and see how the data is ?"
   ]
  },
  {
   "cell_type": "code",
   "execution_count": 7,
   "metadata": {
    "collapsed": false
   },
   "outputs": [],
   "source": [
    "import csv\n",
    "with open('boston.csv', mode='r') as f:\n",
    "    rdr = csv.reader(f)\n",
    "    \n",
    "    # lets get the header\n",
    "    col_headers = next(rdr)\n",
    "    rows = [row for row in rdr]\n",
    "    \n",
    "# first row\n",
    "first_row = rows[0] "
   ]
  },
  {
   "cell_type": "markdown",
   "metadata": {},
   "source": [
    "### Print Header"
   ]
  },
  {
   "cell_type": "code",
   "execution_count": 8,
   "metadata": {
    "collapsed": false
   },
   "outputs": [
    {
     "name": "stdout",
     "output_type": "stream",
     "text": [
      "['incident_number', 'offense_code', 'description', 'date', 'day_of_the_week', 'lat', 'long']\n"
     ]
    }
   ],
   "source": [
    "print(col_headers)"
   ]
  },
  {
   "cell_type": "markdown",
   "metadata": {},
   "source": [
    "### Print first row"
   ]
  },
  {
   "cell_type": "code",
   "execution_count": 9,
   "metadata": {
    "collapsed": false
   },
   "outputs": [
    {
     "name": "stdout",
     "output_type": "stream",
     "text": [
      "['1', '619', 'LARCENY ALL OTHERS', '2018-09-02', 'Sunday', '42.35779134', '-71.13937053']\n"
     ]
    }
   ],
   "source": [
    "print(first_row)"
   ]
  },
  {
   "cell_type": "markdown",
   "metadata": {
    "collapsed": true
   },
   "source": [
    "### Create a function which creates the distinct values "
   ]
  },
  {
   "cell_type": "code",
   "execution_count": 23,
   "metadata": {
    "collapsed": true
   },
   "outputs": [],
   "source": [
    "import csv\n",
    "def get_col_value_set(csv_filename, col_index):\n",
    "    # set for columns\n",
    "    col_set = set()\n",
    "    \n",
    "    with open(csv_filename, mode='r') as f:\n",
    "        rdr = csv.reader(f)\n",
    "        \n",
    "        # lets get the header\n",
    "        header = next(rdr)\n",
    "        \n",
    "        # add the col data to the set\n",
    "        col_set = {row[col_index] for row in rdr}\n",
    "        \n",
    "    # return the col_set\n",
    "    return col_set"
   ]
  },
  {
   "cell_type": "markdown",
   "metadata": {},
   "source": [
    "### Lets print all the distinct values of each column"
   ]
  },
  {
   "cell_type": "code",
   "execution_count": 20,
   "metadata": {
    "collapsed": false
   },
   "outputs": [
    {
     "name": "stdout",
     "output_type": "stream",
     "text": [
      "Python 2.7.6\r\n"
     ]
    }
   ],
   "source": [
    "!python --version"
   ]
  },
  {
   "cell_type": "code",
   "execution_count": 26,
   "metadata": {
    "collapsed": false
   },
   "outputs": [
    {
     "name": "stdout",
     "output_type": "stream",
     "text": [
      "Column Name: 'incident_number' and distinct Values: 298329\n",
      "Column Name: 'offense_code' and distinct Values: 219\n",
      "Column Name: 'description' and distinct Values: 239\n",
      "Column Name: 'date' and distinct Values: 1177\n",
      "Column Name: 'day_of_the_week' and distinct Values: 7\n",
      "Column Name: 'lat' and distinct Values: 18177\n",
      "Column Name: 'long' and distinct Values: 18177\n"
     ]
    }
   ],
   "source": [
    "csv_filename = 'boston.csv'\n",
    "for col_num in range(len(col_headers)):\n",
    "    print(\"Column Name: '{headers}' and distinct Values: {set_length}\".format(headers = \\\n",
    "                                                                            col_headers[col_num], \\\n",
    "                                                                           set_length = \\\n",
    "                                                                            len(get_col_value_set(csv_filename, col_num)) ))"
   ]
  },
  {
   "cell_type": "markdown",
   "metadata": {},
   "source": [
    "### Finding the longest value in the description column"
   ]
  },
  {
   "cell_type": "code",
   "execution_count": 27,
   "metadata": {
    "collapsed": true
   },
   "outputs": [],
   "source": [
    "longest_value_desc = max({len(col) for col in get_col_value_set(csv_filename, 2)})"
   ]
  },
  {
   "cell_type": "code",
   "execution_count": 28,
   "metadata": {
    "collapsed": false
   },
   "outputs": [
    {
     "name": "stdout",
     "output_type": "stream",
     "text": [
      "58\n"
     ]
    }
   ],
   "source": [
    "print(longest_value_desc)"
   ]
  },
  {
   "cell_type": "code",
   "execution_count": 30,
   "metadata": {
    "collapsed": false
   },
   "outputs": [
    {
     "data": {
      "text/plain": [
       "['LICENSE PREMISE VIOLATION',\n",
       " 'ROBBERY - CAR JACKING',\n",
       " 'DRUGS - POSSESSION OF DRUG PARAPHANALIA',\n",
       " 'B&E NON-RESIDENCE DAY - NO FORCE']"
      ]
     },
     "execution_count": 30,
     "metadata": {},
     "output_type": "execute_result"
    }
   ],
   "source": [
    "list(get_col_value_set(csv_filename, 2))[:4]"
   ]
  },
  {
   "cell_type": "markdown",
   "metadata": {},
   "source": [
    "### Creating boston crimes table"
   ]
  },
  {
   "cell_type": "markdown",
   "metadata": {},
   "source": [
    "#### Lets get the longest value"
   ]
  },
  {
   "cell_type": "code",
   "execution_count": 32,
   "metadata": {
    "collapsed": false
   },
   "outputs": [
    {
     "name": "stdout",
     "output_type": "stream",
     "text": [
      "Column Name: 'incident_number' and Longest Values length: 6\n",
      "Column Name: 'offense_code' and Longest Values length: 4\n",
      "Column Name: 'description' and Longest Values length: 58\n",
      "Column Name: 'date' and Longest Values length: 10\n",
      "Column Name: 'day_of_the_week' and Longest Values length: 9\n",
      "Column Name: 'lat' and Longest Values length: 11\n",
      "Column Name: 'long' and Longest Values length: 12\n"
     ]
    }
   ],
   "source": [
    "for col_num in range(len(col_headers)):\n",
    "    print(\"Column Name: '{headers}' and Longest Values length: {set_length}\".format(headers = \\\n",
    "                                                                            col_headers[col_num], \\\n",
    "                                                                           set_length = \\\n",
    "                                                                            max({len(col) for col in get_col_value_set(csv_filename, col_num)}) ))"
   ]
  },
  {
   "cell_type": "markdown",
   "metadata": {},
   "source": [
    "#### Lets sample some data"
   ]
  },
  {
   "cell_type": "code",
   "execution_count": 33,
   "metadata": {
    "collapsed": false
   },
   "outputs": [
    {
     "name": "stdout",
     "output_type": "stream",
     "text": [
      "Column Name: 'incident_number' and sample Values: ['238726', '145301', '186298', '249058']\n",
      "Column Name: 'offense_code' and sample Values: ['2010', '3301', '1402', '714']\n",
      "Column Name: 'description' and sample Values: ['LICENSE PREMISE VIOLATION', 'ROBBERY - CAR JACKING', 'DRUGS - POSSESSION OF DRUG PARAPHANALIA', 'B&E NON-RESIDENCE DAY - NO FORCE']\n",
      "Column Name: 'date' and sample Values: ['2016-05-03', '2015-12-05', '2017-09-03', '2016-03-22']\n",
      "Column Name: 'day_of_the_week' and sample Values: ['Tuesday', 'Saturday', 'Monday', 'Friday']\n",
      "Column Name: 'lat' and sample Values: ['42.27240529', '42.28972238', '42.32851135', '42.28519915']\n",
      "Column Name: 'long' and sample Values: ['-71.11469006', '-71.06200077', '-71.10514082', '-71.06719268']\n"
     ]
    }
   ],
   "source": [
    "for col_num in range(len(col_headers)):\n",
    "    print(\"Column Name: '{headers}' and sample Values: {set_length}\".format(headers = \\\n",
    "                                                                            col_headers[col_num], \\\n",
    "                                                                           set_length = \\\n",
    "                                                                            list(get_col_value_set(csv_filename, col_num))[:4] ))"
   ]
  },
  {
   "cell_type": "markdown",
   "metadata": {},
   "source": [
    "#### Lets Create enumerated type for days_of_the_week"
   ]
  },
  {
   "cell_type": "code",
   "execution_count": 98,
   "metadata": {
    "collapsed": false
   },
   "outputs": [],
   "source": [
    "cur.execute('DROP TYPE IF EXISTS days_of_week;')\n",
    "cur.execute('CREATE TYPE days_of_week AS ENUM (%s, %s, %s, %s, %s, %s, %s)', list(get_col_value_set(csv_filename, 4)))"
   ]
  },
  {
   "cell_type": "code",
   "execution_count": 107,
   "metadata": {
    "collapsed": false
   },
   "outputs": [],
   "source": [
    "cur.execute(''' select n.nspname as enum_schema,  \n",
    "    t.typname as enum_name,\n",
    "    string_agg(e.enumlabel, ', ') as enum_value\n",
    "from pg_type t \n",
    "    join pg_enum e on t.oid = e.enumtypid  \n",
    "    join pg_catalog.pg_namespace n ON n.oid = t.typnamespace\n",
    "group by enum_schema, enum_name;\n",
    "''')"
   ]
  },
  {
   "cell_type": "code",
   "execution_count": 108,
   "metadata": {
    "collapsed": false
   },
   "outputs": [
    {
     "data": {
      "text/plain": [
       "[('public',\n",
       "  'days_of_week',\n",
       "  'Tuesday, Saturday, Monday, Friday, Thursday, Wednesday, Sunday')]"
      ]
     },
     "execution_count": 108,
     "metadata": {},
     "output_type": "execute_result"
    }
   ],
   "source": [
    "cur.fetchall()"
   ]
  },
  {
   "cell_type": "code",
   "execution_count": 109,
   "metadata": {
    "collapsed": true
   },
   "outputs": [],
   "source": [
    "conn.commit()"
   ]
  },
  {
   "cell_type": "markdown",
   "metadata": {},
   "source": [
    "### Lets create the table boston_crimes"
   ]
  },
  {
   "cell_type": "code",
   "execution_count": 110,
   "metadata": {
    "collapsed": false
   },
   "outputs": [],
   "source": [
    "cur.execute('''CREATE TABLE crimes.boston_crimes (incident_number integer, \\\n",
    "offense_code varchar(10), description varchar(255),\\\n",
    "crime_date date, crime_day_of_week days_of_week,\\\n",
    "latitude decimal(10,8), longitide decimal(10,8));''')"
   ]
  },
  {
   "cell_type": "code",
   "execution_count": 131,
   "metadata": {
    "collapsed": true
   },
   "outputs": [],
   "source": [
    "conn.commit()"
   ]
  },
  {
   "cell_type": "code",
   "execution_count": 118,
   "metadata": {
    "collapsed": false
   },
   "outputs": [],
   "source": [
    "cur.execute(\"SELECT * FROM pg_catalog.pg_tables where schemaname='crimes';\")"
   ]
  },
  {
   "cell_type": "code",
   "execution_count": 119,
   "metadata": {
    "collapsed": false
   },
   "outputs": [
    {
     "data": {
      "text/plain": [
       "[('crimes', 'boston_crimes', 'dq', None, False, False, False)]"
      ]
     },
     "execution_count": 119,
     "metadata": {},
     "output_type": "execute_result"
    }
   ],
   "source": [
    "cur.fetchall()"
   ]
  },
  {
   "cell_type": "markdown",
   "metadata": {},
   "source": [
    "### Lets load the table"
   ]
  },
  {
   "cell_type": "code",
   "execution_count": 134,
   "metadata": {
    "collapsed": false
   },
   "outputs": [],
   "source": [
    "import csv\n",
    "import datetime\n",
    "with open('boston.csv', mode='r') as f:\n",
    "    rdr = csv.reader(f)\n",
    "    \n",
    "    # lets get the header\n",
    "    col_headers = next(rdr)\n",
    "    \n",
    "    # insert into boston_crimes table\n",
    "    for row in rdr:\n",
    "        cur.execute('INSERT INTO crimes.boston_crimes VALUES (%s, %s, %s, %s, %s, %s, %s)',\\\n",
    "                    [int(row[0]), row[1], row[2], datetime.datetime.strptime(row[3],'%Y-%m-%d'),\\\n",
    "                    row[4], row[5], row[6]])\n",
    "    \n"
   ]
  },
  {
   "cell_type": "code",
   "execution_count": 138,
   "metadata": {
    "collapsed": false
   },
   "outputs": [],
   "source": [
    "cur.execute('SELECT * FROM crimes.boston_crimes limit 2;')"
   ]
  },
  {
   "cell_type": "code",
   "execution_count": 139,
   "metadata": {
    "collapsed": false
   },
   "outputs": [
    {
     "data": {
      "text/plain": [
       "[(1,\n",
       "  '619',\n",
       "  'LARCENY ALL OTHERS',\n",
       "  datetime.date(2018, 9, 2),\n",
       "  'Sunday',\n",
       "  Decimal('42.35779134'),\n",
       "  Decimal('-71.13937053')),\n",
       " (2,\n",
       "  '1402',\n",
       "  'VANDALISM',\n",
       "  datetime.date(2018, 8, 21),\n",
       "  'Tuesday',\n",
       "  Decimal('42.30682138'),\n",
       "  Decimal('-71.06030035'))]"
      ]
     },
     "execution_count": 139,
     "metadata": {},
     "output_type": "execute_result"
    }
   ],
   "source": [
    "cur.fetchall()"
   ]
  },
  {
   "cell_type": "code",
   "execution_count": 144,
   "metadata": {
    "collapsed": true
   },
   "outputs": [],
   "source": [
    "conn.commit()"
   ]
  },
  {
   "cell_type": "markdown",
   "metadata": {},
   "source": [
    "### lets revoke all the privs for public group on public schema and crimes_db"
   ]
  },
  {
   "cell_type": "code",
   "execution_count": 209,
   "metadata": {
    "collapsed": true
   },
   "outputs": [],
   "source": [
    "cur.execute('REVOKE ALL ON SCHEMA public FROM public;')"
   ]
  },
  {
   "cell_type": "code",
   "execution_count": 210,
   "metadata": {
    "collapsed": false
   },
   "outputs": [],
   "source": [
    "cur.execute('REVOKE ALL ON DATABASE crime_db FROM public;')"
   ]
  },
  {
   "cell_type": "code",
   "execution_count": 211,
   "metadata": {
    "collapsed": true
   },
   "outputs": [],
   "source": [
    "conn.commit()"
   ]
  },
  {
   "cell_type": "markdown",
   "metadata": {},
   "source": [
    "### Lets create two groups readonly n readwrite"
   ]
  },
  {
   "cell_type": "code",
   "execution_count": 149,
   "metadata": {
    "collapsed": true
   },
   "outputs": [],
   "source": [
    "cur.execute('CREATE GROUP readonly NOLOGIN;')"
   ]
  },
  {
   "cell_type": "code",
   "execution_count": 150,
   "metadata": {
    "collapsed": true
   },
   "outputs": [],
   "source": [
    "cur.execute('CREATE GROUP readwrite NOLOGIN;')"
   ]
  },
  {
   "cell_type": "code",
   "execution_count": 151,
   "metadata": {
    "collapsed": true
   },
   "outputs": [],
   "source": [
    "conn.commit()"
   ]
  },
  {
   "cell_type": "code",
   "execution_count": 177,
   "metadata": {
    "collapsed": true
   },
   "outputs": [],
   "source": [
    "cur.execute('GRANT CONNECT ON DATABASE crime_db TO readonly;')"
   ]
  },
  {
   "cell_type": "code",
   "execution_count": 178,
   "metadata": {
    "collapsed": true
   },
   "outputs": [],
   "source": [
    "cur.execute('GRANT CONNECT ON DATABASE crime_db TO readwrite;')"
   ]
  },
  {
   "cell_type": "code",
   "execution_count": 179,
   "metadata": {
    "collapsed": true
   },
   "outputs": [],
   "source": [
    "cur.execute('GRANT USAGE ON SCHEMA crimes TO readonly')"
   ]
  },
  {
   "cell_type": "code",
   "execution_count": 180,
   "metadata": {
    "collapsed": true
   },
   "outputs": [],
   "source": [
    "cur.execute('GRANT USAGE ON SCHEMA crimes TO readwrite')"
   ]
  },
  {
   "cell_type": "code",
   "execution_count": 181,
   "metadata": {
    "collapsed": true
   },
   "outputs": [],
   "source": [
    "cur.execute('GRANT SELECT ON ALL TABLES IN SCHEMA crimes TO readonly')"
   ]
  },
  {
   "cell_type": "code",
   "execution_count": 182,
   "metadata": {
    "collapsed": true
   },
   "outputs": [],
   "source": [
    "cur.execute('GRANT SELECT, INSERT, UPDATE, DELETE ON ALL TABLES IN SCHEMA crimes TO readwrite')"
   ]
  },
  {
   "cell_type": "code",
   "execution_count": 183,
   "metadata": {
    "collapsed": true
   },
   "outputs": [],
   "source": [
    "conn.commit()"
   ]
  },
  {
   "cell_type": "markdown",
   "metadata": {},
   "source": [
    "### lets create users to login"
   ]
  },
  {
   "cell_type": "code",
   "execution_count": 194,
   "metadata": {
    "collapsed": false
   },
   "outputs": [],
   "source": [
    "cur.execute('DROP USER data_analyst;')\n",
    "cur.execute(\"CREATE USER data_analyst WITH PASSWORD 'secret1'\")"
   ]
  },
  {
   "cell_type": "code",
   "execution_count": 195,
   "metadata": {
    "collapsed": true
   },
   "outputs": [],
   "source": [
    "cur.execute('DROP USER data_scientist;')\n",
    "cur.execute(\"CREATE USER data_scientist WITH PASSWORD 'secret2'\")"
   ]
  },
  {
   "cell_type": "code",
   "execution_count": 196,
   "metadata": {
    "collapsed": false
   },
   "outputs": [],
   "source": [
    "cur.execute('GRANT readonly TO data_analyst;')"
   ]
  },
  {
   "cell_type": "code",
   "execution_count": 197,
   "metadata": {
    "collapsed": true
   },
   "outputs": [],
   "source": [
    "cur.execute('GRANT readwrite TO data_scientist;')"
   ]
  },
  {
   "cell_type": "code",
   "execution_count": 198,
   "metadata": {
    "collapsed": true
   },
   "outputs": [],
   "source": [
    "conn.commit()"
   ]
  },
  {
   "cell_type": "markdown",
   "metadata": {},
   "source": [
    "### lets test them"
   ]
  },
  {
   "cell_type": "code",
   "execution_count": 199,
   "metadata": {
    "collapsed": false
   },
   "outputs": [],
   "source": [
    "conn1 = psycopg2.connect(dbname='crime_db', user='data_scientist', password='secret2')\n",
    "cur1 = conn1.cursor()"
   ]
  },
  {
   "cell_type": "code",
   "execution_count": 204,
   "metadata": {
    "collapsed": true
   },
   "outputs": [],
   "source": [
    "cur1.execute(\"\"\"SELECT grantee, privilege_type\n",
    "    FROM information_schema.table_privileges\n",
    "    WHERE grantee = 'readwrite';\"\"\")"
   ]
  },
  {
   "cell_type": "code",
   "execution_count": 205,
   "metadata": {
    "collapsed": false
   },
   "outputs": [
    {
     "data": {
      "text/plain": [
       "[('readwrite', 'INSERT'),\n",
       " ('readwrite', 'SELECT'),\n",
       " ('readwrite', 'UPDATE'),\n",
       " ('readwrite', 'DELETE')]"
      ]
     },
     "execution_count": 205,
     "metadata": {},
     "output_type": "execute_result"
    }
   ],
   "source": [
    "cur1.fetchall()"
   ]
  },
  {
   "cell_type": "code",
   "execution_count": 206,
   "metadata": {
    "collapsed": true
   },
   "outputs": [],
   "source": [
    "conn2 = psycopg2.connect(dbname='crime_db', user='data_analyst', password='secret1')\n",
    "cur2 = conn2.cursor()"
   ]
  },
  {
   "cell_type": "code",
   "execution_count": 207,
   "metadata": {
    "collapsed": true
   },
   "outputs": [],
   "source": [
    "cur2.execute(\"\"\"SELECT grantee, privilege_type\n",
    "    FROM information_schema.table_privileges\n",
    "    WHERE grantee = 'readonly';\"\"\")"
   ]
  },
  {
   "cell_type": "code",
   "execution_count": 208,
   "metadata": {
    "collapsed": false
   },
   "outputs": [
    {
     "data": {
      "text/plain": [
       "[('readonly', 'SELECT')]"
      ]
     },
     "execution_count": 208,
     "metadata": {},
     "output_type": "execute_result"
    }
   ],
   "source": [
    "cur2.fetchall()"
   ]
  },
  {
   "cell_type": "code",
   "execution_count": null,
   "metadata": {
    "collapsed": true
   },
   "outputs": [],
   "source": []
  }
 ],
 "metadata": {
  "kernelspec": {
   "display_name": "Python 3",
   "language": "python",
   "name": "python3"
  },
  "language_info": {
   "codemirror_mode": {
    "name": "ipython",
    "version": 3
   },
   "file_extension": ".py",
   "mimetype": "text/x-python",
   "name": "python",
   "nbconvert_exporter": "python",
   "pygments_lexer": "ipython3",
   "version": "3.4.3"
  }
 },
 "nbformat": 4,
 "nbformat_minor": 2
}
